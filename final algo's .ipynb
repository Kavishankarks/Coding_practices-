{
 "cells": [
  {
   "cell_type": "markdown",
   "id": "1b70e068",
   "metadata": {},
   "source": [
    "Kavishankar K S\n",
    "<p>\n",
    "Most frequently asked questions"
   ]
  },
  {
   "cell_type": "code",
   "execution_count": 51,
   "id": "53c4f744",
   "metadata": {},
   "outputs": [],
   "source": [
    "# 1.Generation of Permutation. Input:- permutation([1,2,3]) (without duplicates or with duplicates)\n",
    "# 2.Genearation of combination for target. Input:- combination(list, target)\n",
    "# 3.Pascal triangle dp[i][j]=dp[i-1][j-1]+dp[i-1][j]\n",
    "# 4.Number of paths\n",
    "# 5.Rat in Maze\n",
    "# 6.Generating parenthesis\n",
    "# 7.Sudoku validation\n",
    "# 8.longest common subsequence \n",
    "# 9.Maximum water \n",
    "# 10.Genrating binaries.\n",
    "# 11.Power Set generation\n",
    "#12 Rotate matrix"
   ]
  },
  {
   "cell_type": "code",
   "execution_count": 52,
   "id": "ede108cc",
   "metadata": {},
   "outputs": [
    {
     "data": {
      "text/plain": [
       "[[1, 1, 3], [1, 3, 1], [1, 1, 3], [1, 3, 1], [3, 1, 1], [3, 1, 1]]"
      ]
     },
     "execution_count": 52,
     "metadata": {},
     "output_type": "execute_result"
    }
   ],
   "source": [
    "# 1.Generation of Permutation\n",
    "def perm(s):\n",
    "    res=[]\n",
    "    dfs(s,[],res)\n",
    "    return res\n",
    "def dfs(s,path,res):\n",
    "    if not s:\n",
    "        res.append(path)\n",
    "        return \n",
    "    for i in range(len(s)):\n",
    "#         if(i>0 and s[i]==s[i-1]):  #without repation\n",
    "#                 continue\n",
    "        dfs(s[:i]+s[i+1:],path+[s[i]],res)\n",
    "perm([1,1,3])"
   ]
  },
  {
   "cell_type": "code",
   "execution_count": 53,
   "id": "90e90d78",
   "metadata": {},
   "outputs": [
    {
     "data": {
      "text/plain": [
       "[[1, 1, 1, 1],\n",
       " [1, 1, 1, 1],\n",
       " [1, 1, 2],\n",
       " [1, 1, 1, 1],\n",
       " [1, 1, 2],\n",
       " [1, 2, 1],\n",
       " [1, 1, 1, 1],\n",
       " [1, 1, 2],\n",
       " [1, 3],\n",
       " [2, 2],\n",
       " [2, 1, 1],\n",
       " [2, 2],\n",
       " [1, 1, 1, 1],\n",
       " [1, 1, 2],\n",
       " [1, 3],\n",
       " [2, 2],\n",
       " [4]]"
      ]
     },
     "execution_count": 53,
     "metadata": {},
     "output_type": "execute_result"
    }
   ],
   "source": [
    "#combination of elements for target sum\n",
    "def comb(nums,target):\n",
    "    res=[]\n",
    "    dfs(nums,target,[],res)\n",
    "    return res\n",
    "def dfs(nums,target,path,res):\n",
    "    if(target<0):\n",
    "        return \n",
    "    if(target==0):\n",
    "        res.append(path)\n",
    "    for i in range(len(nums)):\n",
    "        dfs(nums[i:],target-nums[i],path+[nums[i]],res)\n",
    "comb([1,2,1,2,3,4,5],4)"
   ]
  },
  {
   "cell_type": "code",
   "execution_count": 158,
   "id": "afc3293b",
   "metadata": {},
   "outputs": [
    {
     "data": {
      "text/plain": [
       "[[1, 1, 1],\n",
       " [1, 1, 2],\n",
       " [1, 2, 1],\n",
       " [1, 2, 2],\n",
       " [2, 1, 1],\n",
       " [2, 1, 2],\n",
       " [2, 2, 1],\n",
       " [2, 2, 2]]"
      ]
     },
     "execution_count": 158,
     "metadata": {},
     "output_type": "execute_result"
    }
   ],
   "source": [
    "#lexigraphic combination\n",
    "def combination(n,k):\n",
    "    res=[]\n",
    "    dfs(res,[],1,n,k)\n",
    "    return res\n",
    "def dfs(res,path,ind,n,k):\n",
    "    if(k==0):\n",
    "        res.append(path)\n",
    "        return\n",
    "    for i in range(1,n+1):\n",
    "        dfs(res,path+[i],i,n,k-1)\n",
    "combination(2,3)"
   ]
  },
  {
   "cell_type": "code",
   "execution_count": 56,
   "id": "f26384ff",
   "metadata": {},
   "outputs": [
    {
     "name": "stdout",
     "output_type": "stream",
     "text": [
      "[[1], [1, 1], [1, 2, 1], [1, 3, 3, 1], [1, 4, 6, 4, 1], [1, 5, 10, 10, 5, 1], [1, 6, 15, 20, 15, 6, 1], [1, 7, 21, 35, 35, 21, 7, 1]]\n"
     ]
    }
   ],
   "source": [
    "def pascalT(n):\n",
    "    dp=[[1]*(j+1)for j in range(n+1)]\n",
    "    for i in range(n+1):\n",
    "        for j in range(1,i):\n",
    "            dp[i][j]=dp[i-1][j-1]+dp[i-1][j]\n",
    "    return dp\n",
    "dp=pascalT(7)\n",
    "print(dp)"
   ]
  },
  {
   "cell_type": "code",
   "execution_count": 8,
   "id": "d0f2e772",
   "metadata": {},
   "outputs": [
    {
     "data": {
      "text/plain": [
       "[[1, 3, 0, 2], [2, 0, 3, 1]]"
      ]
     },
     "execution_count": 8,
     "metadata": {},
     "output_type": "execute_result"
    }
   ],
   "source": [
    "#Backtracking placing n queens\n",
    "def n_queens(n):\n",
    "    res=[]\n",
    "    dfs(res,[0]*n,0)\n",
    "    return res\n",
    "def dfs(res,path,r):\n",
    "    if(r==len(path)):\n",
    "        res.append(path.copy())\n",
    "        return \n",
    "    for col in range(len(path)):\n",
    "        if all( abs(c-col) not in (0,r-i) for i,c in enumerate(path[:r])):\n",
    "            path[r]=col\n",
    "            dfs(res,path,r+1)\n",
    "n_queens(4)"
   ]
  },
  {
   "cell_type": "code",
   "execution_count": 9,
   "id": "035b41a1",
   "metadata": {},
   "outputs": [
    {
     "name": "stdout",
     "output_type": "stream",
     "text": [
      "{3: 4}\n",
      "{3: 4, 4: 10}\n"
     ]
    },
    {
     "data": {
      "text/plain": [
       "10"
      ]
     },
     "execution_count": 9,
     "metadata": {},
     "output_type": "execute_result"
    }
   ],
   "source": [
    "#Friends pairing problem\n",
    "# f(n) = ways n people can remain single or pair up.\n",
    "# For n-th person there are two choices:\n",
    "# 1) n-th person remains single, we recur for f(n - 1)\n",
    "# 2) n-th person pairs up with any of the remaining n - 1 persons. We get (n - 1) * f(n - 2)\n",
    "# Therefore we can recursively write f(n) as:\n",
    "# f(n) = f(n - 1) + (n - 1) * f(n - 2)\n",
    "def countWays(n,c={}):\n",
    "    if(n<=0):\n",
    "        return 0\n",
    "    if(n<=2):\n",
    "        return n\n",
    "    if n not in c:\n",
    "        c[n]=countWays(n-2)*(n-1)+countWays(n-1)\n",
    "    return c[n]\n",
    "countWays(4)"
   ]
  },
  {
   "cell_type": "code",
   "execution_count": 16,
   "id": "f8e87502",
   "metadata": {},
   "outputs": [
    {
     "data": {
      "text/plain": [
       "19"
      ]
     },
     "execution_count": 16,
     "metadata": {},
     "output_type": "execute_result"
    }
   ],
   "source": [
    "#knapsack problem\n",
    "from functools import lru_cache\n",
    "@lru_cache(None)\n",
    "def ks(W,v,w,n):\n",
    "    if(n==0 or W==0):\n",
    "        return 0\n",
    "    if(w[n-1]>W):\n",
    "        return ks(W,v,w,n-1)\n",
    "    else:\n",
    "        return max(v[n-1]+ks(W-w[n-1],v,w,n-1),ks(W,v,w,n-1))\n",
    "ks(12,(5,4,4,2,6),(1,5,2,2,3),5)"
   ]
  },
  {
   "cell_type": "code",
   "execution_count": 14,
   "id": "ba8c99c7",
   "metadata": {},
   "outputs": [
    {
     "name": "stdout",
     "output_type": "stream",
     "text": [
      "{1: 5}\n",
      "{1: 5, 2: 5}\n",
      "{1: 5, 2: 5}\n",
      "{1: 5, 2: 5, 3: 9}\n",
      "{1: 5, 2: 5, 3: 9}\n",
      "{1: 5, 2: 5, 3: 9, 4: 11}\n",
      "{1: 5, 2: 5, 3: 9, 4: 11}\n",
      "{1: 5, 2: 5, 3: 9, 4: 11, 5: 17}\n"
     ]
    },
    {
     "data": {
      "text/plain": [
       "17"
      ]
     },
     "execution_count": 14,
     "metadata": {},
     "output_type": "execute_result"
    }
   ],
   "source": [
    "def ks(W,v,w,n,c={}):\n",
    "    if(n==0 or W==0):\n",
    "        return 0\n",
    "    if(w[n-1]>W):\n",
    "        return ks(W,v,w,n-1)\n",
    "    if n not in c:\n",
    "        c[n]=max(v[n-1]+ks(W-w[n-1],v,w,n-1),ks(W,v,w,n-1))\n",
    "    print(c)\n",
    "    return c[n]\n",
    "ks(12,[5,4,4,2,6],[1,5,2,2,3],5)"
   ]
  },
  {
   "cell_type": "code",
   "execution_count": 1,
   "id": "f9fe5342",
   "metadata": {},
   "outputs": [
    {
     "data": {
      "text/plain": [
       "3"
      ]
     },
     "execution_count": 1,
     "metadata": {},
     "output_type": "execute_result"
    }
   ],
   "source": [
    "#longest increasing sequence\n",
    "def longestIncreasingSeq(nums):\n",
    "    tails = [0] * len(nums)\n",
    "    size = 0\n",
    "    for x in nums:\n",
    "        i, j = 0, size\n",
    "        while i != j:\n",
    "            m = (i + j) // 2\n",
    "            if tails[m] < x:\n",
    "                i = m + 1\n",
    "            else:\n",
    "                j = m\n",
    "        tails[i] = x\n",
    "        size = max(i + 1, size)\n",
    "        #print(tails)\n",
    "    return size\n",
    "longestIncreasingSeq([4,1,1,5,3,6,1])"
   ]
  },
  {
   "cell_type": "code",
   "execution_count": 6,
   "id": "a1f7c27a",
   "metadata": {},
   "outputs": [
    {
     "data": {
      "text/plain": [
       "4"
      ]
     },
     "execution_count": 6,
     "metadata": {},
     "output_type": "execute_result"
    }
   ],
   "source": []
  },
  {
   "cell_type": "code",
   "execution_count": 22,
   "id": "683459ca",
   "metadata": {},
   "outputs": [
    {
     "data": {
      "text/plain": [
       "11"
      ]
     },
     "execution_count": 22,
     "metadata": {},
     "output_type": "execute_result"
    }
   ],
   "source": []
  },
  {
   "cell_type": "code",
   "execution_count": 57,
   "id": "eac60e02",
   "metadata": {},
   "outputs": [
    {
     "data": {
      "text/plain": [
       "[[], [1], [1, 2], [1, 2, 3], [1, 3], [2], [2, 3], [3]]"
      ]
     },
     "execution_count": 57,
     "metadata": {},
     "output_type": "execute_result"
    }
   ],
   "source": [
    "#power set generation\n",
    "def dfs(nums,res,path):\n",
    "    res.append(path)\n",
    "    for i in range(len(nums)):\n",
    "        dfs(nums[i+1:],res,path+[nums[i]])\n",
    "res=[]\n",
    "nums=[1,2,3]\n",
    "dfs(nums,res,[])\n",
    "res"
   ]
  },
  {
   "cell_type": "code",
   "execution_count": 56,
   "id": "cf0e9bd0",
   "metadata": {},
   "outputs": [
    {
     "name": "stdout",
     "output_type": "stream",
     "text": [
      "[0, 1]\n",
      "1 0 2\n",
      "[0]\n",
      "0 0 3\n",
      "[0, 0, 0, 2, 4]\n"
     ]
    },
    {
     "data": {
      "text/plain": [
       "4"
      ]
     },
     "execution_count": 56,
     "metadata": {},
     "output_type": "execute_result"
    }
   ],
   "source": [
    "# 32.Longest Valid Parentheses\n",
    "def longestValidParen(s):\n",
    "    if not s:\n",
    "        return 0\n",
    "    dp=[0]*(len(s)+1)\n",
    "    st=[]\n",
    "    for i in range(len(s)):\n",
    "        if s[i]=='(':\n",
    "            st.append(i)\n",
    "        else:\n",
    "            if st:\n",
    "                print(st)\n",
    "                p=st.pop()\n",
    "                print(p,dp[p],i)\n",
    "                dp[i+1]=dp[p]+i-p+1\n",
    "    print(dp)\n",
    "    return max(dp)\n",
    "longestValidParen('(())')"
   ]
  },
  {
   "cell_type": "code",
   "execution_count": 58,
   "id": "e0e5a65a",
   "metadata": {},
   "outputs": [
    {
     "name": "stdout",
     "output_type": "stream",
     "text": [
      "\n",
      "a\n",
      "ab\n",
      "abc\n",
      "ac\n",
      "b\n",
      "bc\n",
      "c\n"
     ]
    }
   ],
   "source": [
    "#power set generation for strings\n",
    "def dfs(s,path):\n",
    "    print(path)\n",
    "    for i in range(len(s)):\n",
    "        dfs(s[i+1:],path+s[i])\n",
    "dfs('abc','')"
   ]
  },
  {
   "cell_type": "markdown",
   "id": "811d2c47",
   "metadata": {},
   "source": [
    "<h2>Bit manipulation<h2>\n",
    "<p><a href=\"https://leetcode.com/problems/sum-of-two-integers/discuss/84278/A-summary%3A-how-to-use-bit-manipulation-to-solve-problems-easily-and-efficiently\">Leet Code bit manipulation techniques</a>"
   ]
  },
  {
   "cell_type": "code",
   "execution_count": 1,
   "id": "b7e204df",
   "metadata": {},
   "outputs": [
    {
     "data": {
      "text/plain": [
       "1"
      ]
     },
     "execution_count": 1,
     "metadata": {},
     "output_type": "execute_result"
    }
   ],
   "source": [
    "#Counting number of \n",
    "def countOne(n):\n",
    "    cnt=0\n",
    "    while(n):\n",
    "        n=n&(n-1)\n",
    "        cnt+=1\n",
    "    return cnt\n",
    "countOne(8)"
   ]
  },
  {
   "cell_type": "code",
   "execution_count": 8,
   "id": "24b9e42e",
   "metadata": {},
   "outputs": [
    {
     "data": {
      "text/plain": [
       "25"
      ]
     },
     "execution_count": 8,
     "metadata": {},
     "output_type": "execute_result"
    }
   ],
   "source": [
    "#Sum of two numbers Use ^ and & to add two integers\n",
    "def getSum(a,b):\n",
    "    return a if b==0 else getSum(a^b,(a&b)<<1)\n",
    "getSum(12,13)"
   ]
  },
  {
   "cell_type": "code",
   "execution_count": 11,
   "id": "522266c0",
   "metadata": {},
   "outputs": [
    {
     "data": {
      "text/plain": [
       "16"
      ]
     },
     "execution_count": 11,
     "metadata": {},
     "output_type": "execute_result"
    }
   ],
   "source": [
    "#Sum of two numbers Iteratively\n",
    "def getSum(a,b):\n",
    "    while(b):\n",
    "        carry=a&b\n",
    "        a=a^b\n",
    "        b=carry<<1\n",
    "    return a\n",
    "getSum(12,4)"
   ]
  },
  {
   "cell_type": "code",
   "execution_count": 41,
   "id": "e14aa8e5",
   "metadata": {},
   "outputs": [
    {
     "name": "stdout",
     "output_type": "stream",
     "text": [
      "{0: [1, 2], 1: [0], 2: [0, 5], 5: [2, 4], 4: [5, 3], 3: [4]}\n"
     ]
    },
    {
     "data": {
      "text/plain": [
       "1"
      ]
     },
     "execution_count": 41,
     "metadata": {},
     "output_type": "execute_result"
    }
   ],
   "source": [
    "# 1971. Find if Path Exists in Graph\n",
    "# Sol 1: BFS\n",
    "def isPath(edges,s,e):\n",
    "    visited=[0]*(len(edges)+1)\n",
    "    d={}\n",
    "    for i in edges:\n",
    "        if i[0] in d:\n",
    "            d[i[0]].append(i[1])\n",
    "        else:\n",
    "            d[i[0]]=[i[1]]\n",
    "        if i[1] in d:\n",
    "            d[i[1]].append(i[0])\n",
    "        else:\n",
    "            d[i[1]]=[i[0]]\n",
    "    print(d)\n",
    "    q=[s]\n",
    "#     print(d)\n",
    "    while(q):\n",
    "        cur=q.pop(0)\n",
    "#         print(cur)\n",
    "        if(cur==e):\n",
    "            return 1\n",
    "        elif cur in d and not visited[cur]:\n",
    "            q.extend(d[cur])\n",
    "        visited[cur]=1\n",
    "    return 0\n",
    "isPath( [[0,1],[0,2],[2,5],[5,4],[4,3]],0,4)"
   ]
  },
  {
   "cell_type": "code",
   "execution_count": 40,
   "id": "609fd7e2",
   "metadata": {},
   "outputs": [
    {
     "name": "stdout",
     "output_type": "stream",
     "text": [
      "defaultdict(<class 'list'>, {0: [1, 2], 1: [0], 2: [0, 5], 5: [2, 4], 4: [5, 3], 3: [4]})\n"
     ]
    },
    {
     "data": {
      "text/plain": [
       "1"
      ]
     },
     "execution_count": 40,
     "metadata": {},
     "output_type": "execute_result"
    }
   ],
   "source": [
    "#Sol 2 using dfs\n",
    "from collections import defaultdict\n",
    "def isPath(edges,s,e):\n",
    "    neighbors=defaultdict(list)\n",
    "    for n1,n2 in edges:\n",
    "        neighbors[n1].append(n2)\n",
    "        neighbors[n2].append(n1)\n",
    "    print(neighbors)\n",
    "    def dfs(node,end,seen):\n",
    "        if node==end:\n",
    "            return 1\n",
    "        if node in seen:\n",
    "            return 0\n",
    "        seen.add(node)\n",
    "        for n in neighbors[node]:\n",
    "            if(dfs(n,end,seen)):\n",
    "                return 1\n",
    "        return 0\n",
    "    seen=set()\n",
    "    return dfs(s,e,seen)\n",
    "isPath( [[0,1],[0,2],[2,5],[5,4],[4,3]],0,4)"
   ]
  },
  {
   "cell_type": "code",
   "execution_count": 59,
   "id": "a8395184",
   "metadata": {},
   "outputs": [
    {
     "data": {
      "text/plain": [
       "[1, 9, 43, 144, 376, 804, 1429, 2055, 2056, 1]"
      ]
     },
     "execution_count": 59,
     "metadata": {},
     "output_type": "execute_result"
    }
   ],
   "source": [
    "def pascal(n):\n",
    "    dp=[[0]*(n)]*n\n",
    "    for i in range(n):\n",
    "        dp[i][0]=dp[0][i]=1\n",
    "    for i in range(1,n):\n",
    "        for j in range(1,i):\n",
    "            dp[i][j]=dp[i-1][j-1]+dp[i-1][j]\n",
    "    return dp[n-1]\n",
    "pascal(10)"
   ]
  },
  {
   "cell_type": "code",
   "execution_count": 60,
   "id": "0b965294",
   "metadata": {},
   "outputs": [
    {
     "data": {
      "text/plain": [
       "'aaasaaa'"
      ]
     },
     "execution_count": 60,
     "metadata": {},
     "output_type": "execute_result"
    }
   ],
   "source": [
    "def lPal(s):\n",
    "    n=len(s)\n",
    "    dp=[[0]*n for _ in range(n)]\n",
    "    \n",
    "    ans=''\n",
    "    for i in range(n):\n",
    "        dp[i][i]=1\n",
    "    \n",
    "    mxLen=1\n",
    "    for i in range(n-1,-1,-1):\n",
    "        for j in range(i+1,n):\n",
    "            if(s[i]==s[j]):\n",
    "                if j-i==1 or dp[i+1][j-1]:\n",
    "                    dp[i][j]=1\n",
    "                    if(mxLen<j-i+1):\n",
    "                        mxLen=j-i+1\n",
    "                        ans=s[i:j+1]\n",
    "#     print(dp)\n",
    "    return ans\n",
    "lPal('aabaaasaaa')"
   ]
  },
  {
   "cell_type": "code",
   "execution_count": 61,
   "id": "b90a7a98",
   "metadata": {},
   "outputs": [
    {
     "data": {
      "text/plain": [
       "['((()))', '(()())', '(())()', '()(())', '()()()']"
      ]
     },
     "execution_count": 61,
     "metadata": {},
     "output_type": "execute_result"
    }
   ],
   "source": [
    "def genParen(n):\n",
    "    ans=[]\n",
    "    def dfs(s=[],l=0,r=0):\n",
    "        if(len(s)==2*n):\n",
    "            ans.append(\"\".join(s))\n",
    "            return \n",
    "        if(l<n):\n",
    "            s.append('(')\n",
    "            dfs(s,l+1,r)\n",
    "            s.pop()\n",
    "        if(r<l):\n",
    "            s.append(')')\n",
    "            dfs(s,l,r+1)\n",
    "            s.pop()\n",
    "    dfs()\n",
    "    return ans\n",
    "genParen(3)"
   ]
  },
  {
   "cell_type": "code",
   "execution_count": 62,
   "id": "7a4eb03b",
   "metadata": {},
   "outputs": [
    {
     "data": {
      "text/plain": [
       "['((()))', '(()())', '(())()', '()(())', '()()()']"
      ]
     },
     "execution_count": 62,
     "metadata": {},
     "output_type": "execute_result"
    }
   ],
   "source": [
    "#generate palindrome sequences\n",
    "def gen(n):\n",
    "    res=[]\n",
    "    dfs(n,n,'',res)\n",
    "    return res\n",
    "def dfs(l,r,s,res):\n",
    "    if l>r or l<0 or r<0:\n",
    "        return \n",
    "    if l==0 and r==0:\n",
    "        res.append(s)\n",
    "        return\n",
    "    dfs(l-1,r,s+'(',res)\n",
    "    dfs(l,r-1,s+')',res)\n",
    "gen(3)"
   ]
  },
  {
   "cell_type": "code",
   "execution_count": 56,
   "id": "dbd45080",
   "metadata": {},
   "outputs": [
    {
     "name": "stdout",
     "output_type": "stream",
     "text": [
      "[[1, 0, 0], [0, 1, 1], [0, 0, 1], [0, 0, 1]]\n"
     ]
    },
    {
     "data": {
      "text/plain": [
       "1"
      ]
     },
     "execution_count": 56,
     "metadata": {},
     "output_type": "execute_result"
    }
   ],
   "source": [
    "#Wild card matching\n",
    "def isMatch(s,p):\n",
    "    dp=[[0 for _ in range(len(p)+1)] for _ in range(len(s)+1)]\n",
    "    dp[0][0]=1\n",
    "    for j in range(len(p)+1):\n",
    "        if p[j-1]!='*':\n",
    "            break\n",
    "        dp[0][j]=1\n",
    "#     print(dp)\n",
    "    for i in range(1,len(s)+1):\n",
    "        for j in range(1,len(p)+1):\n",
    "            if p[j-1] in {s[i-1],'?'}:\n",
    "                dp[i][j]=dp[i-1][j-1]\n",
    "            elif p[j-1]=='*':\n",
    "                dp[i][j]=dp[i-1][j-1] or dp[i-1][j] or dp[i][j-1]\n",
    "    print(dp)\n",
    "    return dp[-1][-1]\n",
    "isMatch('aaa','a*')"
   ]
  },
  {
   "cell_type": "code",
   "execution_count": null,
   "id": "d5372b40",
   "metadata": {},
   "outputs": [],
   "source": []
  },
  {
   "cell_type": "code",
   "execution_count": 63,
   "id": "2ae3a1d6",
   "metadata": {},
   "outputs": [
    {
     "name": "stdout",
     "output_type": "stream",
     "text": [
      "[1, -1, 1, 21, 22, -1, 11, 123, 121, 11, -1, 1]\n"
     ]
    },
    {
     "data": {
      "text/plain": [
       "123"
      ]
     },
     "execution_count": 63,
     "metadata": {},
     "output_type": "execute_result"
    }
   ],
   "source": [
    "#maximum subsequence\n",
    "def maxSub(nums):\n",
    "    for i in range(1,len(nums)):\n",
    "        if(nums[i-1]<0):\n",
    "            nums[i]+=nums[i-1]\n",
    "    print(nums)\n",
    "    return max(nums)\n",
    "maxSub([1,-1,2,21,22,-1,12,123,121,11,-1,2])"
   ]
  },
  {
   "cell_type": "code",
   "execution_count": 59,
   "id": "10a59240",
   "metadata": {},
   "outputs": [
    {
     "data": {
      "text/plain": [
       "30"
      ]
     },
     "execution_count": 59,
     "metadata": {},
     "output_type": "execute_result"
    }
   ],
   "source": [
    "#The Sieve of Eratosthenes\n",
    "import math \n",
    "def primeCount(n):\n",
    "    a=[0,0,0,1,2,2,3,3,4,4,4]\n",
    "    if(n<=10):\n",
    "        return a[n]\n",
    "    prime=[1]*n\n",
    "    prime[0]=prime[1]=0\n",
    "    for i in range(2,int(math.sqrt(n))+1):\n",
    "        if prime[i]==1:\n",
    "            prime[i*i:n:i]=[0]*((n-1-i*i)//i+1)\n",
    "    return sum(prime)\n",
    "primeCount(122)"
   ]
  },
  {
   "cell_type": "code",
   "execution_count": 64,
   "id": "5d8bbd4b",
   "metadata": {},
   "outputs": [
    {
     "name": "stdout",
     "output_type": "stream",
     "text": [
      "working\n",
      "0 -1 -1 -1 -1 -1 -1 -1 \n",
      "-1 -1 -1 -1 -1 -1 -1 -1 \n",
      "-1 -1 -1 -1 -1 -1 -1 -1 \n",
      "-1 -1 -1 -1 -1 -1 -1 -1 \n",
      "-1 -1 -1 -1 -1 -1 -1 -1 \n",
      "-1 -1 -1 -1 -1 -1 -1 -1 \n",
      "-1 -1 -1 -1 -1 -1 -1 -1 \n",
      "-1 -1 -1 -1 -1 -1 -1 -1 \n"
     ]
    }
   ],
   "source": [
    "n=8\n",
    "\n",
    "def isSafe(x,y,board):\n",
    "    if(x>=0 and y>=0 and x<n and y<n and board[x][y]==-1):\n",
    "        return 1\n",
    "    return 0\n",
    "\n",
    "def printSolution(n,board):\n",
    "    for i in range(n):\n",
    "        for j in range(n):\n",
    "            print(board[i][j],end=' ')\n",
    "        print()\n",
    "\n",
    "def solveKT(n):\n",
    "    board=[[-1 for i in range(n)]for _ in range(n)]\n",
    "    \n",
    "    move_x=[2,1,-1,-2,-2,-1,1,2]\n",
    "    move_y=[1,2,2,1,-1,-2,-2,-1]\n",
    "    \n",
    "    board[0][0]=0\n",
    "    print(\"working\")\n",
    "    if (not solveKTUntil(0,0,1,board,move_x,move_y)):\n",
    "        print(\"solution does not exit\")\n",
    "    else:\n",
    "        printSolution(n,board)\n",
    "    return 1\n",
    "\n",
    "def solveKTUntil(x,y,move,board,move_x,move_y):\n",
    "    if(move==n*n):\n",
    "        return 1\n",
    "    for k in range(8):\n",
    "        next_x=x+move_x[k]\n",
    "        next_y=y+move_y[k]\n",
    "        if(isSafe(next_x,next_y,board)):\n",
    "            if(solveKTUntil(next_x,next_y,move+1,board,move_x,move_y)==1):\n",
    "                return 1\n",
    "            else:\n",
    "                sol[next_x][next_y]=-1\n",
    "    return 0\n",
    "                \n",
    "    \n",
    "\n",
    "if __name__ == \"__main__\":\n",
    "    \n",
    "    solveKT(n)"
   ]
  },
  {
   "cell_type": "code",
   "execution_count": 65,
   "id": "36fb25fb",
   "metadata": {},
   "outputs": [
    {
     "data": {
      "text/plain": [
       "6"
      ]
     },
     "execution_count": 65,
     "metadata": {},
     "output_type": "execute_result"
    }
   ],
   "source": [
    "#without obstacle\n",
    "m=3\n",
    "n=3\n",
    "dp=[[0]*n for i in range(m)]\n",
    "def numWays(m,n):\n",
    "    if(m==1 or n==1):\n",
    "        return 1\n",
    "    elif(dp[m-1][n-1]==0):\n",
    "        dp[m-1][n-1]=numWays(m,n-1)+numWays(m-1,n)\n",
    "#     print(dp)\n",
    "#     print(dp)\n",
    "    return dp[m-1][n-1]\n",
    "    \n",
    "numWays(m,n)"
   ]
  },
  {
   "cell_type": "code",
   "execution_count": 13,
   "id": "267375f6",
   "metadata": {},
   "outputs": [
    {
     "data": {
      "text/plain": [
       "[1, 2]"
      ]
     },
     "execution_count": 13,
     "metadata": {},
     "output_type": "execute_result"
    }
   ],
   "source": [
    "# 229. Majority Element II\n",
    "def majorityElement(nums):\n",
    "    n=len(nums)/3\n",
    "    return [i for i in set(nums) if nums.count(i)>n]\n",
    "majorityElement([2,3,4,1,1,1,2,2])"
   ]
  },
  {
   "cell_type": "code",
   "execution_count": 2,
   "id": "cc8f0b0d",
   "metadata": {},
   "outputs": [
    {
     "data": {
      "text/plain": [
       "22"
      ]
     },
     "execution_count": 2,
     "metadata": {},
     "output_type": "execute_result"
    }
   ],
   "source": [
    "#rod cutting problem\n",
    "def rod_cutting(nums):\n",
    "    n=len(nums)\n",
    "    val=[0 for _ in range(n+1)]\n",
    "    val[0]=0\n",
    "    for i in range(1,n+1):\n",
    "        mx=float('-inf')\n",
    "        for j in range(i):\n",
    "            mx=max(mx,nums[j]+val[i-j-1])\n",
    "        val[i]=mx\n",
    "    return val[n]\n",
    "rod_cutting([1, 5, 8, 9, 10, 17, 17, 20])"
   ]
  },
  {
   "cell_type": "code",
   "execution_count": 35,
   "id": "7b21cf42",
   "metadata": {},
   "outputs": [
    {
     "data": {
      "text/plain": [
       "3"
      ]
     },
     "execution_count": 35,
     "metadata": {},
     "output_type": "execute_result"
    }
   ],
   "source": [
    "#number of paths with obstacles placed\n",
    "mat=[[0,0,0],[1,0,0],[0,0,0]]\n",
    "def withObstacle(m,n):\n",
    "    if(mat[0][0]==1):\n",
    "        return 0\n",
    "    mat[0][0]=1\n",
    "    for i in range(1,m):\n",
    "        mat[i][0]=int(mat[i][0]==0 and mat[i-1][0]==1)\n",
    "    for j in range(1,n):\n",
    "        mat[0][j]=int(mat[0][j]==0 and mat[0][j-1]==1)\n",
    "    for i in range(1,m):\n",
    "        for j in range(1,n):\n",
    "            if(mat[i][j]==0):\n",
    "                mat[i][j]=mat[i-1][j]+mat[i][j-1]\n",
    "            else:\n",
    "                mat[i][j]=0\n",
    "    return mat[m-1][n-1]\n",
    "withObstacle(3,3)"
   ]
  },
  {
   "cell_type": "code",
   "execution_count": null,
   "id": "af1222a2",
   "metadata": {},
   "outputs": [],
   "source": [
    "#139. Word Break using dp\n",
    "class Solution:\n",
    "    def wordBreak(self, s: str, wordDict: List[str]) -> bool:\n",
    "        n=len(s)\n",
    "        dp=[0]*(n+1)\n",
    "        dp[0]=1\n",
    "        for i in range(1,n+1):\n",
    "            for w in wordDict:\n",
    "                if dp[i-len(w)] and s[i-len(w):i]==w:\n",
    "                    dp[i]=1\n",
    "        return dp[-1]"
   ]
  },
  {
   "cell_type": "code",
   "execution_count": 10,
   "id": "7d152132",
   "metadata": {},
   "outputs": [
    {
     "name": "stdout",
     "output_type": "stream",
     "text": [
      "{('a', 'e', 't'): ['eat', 'tea', 'ate'], ('a', 'n', 't'): ['tan', 'nat'], ('a', 'b', 't'): ['bat']}\n"
     ]
    },
    {
     "data": {
      "text/plain": [
       "[['eat', 'tea', 'ate'], ['tan', 'nat'], ['bat']]"
      ]
     },
     "execution_count": 10,
     "metadata": {},
     "output_type": "execute_result"
    }
   ],
   "source": [
    "#Group anagrams\n",
    "def grpAnagrams(words):\n",
    "    dic={}\n",
    "    for s in words:\n",
    "        k=tuple(sorted(s))\n",
    "        dic[k]=dic.get(k,[])+[s]\n",
    "    print(dic)\n",
    "    return list(dic.values())\n",
    "strs=[\"eat\",\"tea\",\"tan\",\"ate\",\"nat\",\"bat\"]\n",
    "grpAnagrams(strs)"
   ]
  },
  {
   "cell_type": "code",
   "execution_count": 27,
   "id": "97f40139",
   "metadata": {},
   "outputs": [
    {
     "data": {
      "text/plain": [
       "1"
      ]
     },
     "execution_count": 27,
     "metadata": {},
     "output_type": "execute_result"
    }
   ],
   "source": [
    "#Two sum\n",
    "def has_2_sum(nums,t):\n",
    "    dic={}\n",
    "    for i in nums:\n",
    "        if abs(i-t) in dic:\n",
    "            return 1\n",
    "        else:\n",
    "            dic[i]=1\n",
    "#     print(dic)\n",
    "    return 0\n",
    "has_2_sum([3,1,5,6,7,30],33)"
   ]
  },
  {
   "cell_type": "code",
   "execution_count": 28,
   "id": "785c8138",
   "metadata": {},
   "outputs": [
    {
     "data": {
      "text/plain": [
       "False"
      ]
     },
     "execution_count": 28,
     "metadata": {},
     "output_type": "execute_result"
    }
   ],
   "source": [
    "#three sum\n",
    "def three_sum(nums,t):\n",
    "    nums.sort()\n",
    "    return any(has_2_sum(nums,t-a) for a in nums)\n",
    "three_sum([3,1,5,6,7,30],48)"
   ]
  },
  {
   "cell_type": "code",
   "execution_count": 35,
   "id": "a59027d3",
   "metadata": {},
   "outputs": [
    {
     "name": "stdout",
     "output_type": "stream",
     "text": [
      "[[2, 1, 3], [7, 6, 5], [13, 13, 14]]\n"
     ]
    },
    {
     "data": {
      "text/plain": [
       "13"
      ]
     },
     "execution_count": 35,
     "metadata": {},
     "output_type": "execute_result"
    }
   ],
   "source": [
    "# 931. Minimum Falling Path Sum\n",
    "def minSum(mat):\n",
    "    n=len(mat)\n",
    "    for i in range(n-1):\n",
    "        for j in range(n):\n",
    "            if(j==0):\n",
    "                mat[i+1][0]+=min(mat[i][0],mat[i][1])\n",
    "            elif(j==n-1):\n",
    "                mat[i+1][j]+=min(mat[i][j],mat[i][j-1])\n",
    "            else:\n",
    "                mat[i+1][j]+=min(mat[i][j-1],mat[i][j],mat[i][j+1])\n",
    "    print(mat)\n",
    "    return min(mat[n-1])\n",
    "minSum([[2,1,3],[6,5,4],[7,8,9]])"
   ]
  },
  {
   "cell_type": "code",
   "execution_count": 41,
   "id": "afc8fad3",
   "metadata": {},
   "outputs": [
    {
     "name": "stdout",
     "output_type": "stream",
     "text": [
      "[[2], [5, 6], [11, 10, 13], [15, 11, 18, 16]]\n"
     ]
    },
    {
     "data": {
      "text/plain": [
       "11"
      ]
     },
     "execution_count": 41,
     "metadata": {},
     "output_type": "execute_result"
    }
   ],
   "source": [
    "# 120. Triangle :return the minimum path sum from top to bottom.\n",
    "def minPathSum(triangle):\n",
    "    for i in range(1,len(triangle)):\n",
    "        for j in range(len(triangle[i])):\n",
    "            if(j==0):\n",
    "                triangle[i][0]+=triangle[i-1][0]\n",
    "            elif(j==len(triangle[i])-1):\n",
    "                triangle[i][j]+=triangle[i-1][j-1]\n",
    "            else:\n",
    "                triangle[i][j]+=min(triangle[i-1][j-1],triangle[i-1][j])\n",
    "    print(triangle)\n",
    "    return min(triangle[-1])\n",
    "minPathSum( [[2],[3,4],[6,5,7],[4,1,8,3]])"
   ]
  },
  {
   "cell_type": "code",
   "execution_count": 13,
   "id": "c124a87e",
   "metadata": {},
   "outputs": [
    {
     "data": {
      "text/plain": [
       "18"
      ]
     },
     "execution_count": 13,
     "metadata": {},
     "output_type": "execute_result"
    }
   ],
   "source": [
    "# 1262. Greatest Sum Divisible by Three\n",
    "def divByThree(nums):\n",
    "    dp=[0,0,0]\n",
    "    for a in nums:\n",
    "        for i in dp[:]:\n",
    "            dp[(i+a)%3]=max(dp[(i+a)%3],i+a)\n",
    "    return dp[0]\n",
    "divByThree([3,6,8,5,1])"
   ]
  },
  {
   "cell_type": "code",
   "execution_count": null,
   "id": "681f2a60",
   "metadata": {},
   "outputs": [],
   "source": [
    "#139. Word Break using trie\n",
    "class Solution:\n",
    "    def wordBreak(self, s: str, wordDict: List[str]) -> bool:\n",
    "        t = Trie()\n",
    "        for w in wordDict:\n",
    "            t.addWord(w)\n",
    "        \n",
    "        #dp[i] = True if s[:i] is word breakable\n",
    "        #dp[i] = dp[j(<i)] and t.checkWord(s[j,i])\n",
    "        \n",
    "        dp=[False for i in range(len(s)+1)]\n",
    "        dp[0]=True\n",
    "        \n",
    "        for i in range(1,len(s)+1):\n",
    "            for j in range(i):\n",
    "                \n",
    "                if dp[j] and t.checkWord(s[j:i]):\n",
    "                    # print(s[j:i])\n",
    "                    dp[i] = True\n",
    "                    break\n",
    "            \n",
    "        return dp[-1]\n",
    " \n",
    "            \n",
    "\n",
    "class TrieNode:\n",
    "    def __init__(self, letter):\n",
    "        self.nodes = {}\n",
    "        self.val = letter\n",
    "        self.term = False\n",
    "\n",
    "    def markTerm(self, stat):\n",
    "        self.term = stat\n",
    "\n",
    "    def isTerm(self):\n",
    "        return self.term\n",
    "\n",
    "    def addKid(self, kid):\n",
    "        if kid not in self.nodes:\n",
    "            self.nodes[kid] = TrieNode(kid)\n",
    "        return self.nodes[kid]\n",
    "\n",
    "    def getKid(self, kid):\n",
    "        return self.nodes.get(kid)\n",
    "\n",
    "    def hasKid(self, kid):\n",
    "        return True if kid in self.nodes else False\n",
    "\n",
    "\n",
    "class Trie:\n",
    "    def __init__(self):\n",
    "        self.root = TrieNode('Root')\n",
    "\n",
    "    def addWord(self, word):\n",
    "        p = self.root\n",
    "        for w in word:\n",
    "            p = p.addKid(w)\n",
    "        p.markTerm(True)\n",
    "\n",
    "    def checkWord(self, word):\n",
    "        p = self.root\n",
    "        for w in word:\n",
    "            p = p.getKid(w)\n",
    "            if p is None:\n",
    "                return False\n",
    "        return True if p.isTerm() else False\n"
   ]
  },
  {
   "cell_type": "code",
   "execution_count": 93,
   "id": "77348dd7",
   "metadata": {},
   "outputs": [
    {
     "data": {
      "text/plain": [
       "49"
      ]
     },
     "execution_count": 93,
     "metadata": {},
     "output_type": "execute_result"
    }
   ],
   "source": [
    "#maximum water between poles\n",
    "def maxWater(h):\n",
    "    cur_fill,m_fill,i,j=0,0,0,len(h)-1\n",
    "    while(i<j):\n",
    "        cur_fill=min(h[j],h[i])*(j-i)\n",
    "        m_fill=max(cur_fill,m_fill)\n",
    "        if(h[i]<h[j]):\n",
    "            i+=1\n",
    "        else:\n",
    "            j-=1\n",
    "    return m_fill\n",
    "maxWater([1,8,6,2,5,4,8,3,7])"
   ]
  },
  {
   "cell_type": "code",
   "execution_count": null,
   "id": "862683a0",
   "metadata": {},
   "outputs": [],
   "source": [
    "# maximum rectangle\n"
   ]
  },
  {
   "cell_type": "code",
   "execution_count": 39,
   "id": "0b98c157",
   "metadata": {},
   "outputs": [
    {
     "data": {
      "text/plain": [
       "4"
      ]
     },
     "execution_count": 39,
     "metadata": {},
     "output_type": "execute_result"
    }
   ],
   "source": [
    "# 980. Unique Paths III\n",
    "def path(grid):\n",
    "    \n",
    "    def dfs(x,y,empty,res):\n",
    "        if(x<0 or x>=m or y<0 or y>=n or grid[x][y]<0):\n",
    "            return \n",
    "        if(grid[x][y]==2):\n",
    "            if(empty==0):\n",
    "                res.append(1)\n",
    "#             print(res)\n",
    "            return \n",
    "        grid[x][y]=-2\n",
    "        dfs(x-1,y,empty-1,res)\n",
    "        dfs(x+1,y,empty-1,res)\n",
    "        dfs(x,y-1,empty-1,res)\n",
    "        dfs(x,y+1,empty-1,res)\n",
    "        grid[x][y]=0\n",
    "    \n",
    "    m,n,empty=len(grid),len(grid[0]),1\n",
    "    res=[]\n",
    "    for i in range(m):\n",
    "        for j in range(n):\n",
    "            if(grid[i][j]==1):\n",
    "                x,y=(i,j)\n",
    "            elif(grid[i][j]==0):\n",
    "                empty+=1\n",
    "#     print(x,y,empty )\n",
    "    dfs(x,y,empty,res)\n",
    "    return len(res)\n",
    "# grid = [[1,0,0,0],[0,0,0,0],[0,0,2,-1]]\n",
    "grid =[[1,0,0,0],[0,0,0,0],[0,0,0,2]]\n",
    "path(grid)"
   ]
  },
  {
   "cell_type": "code",
   "execution_count": null,
   "id": "59ecb21e",
   "metadata": {},
   "outputs": [],
   "source": [
    "#             def uniquePathsIII(self, A):\n",
    "#         self.res = 0\n",
    "#         m, n, empty = len(A), len(A[0]), 1\n",
    "#         for i in range(m):\n",
    "#             for j in range(n):\n",
    "#                 if A[i][j] == 1:\n",
    "#                     x, y = (i, j)\n",
    "#                 elif A[i][j] == 0:\n",
    "#                     empty += 1\n",
    "\n",
    "#         def dfs(x, y, empty):\n",
    "#             if not (0 <= x < m and 0 <= y < n and A[x][y] >= 0): return\n",
    "#             if A[x][y] == 2:\n",
    "#                 self.res += empty == 0\n",
    "#                 return\n",
    "#             A[x][y] = -2\n",
    "#             dfs(x + 1, y, empty - 1)\n",
    "#             dfs(x - 1, y, empty - 1)\n",
    "#             dfs(x, y + 1, empty - 1)\n",
    "#             dfs(x, y - 1, empty - 1)\n",
    "#             A[x][y] = 0\n",
    "#         dfs(x, y, empty)\n",
    "#         return self.res"
   ]
  },
  {
   "cell_type": "code",
   "execution_count": 67,
   "id": "17aa1bbe",
   "metadata": {},
   "outputs": [
    {
     "data": {
      "text/plain": [
       "10"
      ]
     },
     "execution_count": 67,
     "metadata": {},
     "output_type": "execute_result"
    }
   ],
   "source": [
    "def nW(m,n):\n",
    "    if(m==1 or n==1):\n",
    "        return 1\n",
    "    else:\n",
    "        return nW(m-1,n)+nW(m,n-1)\n",
    "nW(3,4)"
   ]
  },
  {
   "cell_type": "code",
   "execution_count": 68,
   "id": "58dda6a9",
   "metadata": {},
   "outputs": [
    {
     "name": "stdout",
     "output_type": "stream",
     "text": [
      "65\n",
      "[[0, 0, 45, 65], [0, 0, 0, 50], [0, 0, 0, 0], [0, 0, 0, 0]]\n"
     ]
    }
   ],
   "source": [
    "#Min cost to reach to destination\n",
    "def minCost(cost,s,d):\n",
    "    if(s==d or s==d-1):\n",
    "        return cost[s][d]\n",
    "    if(mem[s][d]==0):\n",
    "        minC=cost[s][d]\n",
    "        for i in range(s+1,d):\n",
    "            tmp=minCost(cost,s,i)+minCost(cost,i,d)\n",
    "        if(tmp<minC):\n",
    "            minC=tmp\n",
    "        mem[s][d]=minC\n",
    "    return mem[s][d]\n",
    "mem=[[0]*4 for i in range(4)]\n",
    "cost=[[0,10,75,94],[-1,0,35,50],[-1,-1,0,20],[-1,-1,-1,0]]\n",
    "print(minCost(cost,0,3))\n",
    "print(mem)"
   ]
  },
  {
   "cell_type": "code",
   "execution_count": null,
   "id": "817d044d",
   "metadata": {},
   "outputs": [],
   "source": [
    "# 190. Reverse bits\n",
    "def reverseBits(self, n):\n",
    "    ans = 0\n",
    "    for i in xrange(32):\n",
    "        ans = (ans << 1) + (n & 1)\n",
    "        n >>= 1\n",
    "    return ans"
   ]
  },
  {
   "cell_type": "code",
   "execution_count": 81,
   "id": "0d377a5f",
   "metadata": {},
   "outputs": [
    {
     "data": {
      "text/plain": [
       "3"
      ]
     },
     "execution_count": 81,
     "metadata": {},
     "output_type": "execute_result"
    }
   ],
   "source": [
    "#coin change\n",
    "def coinChange(coins,amount):\n",
    "    dp=[float('inf')]*(amount+1)\n",
    "    dp[0]=0\n",
    "    for x in range(min(coins),amount+1):\n",
    "        dp[x]=min([dp[x-c] for c in coins if x-c>=0])+1\n",
    "    v=dp[amount]\n",
    "    return -1 if v==float('inf') else v\n",
    "coinChange([1,5,3],11)"
   ]
  },
  {
   "cell_type": "code",
   "execution_count": 69,
   "id": "62a1ef1f",
   "metadata": {},
   "outputs": [
    {
     "name": "stdout",
     "output_type": "stream",
     "text": [
      "10\n"
     ]
    }
   ],
   "source": [
    "#finding the number of paths possible\n",
    "def numberofPaths(p,q):\n",
    "    dp=[1 for i in range(q)]\n",
    "    for i in range(p-1):\n",
    "        for j in range(1,q):\n",
    "            dp[j]+=dp[j-1]\n",
    "#             print(dp)\n",
    "    return dp[q-1]\n",
    "print(numberofPaths(4,3))"
   ]
  },
  {
   "cell_type": "code",
   "execution_count": 61,
   "id": "33322e38",
   "metadata": {},
   "outputs": [
    {
     "name": "stdout",
     "output_type": "stream",
     "text": [
      "1  0  0  0  \n",
      "1  1  0  0  \n",
      "0  1  0  0  \n",
      "0  1  1  1  \n"
     ]
    },
    {
     "data": {
      "text/plain": [
       "1"
      ]
     },
     "execution_count": 61,
     "metadata": {},
     "output_type": "execute_result"
    }
   ],
   "source": [
    "#Rat in the maze\n",
    "n=4\n",
    "def printSol(sol):\n",
    "    for i in sol:\n",
    "        for j in i:\n",
    "            print(str(j)+\" \",end=\" \")\n",
    "        print()\n",
    "def isSafe(mat,x,y):\n",
    "    if(x>=0 and x<n and y>=0 and y<n and mat[x][y]==1):\n",
    "        return 1\n",
    "    return 0\n",
    "def solve(mat):\n",
    "    sol=[[0]*n for _ in range(4)]\n",
    "    if solveMazeUtil(maze,0,0,sol)==0:\n",
    "        print(\"Solution doesn't exist\")\n",
    "        return 0\n",
    "    printSol(sol)\n",
    "    return 1\n",
    "def solveMazeUtil(mat,x,y,sol):\n",
    "    if x==n-1 and y==n-1 and mat[x][y]==1:\n",
    "        sol[x][y]=1\n",
    "        return 1\n",
    "    if(isSafe(maze,x,y))==1:\n",
    "        if(sol[x][y]==1):\n",
    "            return 0\n",
    "        sol[x][y]=1\n",
    "        \n",
    "        if solveMazeUtil(maze,x+1,y,sol)==1:\n",
    "            return 1\n",
    "        if solveMazeUtil(mat,x,y+1,sol)==1:\n",
    "            return 1\n",
    "        if solveMazeUtil(mat,x,y-1,sol)==1:\n",
    "            return 1\n",
    "        if solveMazeUtil(mat,x-1,y,sol)==1:\n",
    "            return 1\n",
    "        sol[x][y]=0\n",
    "        return 0\n",
    "maze = [ [1, 1, 0, 0],[1, 1, 1, 1],[0, 1, 0, 0],[1, 1, 1, 1] ]\n",
    "              \n",
    "solve(maze)"
   ]
  },
  {
   "cell_type": "code",
   "execution_count": 75,
   "id": "cbd46981",
   "metadata": {},
   "outputs": [
    {
     "name": "stdout",
     "output_type": "stream",
     "text": [
      "['DDRDRR', 'DRDDRR']\n"
     ]
    }
   ],
   "source": [
    "def findPath(i,j,mat,n,s,res):\n",
    "    if(i<0 or j<0 or j>=n or i>=n or mat[i][j]==0 or mat[i][j]==100):\n",
    "        return \n",
    "    elif(i==n-1 and j==n-1):\n",
    "        res.append(s)\n",
    "        s=''\n",
    "        return \n",
    "    else:\n",
    "        mat[i][j]=100\n",
    "        findPath(i+1,j,mat,n,s+'D',res)\n",
    "        findPath(i-1,j,mat,n,s+'U',res)\n",
    "        findPath(i,j+1,mat,n,s+'R',res)\n",
    "        findPath(i,j-1,mat,n,s+'L',res)\n",
    "        mat[i][j]=1\n",
    "maze = [ [1, 0, 0, 0],[1, 1,0, 0],[1, 1, 0, 0],[0, 1, 1, 1] ]\n",
    "res=[]\n",
    "findPath(0,0,maze,4,'',res)\n",
    "res.sort()\n",
    "print(res)"
   ]
  },
  {
   "cell_type": "code",
   "execution_count": 72,
   "id": "5476e244",
   "metadata": {},
   "outputs": [
    {
     "data": {
      "text/plain": [
       "['DDRDRR', 'DRDDRR']"
      ]
     },
     "execution_count": 72,
     "metadata": {},
     "output_type": "execute_result"
    }
   ],
   "source": [
    "def findPath(mat,n):\n",
    "    def dfs(x,y,s,res):\n",
    "        if(x<0 or y<0 or x>=n or y>=n or mat[x][y]==0 or mat[x][y]==100):\n",
    "            return\n",
    "        elif(x==n-1 and y==n-1):\n",
    "            res.append(s)\n",
    "        else:\n",
    "            mat[x][y]=100\n",
    "            dfs(x+1,y,s+'D',res)\n",
    "            dfs(x-1,y,s+'U',res)\n",
    "            dfs(x,y+1,s+'R',res)\n",
    "            dfs(x,y-1,s+'L',res)\n",
    "            mat[x][y]=1\n",
    "    res=[]\n",
    "    dfs(0,0,'',res)\n",
    "    return res\n",
    "findPath(maze,4)"
   ]
  },
  {
   "cell_type": "code",
   "execution_count": 73,
   "id": "1e365bdb",
   "metadata": {},
   "outputs": [
    {
     "data": {
      "text/plain": [
       "[[1, 0, 0, 0], [1, 0, 0, 0], [1, 0, 0, 0], [1, 1, 1, 1]]"
      ]
     },
     "execution_count": 73,
     "metadata": {},
     "output_type": "execute_result"
    }
   ],
   "source": [
    "def findPath(mat,n):\n",
    "    def dfs(x,y,sol):\n",
    "        if(x<0 or y<0 or x>=n or y>=n or mat[x][y]==0 or sol[x][y]==1 ):\n",
    "            return 0\n",
    "        if(x==n-1 and y==n-1):\n",
    "            sol[x][y]=1\n",
    "            return 1\n",
    "        else:\n",
    "            sol[x][y]=1\n",
    "            if(dfs(x+1,y,sol)==1):\n",
    "                return 1\n",
    "            if(dfs(x,y+1,sol)==1):\n",
    "                return 1\n",
    "            if(dfs(x-1,y,sol)==1):\n",
    "                return 1\n",
    "            if(dfs(x,y-1,sol)==1):\n",
    "                return 1\n",
    "    sol=[[0]*n for i in range(n)]\n",
    "    dfs(0,0,sol)\n",
    "    return sol\n",
    "maze = [[1,0, 0, 0],[1, 1,0, 0],[1, 1, 0, 0],[1, 1, 1, 1]]\n",
    "findPath(maze,4)"
   ]
  },
  {
   "cell_type": "code",
   "execution_count": 74,
   "id": "16a56703",
   "metadata": {},
   "outputs": [
    {
     "name": "stdout",
     "output_type": "stream",
     "text": [
      "16\n"
     ]
    }
   ],
   "source": [
    "#find 4 directions\n",
    "c=0\n",
    "def findNPath(mat,n):\n",
    "    def dfs(x,y):\n",
    "        if(x<0 or y<0 or x>=n or y>=n or mat[x][y]==0 or mat[x][y]==100):\n",
    "            return \n",
    "        if(x==n-1 and y==n-1):\n",
    "            global c\n",
    "            c+=1\n",
    "            return\n",
    "        else:\n",
    "#             print(\"x\")\n",
    "            mat[x][y]=100\n",
    "            dfs(x+1,y)\n",
    "            dfs(x-1,y)\n",
    "            dfs(x,y+1)\n",
    "            dfs(x,y-1)\n",
    "            mat[x][y]=1\n",
    "    \n",
    "    dfs(0,0)\n",
    "    print(c)\n",
    "maze = [[1,1, 1, 1],[1, 1,1, 1],[1, 1, 0, 0],[1, 1, 1, 1]]\n",
    "findNPath(maze,4)"
   ]
  },
  {
   "cell_type": "code",
   "execution_count": 115,
   "id": "060e00ed",
   "metadata": {},
   "outputs": [
    {
     "name": "stdout",
     "output_type": "stream",
     "text": [
      "1 0 0 \n",
      "1 1 1 \n",
      "0 1 1 \n",
      "0 0 1 \n"
     ]
    },
    {
     "data": {
      "text/plain": [
       "1"
      ]
     },
     "execution_count": 115,
     "metadata": {},
     "output_type": "execute_result"
    }
   ],
   "source": [
    "#97. Interleaving String\n",
    "def interleaving(s1,s2,s3):\n",
    "    m=len(s1)+1\n",
    "    n=len(s2)+1\n",
    "    dp=[[0]*n for i in range(m)]\n",
    "    dp[0][0]=1\n",
    "    #populate columns\n",
    "    for i in range(1,m):\n",
    "        if(s1[i-1]!=s3[i-1]):\n",
    "            dp[i][0]=0\n",
    "        else:\n",
    "            dp[i][0]=dp[i-1][0]\n",
    "    for j in range(1,n):\n",
    "        if(s2[j-1]!=s3[j-1]):\n",
    "            dp[0][j]=0\n",
    "        else:\n",
    "            dp[0][j]=dp[0][j-1]\n",
    "    for i in range(1,m):\n",
    "        for j in range(1,n):\n",
    "            if(s1[i-1]==s3[i+j-1] and s2[j-1]!=s3[i+j-1]):\n",
    "                dp[i][j]=dp[i-1][j]\n",
    "            elif(s1[i-1]!=s3[i+j-1] and s2[j-1]==s3[i+j-1]):\n",
    "                dp[i][j]=dp[i][j-1]\n",
    "            elif(s1[i-1]==s3[i+j-1] and s2[i-1]==s3[i+j-1]):\n",
    "                dp[i][j]=dp[i-1][j] or dp[i][j-1]\n",
    "            else:\n",
    "                dp[i][j]=0\n",
    "    \n",
    "    disp(dp)\n",
    "    return dp[m-1][n-1]\n",
    "def disp(mat):\n",
    "    for i in range(len(mat)):\n",
    "        for j in range(len(mat[0])):\n",
    "            print(mat[i][j],end=' ')\n",
    "        print()\n",
    "s1 = \"abc\"\n",
    "s2 = \"db\"\n",
    "s3 = \"adbbc\"\n",
    "interleaving(s1,s2,s3)"
   ]
  },
  {
   "cell_type": "code",
   "execution_count": 75,
   "id": "33057bf8",
   "metadata": {},
   "outputs": [
    {
     "data": {
      "text/plain": [
       "12"
      ]
     },
     "execution_count": 75,
     "metadata": {},
     "output_type": "execute_result"
    }
   ],
   "source": [
    "c=0\n",
    "def find(mat,n):\n",
    "    def dfs(x,y):\n",
    "        if(x<0 or y<0 or x>=n or y>=n or mat[x][y]==0 or mat[x][y]==100):\n",
    "            return \n",
    "        if(x==n-1 and y==n-1):\n",
    "            global c\n",
    "            c+=1\n",
    "            return\n",
    "        else:\n",
    "            mat[x][y]=100\n",
    "            dfs(x+1,y)\n",
    "            dfs(x-1,y)\n",
    "            dfs(x,y+1)\n",
    "            dfs(x,y-1)\n",
    "            mat[x][y]=1\n",
    "    dfs(0,0)\n",
    "    return c\n",
    "maze = [[1,1, 1, 0],[1, 1,1, 0],[1, 1, 0, 0],[1, 1, 1, 1]]\n",
    "find(maze,4)"
   ]
  },
  {
   "cell_type": "code",
   "execution_count": null,
   "id": "a9ef883e",
   "metadata": {},
   "outputs": [],
   "source": [
    " \n",
    "def numMatchingSubseq(self, s: str, words: List[str]) -> int:\n",
    "    dic=defaultdict(list)\n",
    "    cnt=0\n",
    "    for w in words:\n",
    "        dic[w[0]].append(w)\n",
    "    for c in s:\n",
    "        cur_dic=dic[c]\n",
    "        dic[c]=[]\n",
    "        for w in cur_dic:\n",
    "            if len(w)==1:\n",
    "                cnt+=1\n",
    "            else:\n",
    "                dic[w[1]].append(w[1:])\n",
    "#     print(dic)\n",
    "    return cnt"
   ]
  },
  {
   "cell_type": "code",
   "execution_count": 76,
   "id": "f6412cb7",
   "metadata": {},
   "outputs": [
    {
     "data": {
      "text/plain": [
       "['((()))', '(()())', '(())()', '()(())', '()()()']"
      ]
     },
     "execution_count": 76,
     "metadata": {},
     "output_type": "execute_result"
    }
   ],
   "source": [
    "def gen(n):\n",
    "    ans=[]\n",
    "    def dfs(s,l,r):\n",
    "        if(len(s)==2*n):\n",
    "            ans.append(\"\".join(s))\n",
    "            return\n",
    "        if(l<n):\n",
    "            s.append('(')\n",
    "            dfs(s,l+1,r)\n",
    "            s.pop()\n",
    "        if(r<l):\n",
    "            s.append(')')\n",
    "            dfs(s,l,r+1)\n",
    "            s.pop()\n",
    "    dfs([],0,0)\n",
    "    return ans\n",
    "gen(3)"
   ]
  },
  {
   "cell_type": "code",
   "execution_count": 77,
   "id": "4954c34e",
   "metadata": {},
   "outputs": [
    {
     "name": "stdout",
     "output_type": "stream",
     "text": [
      "['000', '001', '010', '011', '100', '101', '110', '111']\n",
      "yes\n"
     ]
    }
   ],
   "source": [
    "#generate binary strings\n",
    "def gen(arr,i):\n",
    "    if(i==len(arr)):\n",
    "        res.append(\"\".join([str(i) for i in a]))\n",
    "        return\n",
    "    arr[i]=0\n",
    "    gen(arr,i+1)\n",
    "    arr[i]=1\n",
    "    gen(arr,i+1)\n",
    "res=[]\n",
    "n=3\n",
    "a=[None for _ in range(n)]\n",
    "gen(a,0)\n",
    "print(res)\n",
    "if '000' in res:\n",
    "    print(\"yes\")"
   ]
  },
  {
   "cell_type": "code",
   "execution_count": 79,
   "id": "1d421213",
   "metadata": {},
   "outputs": [
    {
     "name": "stdout",
     "output_type": "stream",
     "text": [
      "[[7, 4, 1], [8, 5, 2], [9, 6, 3]]\n"
     ]
    }
   ],
   "source": [
    "#rotate matrix or image by 90 degree\n",
    "def transpose(mat,n):\n",
    "    for i in range(n):\n",
    "        for j in range(i,n):\n",
    "            mat[i][j],mat[j][i]=mat[j][i],mat[i][j]\n",
    "def reverse(mat,n):\n",
    "    for i in range(n):\n",
    "        for j in range(n//2):\n",
    "            mat[i][j],mat[i][-j-1]=mat[i][-j-1],mat[i][j]\n",
    "mat=[[1,2,3],[4,5,6],[7,8,9]]\n",
    "transpose(mat,len(mat))\n",
    "reverse(mat,len(mat))\n",
    "print(mat)"
   ]
  },
  {
   "cell_type": "code",
   "execution_count": 77,
   "id": "45c49609",
   "metadata": {},
   "outputs": [
    {
     "name": "stdout",
     "output_type": "stream",
     "text": [
      "['0', '1', '10', '11', '100', '101', '110', '111']\n"
     ]
    }
   ],
   "source": [
    "a=[bin(i)[2:] for i in range(8)]\n",
    "print(a)"
   ]
  },
  {
   "cell_type": "code",
   "execution_count": 80,
   "id": "44025547",
   "metadata": {},
   "outputs": [
    {
     "data": {
      "text/plain": [
       "[[1, 2, 3], [2, 4], [2, 3, 1], [4, 2], [2, 3, 1]]"
      ]
     },
     "execution_count": 80,
     "metadata": {},
     "output_type": "execute_result"
    }
   ],
   "source": [
    "#Combination for target sum with no repetation\n",
    "def combination(s,target):\n",
    "    res=[]\n",
    "    dfs(s,0,[],res,target)\n",
    "    return res\n",
    "def dfs(s,start,path,res,target):\n",
    "    if not target:\n",
    "        res.append(path)\n",
    "    for i in range(start,len(s)):\n",
    "        if(i>start and s[i]==s[i-1]):\n",
    "            continue\n",
    "        if(s[i]>target):\n",
    "            break\n",
    "        dfs(s,i+1,path+[s[i]],res,target-s[i])\n",
    "combination([1,2,4,2,3,1],6)"
   ]
  },
  {
   "cell_type": "code",
   "execution_count": null,
   "id": "952036d1",
   "metadata": {},
   "outputs": [],
   "source": []
  },
  {
   "cell_type": "code",
   "execution_count": 81,
   "id": "cc299081",
   "metadata": {},
   "outputs": [
    {
     "data": {
      "text/plain": [
       "[[1], [1, 2], [2], [1, 2, 3], [2, 3], [3]]"
      ]
     },
     "execution_count": 81,
     "metadata": {},
     "output_type": "execute_result"
    }
   ],
   "source": [
    "#generate subArrays\n",
    "def gen(nums):\n",
    "    res=[]\n",
    "    dfs(nums,0,0,res)\n",
    "    return res\n",
    "def dfs(nums,start,end,res):\n",
    "    if(end==len(nums)):\n",
    "        return\n",
    "    elif(start>end):\n",
    "        return dfs(nums,0,end+1,res)\n",
    "    else:\n",
    "        res.append(nums[start:end+1])\n",
    "        return dfs(nums,start+1,end,res)\n",
    "gen([1,2,3])"
   ]
  },
  {
   "cell_type": "code",
   "execution_count": 83,
   "id": "651e605b",
   "metadata": {},
   "outputs": [
    {
     "data": {
      "text/plain": [
       "['((()))', '(()())', '(())()', '()(())', '()()()']"
      ]
     },
     "execution_count": 83,
     "metadata": {},
     "output_type": "execute_result"
    }
   ],
   "source": [
    "def genParen(n):\n",
    "    res=[]\n",
    "    dfs(n,n,'',res)\n",
    "    return res\n",
    "def dfs(l,r,path,res):\n",
    "    if(l<0 or r<0 or l>r ):\n",
    "        return \n",
    "    if(l==0 and r==0):\n",
    "        res.append(path)\n",
    "    dfs(l-1,r,path+'(',res)\n",
    "    dfs(l,r-1,path+')',res)\n",
    "genParen(3)"
   ]
  },
  {
   "cell_type": "code",
   "execution_count": 84,
   "id": "851586e3",
   "metadata": {},
   "outputs": [
    {
     "data": {
      "text/plain": [
       "[[1, 2, 3], [1, 3, 2], [2, 1, 3], [2, 3, 1], [3, 2, 1], [3, 1, 2]]"
      ]
     },
     "execution_count": 84,
     "metadata": {},
     "output_type": "execute_result"
    }
   ],
   "source": [
    "def perm(nums):\n",
    "    res=[]\n",
    "    dfs(nums,res,0)\n",
    "    return res\n",
    "def dfs(nums,res,i):\n",
    "    if(i==len(nums)):\n",
    "        res.append(nums.copy())\n",
    "        return\n",
    "    for j in range(i,len(nums)):\n",
    "        nums[i],nums[j]=nums[j],nums[i]\n",
    "        dfs(nums,res,i+1)\n",
    "        nums[i],nums[j]=nums[j],nums[i]\n",
    "perm([1,2,3])"
   ]
  },
  {
   "cell_type": "code",
   "execution_count": 85,
   "id": "e19f6e15",
   "metadata": {},
   "outputs": [
    {
     "data": {
      "text/plain": [
       "[[1, 1],\n",
       " [1, 2],\n",
       " [1, 3],\n",
       " [1, 4],\n",
       " [2, 1],\n",
       " [2, 2],\n",
       " [2, 3],\n",
       " [2, 4],\n",
       " [3, 1],\n",
       " [3, 2],\n",
       " [3, 3],\n",
       " [3, 4],\n",
       " [4, 1],\n",
       " [4, 2],\n",
       " [4, 3],\n",
       " [4, 4]]"
      ]
     },
     "execution_count": 85,
     "metadata": {},
     "output_type": "execute_result"
    }
   ],
   "source": [
    "def com(n,k):\n",
    "    res=[]\n",
    "    dfs(res,n,k,[])\n",
    "    return res\n",
    "def dfs(res,n,k,path):\n",
    "    if(k==0):\n",
    "        res.append(path)\n",
    "        return\n",
    "    for i in range(1,n+1):\n",
    "        dfs(res,n,k-1,path+[i])\n",
    "com(4,2)"
   ]
  },
  {
   "cell_type": "code",
   "execution_count": 86,
   "id": "ab14bcaf",
   "metadata": {},
   "outputs": [
    {
     "data": {
      "text/plain": [
       "'01'"
      ]
     },
     "execution_count": 86,
     "metadata": {},
     "output_type": "execute_result"
    }
   ],
   "source": [
    "def binary(nums):\n",
    "    dic={ int(num,2) for num in nums}\n",
    "    l=len(nums[0])\n",
    "    for i in range(2**l):\n",
    "        if i not in dic:\n",
    "            tmp=bin(i)[2:]\n",
    "            return (l-len(tmp))*\"0\"+tmp\n",
    "binary([\"00\",\"10\"])"
   ]
  },
  {
   "cell_type": "code",
   "execution_count": 87,
   "id": "a951982a",
   "metadata": {},
   "outputs": [
    {
     "data": {
      "text/plain": [
       "9"
      ]
     },
     "execution_count": 87,
     "metadata": {},
     "output_type": "execute_result"
    }
   ],
   "source": [
    "dp = [0, 0, 0]\n",
    "A=[1,3,1,4]\n",
    "for a in A:\n",
    "    for i in dp[:]:\n",
    "        dp[(i + a) % 3] = max(dp[(i + a) % 3], i + a)\n",
    "dp[0] "
   ]
  },
  {
   "cell_type": "code",
   "execution_count": 88,
   "id": "23936432",
   "metadata": {},
   "outputs": [
    {
     "name": "stdout",
     "output_type": "stream",
     "text": [
      "[18, 22, 23]\n"
     ]
    }
   ],
   "source": [
    "#3sum \n",
    "nums=[3,6,5,1,8]\n",
    "dp=[0,0,0]\n",
    "for a in nums:\n",
    "    for i in dp[:]:\n",
    "        dp[(i+a)%3]=max(dp[(i+a)%3],i+a)\n",
    "print(dp)"
   ]
  },
  {
   "cell_type": "code",
   "execution_count": 65,
   "id": "d8bc9eb8",
   "metadata": {},
   "outputs": [
    {
     "name": "stdout",
     "output_type": "stream",
     "text": [
      "[[0, 0, 0], [0, 0, 0], [0, 1, 1], [0, 1, 1], [0, 1, 2]]\n"
     ]
    },
    {
     "data": {
      "text/plain": [
       "2"
      ]
     },
     "execution_count": 65,
     "metadata": {},
     "output_type": "execute_result"
    }
   ],
   "source": [
    "#longest common subsequence using dp\n",
    "def lcs(s1,s2):\n",
    "    m=len(s1)\n",
    "    n=len(s2)\n",
    "    dp=[[0 for _ in range(n+1)] for _ in range(m+1)]\n",
    "    for i in range(m+1):\n",
    "        for j in range(n+1):\n",
    "            if(i==0 or j==0):\n",
    "                dp[i][j]=0\n",
    "            elif(s1[i-1]==s2[j-1]):\n",
    "                dp[i][j]=dp[i-1][j-1]+1\n",
    "            else:\n",
    "                dp[i][j]=max(dp[i-1][j],dp[i][j-1])\n",
    "    print(dp)\n",
    "    return dp[m][n]\n",
    "X=\"sasb\"\n",
    "Y=\"ab\"\n",
    "lcs(X,Y)"
   ]
  },
  {
   "cell_type": "code",
   "execution_count": 90,
   "id": "b847b1dc",
   "metadata": {},
   "outputs": [
    {
     "data": {
      "text/plain": [
       "4"
      ]
     },
     "execution_count": 90,
     "metadata": {},
     "output_type": "execute_result"
    }
   ],
   "source": [
    "#recursive longest subsequence\n",
    "def lcs(a,b,m,n):\n",
    "    if(m==0 or n==0):\n",
    "        return 0\n",
    "    elif(a[m-1]==b[n-1]):\n",
    "        return 1+lcs(a,b,m-1,n-1)\n",
    "    else:\n",
    "        return max(lcs(a,b,m-1,n),lcs(a,b,m,n-1))\n",
    "a=\"AGGTAB\"\n",
    "b = \"GXTXAYB\"\n",
    "lcs(a,b,len(a),len(b))"
   ]
  },
  {
   "cell_type": "code",
   "execution_count": 11,
   "id": "a2f25b3c",
   "metadata": {},
   "outputs": [
    {
     "data": {
      "text/plain": [
       "'aababaa'"
      ]
     },
     "execution_count": 11,
     "metadata": {},
     "output_type": "execute_result"
    }
   ],
   "source": [
    "#longest palindrome sequence \n",
    "def longestPal(s):\n",
    "    res=''\n",
    "    for i in range(len(s)):\n",
    "        res=max(dfs(s,i,i),dfs(s,i,i+1),res,key=len)\n",
    "    return res\n",
    "def dfs(s,l,r):\n",
    "    while(l>=0 and r<len(s) and s[l]==s[r]):\n",
    "        l-=1\n",
    "        r+=1\n",
    "    return s[l+1:r]\n",
    "longestPal('abaababaaaa')"
   ]
  },
  {
   "cell_type": "code",
   "execution_count": 92,
   "id": "2ad11a3b",
   "metadata": {},
   "outputs": [
    {
     "data": {
      "text/plain": [
       "'aaaasaaaa'"
      ]
     },
     "execution_count": 92,
     "metadata": {},
     "output_type": "execute_result"
    }
   ],
   "source": [
    "#dp implementation of longest palindrome\n",
    "def lPal(s):\n",
    "    res=\"\"\n",
    "    dp=[None for _ in range(len(s))]\n",
    "    for j in range(len(s)):\n",
    "        for i in range(j+1):\n",
    "            if(i==j):\n",
    "                dp[i]=True\n",
    "            elif j==i+1:\n",
    "                dp[i]=(s[i]==s[j])\n",
    "            else:\n",
    "                dp[i]=(dp[i+1] and s[i]==s[j])\n",
    "            if dp[i] and j-i+1>len(res):\n",
    "                res=s[i:j+1]\n",
    "#     print(dp)\n",
    "    return res\n",
    "lPal('aaaasaaaaca')"
   ]
  },
  {
   "cell_type": "code",
   "execution_count": 93,
   "id": "cbc76ea1",
   "metadata": {},
   "outputs": [
    {
     "data": {
      "text/plain": [
       "49"
      ]
     },
     "execution_count": 93,
     "metadata": {},
     "output_type": "execute_result"
    }
   ],
   "source": [
    "#maximum water between poles\n",
    "def maxWater(h):\n",
    "    cur_fill,m_fill,i,j=0,0,0,len(h)-1\n",
    "    while(i<j):\n",
    "        cur_fill=min(h[j],h[i])*(j-i)\n",
    "        m_fill=max(cur_fill,m_fill)\n",
    "        if(h[i]<h[j]):\n",
    "            i+=1\n",
    "        else:\n",
    "            j-=1\n",
    "    return m_fill\n",
    "maxWater([1,8,6,2,5,4,8,3,7])"
   ]
  },
  {
   "cell_type": "code",
   "execution_count": 10,
   "id": "8654e263",
   "metadata": {},
   "outputs": [],
   "source": [
    "#42.Trapping Rain Water\n",
    "def trapWater(height):\n",
    "    ans,h=0,len(height)\n",
    "    l,r=[0]*h,[0]*h\n",
    "    l[0]=height[0]\n",
    "    for i in range(1,h):\n",
    "        l[i]=max(height[i],l[i-1])\n",
    "    r[h-1]=height[h-1]\n",
    "    for i in range(h-2,-1,-1):\n",
    "        r[i]=max(height[i],r[i+1])\n",
    "    for i in range(1,h):\n",
    "        ans+=min(l[i],r[i])-height[i]\n",
    "    return ans\n",
    "\n",
    "assert trapWater([0,1,0,2,1,0,1,3,2,1,2,1])==6\n",
    "assert trapWater([4,2,0,3,2,5])==9"
   ]
  },
  {
   "cell_type": "code",
   "execution_count": 10,
   "id": "9205b664",
   "metadata": {},
   "outputs": [
    {
     "data": {
      "text/plain": [
       "6"
      ]
     },
     "execution_count": 10,
     "metadata": {},
     "output_type": "execute_result"
    }
   ],
   "source": [
    "#longest palindromic sequence using recurssion\n",
    "from functools import lru_cache\n",
    "@lru_cache(None)\n",
    "def dp(i, j):\n",
    "    if i == j:\n",
    "        return 1\n",
    "    elif i > j:\n",
    "        return 0\n",
    "    if s[i] == s[j]:\n",
    "        return 2 + dp(i + 1, j - 1)\n",
    "    else:\n",
    "        return max(dp(i + 1, j), dp(i, j - 1))\n",
    "            \n",
    "s='absaaba'\n",
    "s = list(s)\n",
    "dp(0, len(s) - 1)"
   ]
  },
  {
   "cell_type": "code",
   "execution_count": 2,
   "id": "10f63c67",
   "metadata": {},
   "outputs": [
    {
     "data": {
      "text/plain": [
       "3"
      ]
     },
     "execution_count": 2,
     "metadata": {},
     "output_type": "execute_result"
    }
   ],
   "source": [
    "# 91. Decode Ways\n",
    "def nDecodeWays(s):\n",
    "    return decode(0,s,len(s))\n",
    "def decode(p,s,n,dic={}):\n",
    "    if(p==n):\n",
    "        return 1\n",
    "    if(s[p]=='0'):\n",
    "        return 0\n",
    "    res=decode(p+1,s,n)\n",
    "    if(p<n-1 and (s[p]=='1' or (s[p]=='2' and s[p+1]<'7'))):\n",
    "        res+=decode(p+2,s,n)\n",
    "    return res\n",
    "nDecodeWays('1231')"
   ]
  },
  {
   "cell_type": "code",
   "execution_count": 95,
   "id": "87162e3f",
   "metadata": {},
   "outputs": [
    {
     "data": {
      "text/plain": [
       "2781184"
      ]
     },
     "execution_count": 95,
     "metadata": {},
     "output_type": "execute_result"
    }
   ],
   "source": [
    "#finding nCr using recurssion\n",
    "from functools import lru_cache\n",
    "@lru_cache(maxsize=120)\n",
    "def combination(n,m):\n",
    "    if(n==0 or m==0 or n==m):\n",
    "        return 1\n",
    "    else:\n",
    "        return combination(m-1,n)+combination(m-1,n-1)\n",
    "combination(43,15)"
   ]
  },
  {
   "cell_type": "code",
   "execution_count": 96,
   "id": "a33f1cea",
   "metadata": {},
   "outputs": [
    {
     "data": {
      "text/plain": [
       "14"
      ]
     },
     "execution_count": 96,
     "metadata": {},
     "output_type": "execute_result"
    }
   ],
   "source": [
    "#Min path cost to reach top to bottom of graph without dp and using cache\n",
    "from functools import lru_cache\n",
    "@lru_cache(None)\n",
    "def minCost(cost,m,n):\n",
    "    if(m==0 and n==0):\n",
    "        return cost[0][0]\n",
    "    if(m==0):\n",
    "        return minCost(cost,m,n-1)+cost[0][n]\n",
    "    if(n==0):\n",
    "        return minCost(cost,m-1,n)+cost[m][0]\n",
    "    x=minCost(cost,m-1,n)\n",
    "    y=minCost(cost,m,n-1)\n",
    "    return (min(x,y)+cost[m][n])\n",
    "cost=((1,3,5,8),(4,2,1,7),(4,3,2,3))\n",
    "minCost(cost,1,3)"
   ]
  },
  {
   "cell_type": "code",
   "execution_count": 98,
   "id": "cf29d43f",
   "metadata": {},
   "outputs": [
    {
     "name": "stdout",
     "output_type": "stream",
     "text": [
      "[[1, 4, 9, 17], [5, 6, 7, 14], [9, 9, 9, 12]]\n"
     ]
    },
    {
     "data": {
      "text/plain": [
       "12"
      ]
     },
     "execution_count": 98,
     "metadata": {},
     "output_type": "execute_result"
    }
   ],
   "source": [
    "#Min path cost to reach top to bottom of graph \n",
    "def minPathCost(cost):\n",
    "    m=len(cost)\n",
    "    n=len(cost[0])\n",
    "    dp=[[0]*n for i in range(m)]\n",
    "    dp[0][0]=cost[0][0]\n",
    "    for i in range(1,m):\n",
    "        dp[i][0]=dp[i-1][0]+cost[i][0]\n",
    "    for i in range(1,n):\n",
    "        dp[0][i]=dp[0][i-1]+cost[0][i]\n",
    "    for i in range(1,m):\n",
    "        for j in range(1,n):\n",
    "            dp[i][j]=min(dp[i-1][j],dp[i][j-1])+cost[i][j]\n",
    "    print(dp)\n",
    "    return dp[m-1][n-1]\n",
    "cost=[[1,3,5,8],[4,2,1,7],[4,3,2,3]]\n",
    "minPathCost(cost)"
   ]
  },
  {
   "cell_type": "code",
   "execution_count": 9,
   "id": "941334c8",
   "metadata": {},
   "outputs": [
    {
     "data": {
      "text/plain": [
       "5036050512"
      ]
     },
     "execution_count": 9,
     "metadata": {},
     "output_type": "execute_result"
    }
   ],
   "source": [
    "#number of ways change can be provided for n rupees using 3,5,10\n",
    "def coinChange(n,c={}):\n",
    "    if(n<0):\n",
    "        return 0\n",
    "    if(n==0):\n",
    "        return 1\n",
    "    if n not in c:\n",
    "        c[n]=coinChange(n-3)+coinChange(n-5)+coinChange(n-10)\n",
    "    return c[n]\n",
    "coinChange(113)"
   ]
  },
  {
   "cell_type": "code",
   "execution_count": null,
   "id": "dbc6bc3e",
   "metadata": {},
   "outputs": [],
   "source": [
    "def NPaths(m,n):\n",
    "    dp=[[1]*n for _ in range(2)]\n",
    "    for i in range(1,m):\n",
    "        for j in range(1,n):\n",
    "            dp[i%2][j]=dp[i%2][j-1]+dp[(i-1)%2][j]\n",
    "    print(dp)\n",
    "    return dp[(m%2)-1][n-1]\n",
    "NPaths(3,4)"
   ]
  },
  {
   "cell_type": "code",
   "execution_count": null,
   "id": "15aa31f1",
   "metadata": {},
   "outputs": [],
   "source": [
    "from functools import lru_cache\n",
    "@lru_cache(None)\n",
    "def NPaths(m,n):\n",
    "    if(m==1 or n==1):\n",
    "        return 1\n",
    "    else:\n",
    "        return NPaths(m-1,n)+NPaths(m,n-1)\n",
    "NPaths(23,11)"
   ]
  },
  {
   "cell_type": "code",
   "execution_count": null,
   "id": "fcee5d5f",
   "metadata": {},
   "outputs": [],
   "source": [
    "#Without obstacle\n",
    "def NPaths(m,n):\n",
    "    dp=[[1 if i==0 or j==0 else 0 for i in range(n)] for j in range(m)]\n",
    "    for i in range(1,m):\n",
    "        for j in range(1,n):\n",
    "            dp[i][j]=dp[i-1][j]+dp[i][j-1]\n",
    "    print(dp)\n",
    "    return dp[m-1][n-1]\n",
    "NPaths(5,3)"
   ]
  },
  {
   "cell_type": "code",
   "execution_count": 16,
   "id": "3ed7282a",
   "metadata": {},
   "outputs": [
    {
     "data": {
      "text/plain": [
       "[[5, 5, 5, 0], [5, 5, 2, 5], [4, 5, 5, 5]]"
      ]
     },
     "execution_count": 16,
     "metadata": {},
     "output_type": "execute_result"
    }
   ],
   "source": [
    "#flood fill\n",
    "def fillColor(mat,new,r,c):\n",
    "    def dfs(mat,r,c,color,new):\n",
    "        if(r<0 or r>=len(mat) or c<0 or c>=len(mat[0]) or mat[r][c]!=color):\n",
    "            return 0\n",
    "        if(mat[r][c]==color):\n",
    "            mat[r][c]=new\n",
    "        dfs(mat,r+1,c,color,new)\n",
    "        dfs(mat,r-1,c,color,new)        \n",
    "        dfs(mat,r,c-1,color,new)\n",
    "        dfs(mat,r,c+1,color,new)        \n",
    "        return 1\n",
    "    if(new==mat[r][c]):\n",
    "        return mat\n",
    "    dfs(mat,r,c,mat[r][c],new)\n",
    "    return mat\n",
    "mat=[[1,1,1,0],[1,1,2,5],[4,1,1,1]]\n",
    "fillColor(mat,5,0,2)\n"
   ]
  },
  {
   "cell_type": "code",
   "execution_count": null,
   "id": "2386446c",
   "metadata": {},
   "outputs": [],
   "source": [
    "#Number of paths with obstacle that can be covered\n",
    "def NPaths(mat):\n",
    "    if(mat[0][0]==1):\n",
    "        return 0\n",
    "    m=len(mat)\n",
    "    n=len(mat[0])\n",
    "    dp=[[0 for j in range(n)] for i in range(m)]\n",
    "    dp[0][0]=1\n",
    "    for i in range(1,m):\n",
    "        if(mat[i][0]==1):\n",
    "            dp[i][0]=0\n",
    "        else:\n",
    "            dp[i][0]=int(dp[i-1][0]==1)\n",
    "    for j in range(1,n):\n",
    "        if(mat[0][j]==1):\n",
    "            dp[0][j]=0\n",
    "        else:\n",
    "            dp[0][j]=int(dp[0][j-1]==1)\n",
    "    for i in range(1,m):\n",
    "        for j in range(1,n):\n",
    "            if(mat[i][j]==0):\n",
    "                dp[i][j]=dp[i][j-1]+dp[i-1][j]\n",
    "            else:\n",
    "                dp[i][j]=0\n",
    "                \n",
    "    return dp[m-1][n-1]\n",
    "NPaths([[0,0,0],[0,1,0],[0,0,0]])"
   ]
  },
  {
   "cell_type": "markdown",
   "id": "3ab2c055",
   "metadata": {},
   "source": [
    "<h1>Linked List, Binary Search Tree"
   ]
  },
  {
   "cell_type": "code",
   "execution_count": null,
   "id": "a7797e9e",
   "metadata": {},
   "outputs": [],
   "source": [
    "# All about linked list\n",
    "class Node:\n",
    "    def __init__(self,data):\n",
    "        self.data=data\n",
    "        self.next=None\n",
    "def insert(root,data):\n",
    "    if(root==None):\n",
    "        return Node(data)\n",
    "    else: \n",
    "        p=root\n",
    "        while(p.next!=None):\n",
    "            p=p.next\n",
    "        p.next=Node(data)\n",
    "def detectLoop(root):\n",
    "    slow=root\n",
    "    fast=root\n",
    "    while(slow and fast and fast.next):\n",
    "        slow=slow.next\n",
    "        fast=fast.next.next\n",
    "        if(slow==fast):\n",
    "            return 1\n",
    "    return 0\n",
    "#reverse linked list\n",
    "def reverse(root):\n",
    "    prev=None\n",
    "    p=root\n",
    "    nxt=None\n",
    "    while(p):\n",
    "        nxt=p.next\n",
    "        p.next=prev\n",
    "        prev=p\n",
    "        p=nxt\n",
    "    root=prev\n",
    "    return root\n",
    "#Reverse a Linked List in groups of given size\n",
    "def revGrp(root,k):\n",
    "    if root==None:\n",
    "        return \n",
    "    prev=None\n",
    "    p=root\n",
    "    cnt=0\n",
    "    while(p and cnt<k):\n",
    "        nxt=p.next\n",
    "        p.next=prev\n",
    "        prev=p\n",
    "        p=nxt\n",
    "        cnt+=1\n",
    "    if nxt:\n",
    "        root.next=revGrp(nxt,k)\n",
    "    return prev\n",
    "def display(root):\n",
    "    if(root):\n",
    "        print(root.data,end=\"->\")\n",
    "        display(root.next)\n",
    "#mid element of linked list \n",
    "def findMid(root):\n",
    "    slow=root\n",
    "    fast=root\n",
    "    while(fast and fast.next):\n",
    "        slow=slow.next\n",
    "        fast=fast.next.next\n",
    "    if(fast):\n",
    "        slow=slow.next\n",
    "    print(slow.data)\n",
    "def isPalindrome(root):\n",
    "    p=root\n",
    "    st=[]\n",
    "    while(p):\n",
    "        st.append(p.data)\n",
    "        p=p.next\n",
    "    return st[::-1]==st\n",
    "#     q=root\n",
    "#     while(st):\n",
    "#         if(q.data!=st.pop()):\n",
    "#             return 0\n",
    "#         q=q.next\n",
    "#     return 1\n",
    "if __name__=='__main__':\n",
    "    root=Node(3)\n",
    "    insert(root,5)\n",
    "    insert(root,8)\n",
    "    insert(root,5)\n",
    "    insert(root,3)\n",
    "#     insert(root,12)\n",
    "#     insert(root,13)\n",
    "\n",
    "#     display(root)\n",
    "#     root=rev(root,4)\n",
    "#     print()\n",
    "#     display(root)\n",
    "#     print()\n",
    "#     findMid(root)\n",
    "    \n",
    "#     # Create a loop for testing\n",
    "#     root.next.next.next.next = root\n",
    "#     if(detectLoop(root)):\n",
    "#         print(\"Found Loop\")\n",
    "#     else:\n",
    "#         print(\"No Loop\")\n",
    "    print(isPalindrome(root))"
   ]
  },
  {
   "cell_type": "code",
   "execution_count": 23,
   "id": "b07fd88b",
   "metadata": {},
   "outputs": [
    {
     "name": "stdout",
     "output_type": "stream",
     "text": [
      "\n",
      "\n",
      "Pre [9, 3, 6, 14, 23]\n",
      "Inorder: [3, 6, 9, 14, 23]\n",
      "Post [6, 3, 23, 14, 9]\n",
      "\n",
      "Sum of childrens\n",
      "55->9->6->37->23->"
     ]
    }
   ],
   "source": [
    "#Binary search tree implementation \n",
    "class Node:\n",
    "    def __init__(self,data):\n",
    "        self.data=data\n",
    "        self.left=None\n",
    "        self.right=None\n",
    "def insert(root,data):\n",
    "    if(not root):\n",
    "        return Node(data)\n",
    "    else:\n",
    "        if(root.data==data):\n",
    "            return \n",
    "        elif(root.data>data):\n",
    "            root.left=insert(root.left,data)\n",
    "        else:\n",
    "            root.right=insert(root.right,data)\n",
    "    return root\n",
    "def preorder(root):\n",
    "    st=[]\n",
    "    res=[]\n",
    "    st.append(root)\n",
    "    while(len(st)>0):\n",
    "        p=st.pop()\n",
    "        if p!=None:\n",
    "            res.append(p.data)\n",
    "            st.append(p.right)\n",
    "            st.append(p.left)\n",
    "    return res\n",
    "def preOrderRec(root):\n",
    "    if(root):\n",
    "        print(root.data,end='->')\n",
    "        preOrderRec(root.left)\n",
    "        preOrderRec(root.right)\n",
    "        \n",
    "def inorder(root):\n",
    "    st=[]\n",
    "    cur=root\n",
    "    res=[]\n",
    "    while(1):\n",
    "        if(cur):\n",
    "            st.append(cur)\n",
    "            cur=cur.left\n",
    "        elif(st):\n",
    "            cur=st.pop()\n",
    "            res.append(cur.data)\n",
    "            cur=cur.right\n",
    "        else:\n",
    "            break\n",
    "    return res\n",
    "def height(root):\n",
    "    if(not root):\n",
    "        return 0\n",
    "    else:\n",
    "        l=height(root.left)\n",
    "        r=height(root.right)\n",
    "        if(l>r):\n",
    "            return l+1\n",
    "        else:\n",
    "            return r+1\n",
    "def traversal(root):\n",
    "    if root:\n",
    "        pre.append(root.data)\n",
    "        traversal(root.left)\n",
    "        ino.append(root.data)\n",
    "        traversal(root.right)\n",
    "        post.append(root.data)\n",
    "\n",
    "def isSymetric(root):\n",
    "    def check(l,r):\n",
    "        if not l and not r:\n",
    "            return 1\n",
    "        elif l and r:\n",
    "            return (l.data==r.data and check(l.left,r.right) and check(l.right,r.left))\n",
    "        return 0\n",
    "    return not root or check(root.left, root.right)\n",
    "\n",
    "def addSum(root):\n",
    "    if(root==None):\n",
    "        return\n",
    "    addSum(root.left)\n",
    "    addSum(root.right)\n",
    "    \n",
    "    finalSum=root.data\n",
    "    if(root.left!=None):\n",
    "        finalSum+=root.left.data\n",
    "    if(root.right!=None):\n",
    "        finalSum+=root.right.data\n",
    "    root.data=finalSum\n",
    "if __name__==\"__main__\":\n",
    "    \n",
    "    root=Node(9)\n",
    "    insert(root,14)\n",
    "    insert(root,23)\n",
    "    insert(root,3)\n",
    "    insert(root,6)\n",
    "#     print(\"\\nInorder:\",inorder(root))\n",
    "    print()\n",
    "#     preOrderRec(root)\n",
    "#     print(inorder(root))\n",
    "    pre,ino,post=[],[],[]\n",
    "    traversal(root)\n",
    "    print()\n",
    "    print(\"Pre\",pre)\n",
    "    print(\"Inorder:\",ino)\n",
    "    print(\"Post\",post)\n",
    "    print(\"\\nSum of childrens\")\n",
    "    addSum(root)\n",
    "    preOrderRec(root)"
   ]
  },
  {
   "cell_type": "code",
   "execution_count": 103,
   "id": "93c14096",
   "metadata": {},
   "outputs": [
    {
     "name": "stdout",
     "output_type": "stream",
     "text": [
      "3->5->6->7->8->13->15->51->\n",
      "Not complete binary search tree\n",
      "Not Perfect binary tree\n",
      "Not fully binary search tree\n",
      "Level order traversal: 7 5 15 3 6 8 51 13 \n",
      "Is height balanced: 1\n",
      "Sum of nodes: 108\n"
     ]
    }
   ],
   "source": [
    "#binary search treee\n",
    "#1.inserting 2. inorder using stack 3.height 4.Number of nodes 5.type os BST 6.Level order traversal. 7.Symmetric \n",
    "\n",
    "class Node:\n",
    "    def __init__(self,data):\n",
    "        self.data=data\n",
    "        self.left=None\n",
    "        self.right=None\n",
    "def insert(root,data):\n",
    "    if(root==None):\n",
    "        return Node(data)\n",
    "    else:\n",
    "        if(root.data==data):\n",
    "            return root\n",
    "        elif(root.data<data):\n",
    "            root.right=insert(root.right,data)\n",
    "        else:\n",
    "            root.left=insert(root.left,data)\n",
    "    return root\n",
    "def inorder(root):\n",
    "    if(root):\n",
    "        inorder(root.left)\n",
    "        print(root.data,end=\"->\")\n",
    "        inorder(root.right)\n",
    "def stinorder(root):\n",
    "    st=[]\n",
    "    cur=root\n",
    "    while(1):\n",
    "        if(cur):\n",
    "            st.append(cur)\n",
    "            cur=cur.left\n",
    "        elif(st):\n",
    "            cur=st.pop()\n",
    "            print(cur.data,end=\"->\")\n",
    "            cur=cur.right\n",
    "#             st.append(cur.right)\n",
    "        else:\n",
    "            break\n",
    "def height(root):\n",
    "    if(not root):\n",
    "        return 0\n",
    "    return max(height(root.left),height(root.right))+1\n",
    "\n",
    "def numberOfNodes(root):\n",
    "    if(root==None):\n",
    "        return 0\n",
    "    else:\n",
    "        return numberOfNodes(root.left)+numberOfNodes(root.right)+1\n",
    "    \n",
    "# A perfect binary tree is a full binary tree in which all leaves are at the same depth, and in which\n",
    "# every parent has two children.   \n",
    "def isPerfectBST(root,h):\n",
    "#     print(numberOfNodes(root))\n",
    "    if(numberOfNodes(root)==(2**h-1)):\n",
    "        return 1\n",
    "    else:\n",
    "        return 0\n",
    "    \n",
    "# A full binary tree is a binary tree in which every node other than the leaves has two children.\n",
    "def isFullyBinaryTree(root):\n",
    "    if(root.left==None and root.right==None):\n",
    "        return 1\n",
    "    if(root.left==None or root.right==None):\n",
    "        return 0\n",
    "    else:\n",
    "        return isFullyBinaryTree(root.left) and isFullyBinaryTree(root.right)\n",
    "# A complete binary tree is a binary tree in which every level, except\n",
    "# possibly the last, is completely filled, and all nodes are as far left as possible.\n",
    "def isCompleteBST(root,index,nodes_count):\n",
    "    if root is None:\n",
    "        return 1\n",
    "#     print(\"index\",index)\n",
    "    if(index>=nodes_count):\n",
    "        return 0\n",
    "    return isCompleteBST(root.left,2*index+1,nodes_count) and isCompleteBST(root.right,2*index+2,nodes_count)\n",
    "\n",
    "def checkBSTType(root):\n",
    "    nodesCount=numberOfNodes(root)\n",
    "    h=height(root)\n",
    "    if(isCompleteBST(root,0,nodesCount)):\n",
    "        print(\"Complete binary search tree\")\n",
    "    else:\n",
    "        print(\"Not complete binary search tree\")\n",
    "    if(isPerfectBST(root,h)):\n",
    "        print(\"Perfect binary tree\")\n",
    "    else:\n",
    "        print(\"Not Perfect binary tree\")\n",
    "    if(isFullyBinaryTree(root)):\n",
    "        print(\"Fully binary search tree\")\n",
    "    else:\n",
    "        print(\"Not fully binary search tree\")\n",
    "\n",
    "def isHeightBalanced(root):\n",
    "    if(root==None):\n",
    "        return 1\n",
    "    l=height(root.left)\n",
    "    r=height(root.right)\n",
    "#     print(l,r)\n",
    "    if((abs(l-r)<=1) and isHeightBalanced(root.left)==1 and isHeightBalanced(root.right)==1):\n",
    "        return 1\n",
    "    return 0\n",
    "def sumOfNodes(root):\n",
    "    if(root is None):\n",
    "        return 0\n",
    "    return  sumOfNodes(root.left)+sumOfNodes(root.right)+root.data\n",
    "\n",
    "#check is symmetric\n",
    "def isSymmetric(root):\n",
    "    def check(l,r):\n",
    "        if l==None and r==None:\n",
    "            return 1\n",
    "        elif(l and r):\n",
    "            return (l.data==r.data) and check(l.left,r.right) and check(l.right,r.right)\n",
    "        return 0\n",
    "#level order traversal\n",
    "def levelOrder(root):\n",
    "    h=height(root)\n",
    "    print(\"Level order traversal:\",end=\" \")\n",
    "    for i in range(1,h+1):\n",
    "        printCurrentLevel(root,i)\n",
    "    print()\n",
    "def printCurrentLevel(root,level):\n",
    "    if(root==None):\n",
    "        return \n",
    "    if(level==1):\n",
    "        print(root.data,end=\" \")\n",
    "    elif(level>1):\n",
    "        printCurrentLevel(root.left,level-1)\n",
    "        printCurrentLevel(root.right,level-1)\n",
    "if __name__==\"__main__\":\n",
    "    root=Node(7)\n",
    "    insert(root,5)\n",
    "    insert(root,15)    \n",
    "    insert(root,51)    \n",
    "    insert(root,3)\n",
    "    insert(root,6)\n",
    "    insert(root,8)\n",
    "#     insert(root,14)\n",
    "    insert(root,13)\n",
    "    \n",
    "    stinorder(root)\n",
    "    print()\n",
    "    checkBSTType(root)\n",
    "    levelOrder(root)\n",
    "    print(\"Is height balanced:\",isHeightBalanced(root))\n",
    "    print(\"Sum of nodes:\",sumOfNodes(root))"
   ]
  },
  {
   "cell_type": "code",
   "execution_count": null,
   "id": "9ee4fe8a",
   "metadata": {},
   "outputs": [],
   "source": [
    "#level order traversing \n",
    "class Node:\n",
    "  def __init__(self,key):\n",
    "    self.data=key\n",
    "    self.left=None\n",
    "    self.right=None\n",
    "\n",
    "def printLevelOrder(root):\n",
    "  h=height(root)\n",
    "  for i in range(1,h-1):\n",
    "    printCurrentLevel(root,i)\n",
    "\n",
    "def printCurrentLevel(root,level):\n",
    "  if root is None:\n",
    "    return \n",
    "  if(level==1):\n",
    "    print(root.data,end=\" \")\n",
    "  elif level>1:\n",
    "    printCurrentLevel(root.left,level-1)\n",
    "    printCurrentLevel(root.right,level-1)\n",
    "\n",
    "def height(root):\n",
    "  if root is None:\n",
    "    return 0\n",
    "  else:\n",
    "    l=height(root.left)\n",
    "    r=height(root.right)\n",
    "    if(l>r):\n",
    "      return l+1\n",
    "    else:\n",
    "      return r+1\n",
    "root = Node(1)\n",
    "root.left = Node(2)\n",
    "root.right = Node(3)\n",
    "root.left.left = Node(4)\n",
    "root.left.right = Node(5)\n",
    "s\n",
    "printLevelOrder(root)\n",
    "\n"
   ]
  },
  {
   "cell_type": "code",
   "execution_count": null,
   "id": "ce32d898",
   "metadata": {},
   "outputs": [],
   "source": [
    "#Number of ways to place tile given n where size of the plot is 2*n we can place tile horizontal or vertical.\n",
    "def PlacingTile(n,c={}):\n",
    "    if(n<=2):\n",
    "        return n\n",
    "    if n not in c:\n",
    "        c[n]=PlacingTile(n-1)+PlacingTile(n-2)\n",
    "#     print(c)\n",
    "    return c[n]\n",
    "PlacingTile(5)"
   ]
  },
  {
   "cell_type": "code",
   "execution_count": null,
   "id": "a66b0e0b",
   "metadata": {},
   "outputs": [],
   "source": [
    "#Number of ways to score for given points 3,5 or 10\n",
    "def numberOfWays(n):\n",
    "    if(n<0):\n",
    "        return 0\n",
    "    if(n==0):\n",
    "        return 1\n",
    "    else:\n",
    "        return numberOfWays(n-3)+numberOfWays(n-5)+numberOfWays(n-10)\n",
    "numberOfWays(13)"
   ]
  },
  {
   "cell_type": "code",
   "execution_count": null,
   "id": "09e736a9",
   "metadata": {},
   "outputs": [],
   "source": [
    "#Number of ways to score for given points 3,5 or 10\n",
    "def numberOfWays(n,c={}):\n",
    "    if(n<0):\n",
    "        return 0\n",
    "    if(n==0):\n",
    "        return 1\n",
    "    if n not in c:\n",
    "        c[n]=numberOfWays(n-3)+numberOfWays(n-5)+numberOfWays(n-10)\n",
    "    return c[n]\n",
    "numberOfWays(17)"
   ]
  },
  {
   "cell_type": "code",
   "execution_count": null,
   "id": "592b0aa6",
   "metadata": {},
   "outputs": [],
   "source": [
    "# 85. Maximal Rectangle\n",
    "# Given an m x n binary matrix filled with 0's and 1's, find the largest square containing only 1's and return its area.\n",
    "def maximalSquare(mat):\n",
    "        m=len(mat)\n",
    "        n=len(mat[0])\n",
    "        mxSqLen=0\n",
    "        dp=[[0]*n for _ in range(m)]\n",
    "        for i in range(1,m):\n",
    "            for j in range(1,n):\n",
    "                if(mat[i-1][j-1]=='1'):\n",
    "                    dp[i][j]=min(min(dp[i][j-1],dp[i-1][j]),dp[i-1][j-1])+1\n",
    "                    mxSqLen=max(mxSqLen,dp[i][j])\n",
    "        return mxSqLen*mxSqLen\n",
    "mat = [[\"1\",\"0\",\"1\",\"0\",\"0\"],[\"1\",\"0\",\"1\",\"1\",\"1\"],[\"1\",\"1\",\"1\",\"1\",\"1\"],[\"1\",\"0\",\"0\",\"1\",\"0\"]]\n",
    "maximalSquare(mat)"
   ]
  },
  {
   "cell_type": "code",
   "execution_count": 100,
   "id": "73ec1b7b",
   "metadata": {},
   "outputs": [
    {
     "name": "stdout",
     "output_type": "stream",
     "text": [
      "1 "
     ]
    }
   ],
   "source": []
  },
  {
   "cell_type": "code",
   "execution_count": 7,
   "id": "83823186",
   "metadata": {},
   "outputs": [
    {
     "name": "stdout",
     "output_type": "stream",
     "text": [
      "10\n"
     ]
    }
   ],
   "source": [
    "#Minimize cost of painting N houses such that adjacent houses have different colors DP\n",
    "def minCost(cost,N):\n",
    "    if N==0:\n",
    "        return 0\n",
    "    dp=[[cost[0][i] if j==0 else 0 for i in range(3)] for j in range(3)]\n",
    "#     print(dp)\n",
    "    for i in range(N):\n",
    "        dp[i][0]=min(dp[i-1][1],dp[i-1][0])+cost[i][0]\n",
    "        \n",
    "        dp[i][1]=min(dp[i-1][0],dp[i-1][2])+cost[i][1]\n",
    "        \n",
    "        dp[i][2]=min(dp[i-1][0],dp[i-1][1])+cost[i][2]\n",
    "    print(min(dp[N - 1][0], min(dp[N - 1][1],dp[N - 1][2])))\n",
    "costs = [[14, 2, 11],[11, 14, 5],[14, 3, 10]]\n",
    "N = len(costs)\n",
    "     \n",
    "    # Function Call\n",
    "minCost(costs, N)\n"
   ]
  },
  {
   "cell_type": "code",
   "execution_count": 98,
   "id": "d3e14c46",
   "metadata": {},
   "outputs": [
    {
     "name": "stdout",
     "output_type": "stream",
     "text": [
      "[0, 1, 2, 3, 1, 2, 3, 4, 2, 1, 2, 3, 3, 2]\n"
     ]
    },
    {
     "data": {
      "text/plain": [
       "2"
      ]
     },
     "execution_count": 98,
     "metadata": {},
     "output_type": "execute_result"
    }
   ],
   "source": [
    "# 279. Perfect Squares\n",
    "def perfectSquare(n):\n",
    "    sqNum=[i*i for i in range(1,int(n**(0.5))+1)]\n",
    "    dp=[float('inf')]*(n+1)\n",
    "    dp[0]=0\n",
    "    for num in sqNum:\n",
    "        for a in range(1,n+1):\n",
    "            if(a>=num):\n",
    "                dp[a]=min(dp[a],dp[a-num]+1)\n",
    "        \n",
    "    return dp[-1]\n",
    "perfectSquare(13)"
   ]
  },
  {
   "cell_type": "code",
   "execution_count": 101,
   "id": "a6305851",
   "metadata": {},
   "outputs": [
    {
     "data": {
      "text/plain": [
       "4"
      ]
     },
     "execution_count": 101,
     "metadata": {},
     "output_type": "execute_result"
    }
   ],
   "source": [
    "# 221. Maximal Square:m x n binary matrix filled with 0's and 1's, find the largest square containing only 1's and return its area.\n",
    "def maxSq(mat):\n",
    "    m,n=len(mat)+1,len(mat[0])+1\n",
    "    dp=[[0]*n for i in range(m)]\n",
    "    mxSq=0\n",
    "    for i in range(1,m):\n",
    "        for j in range(1,n):\n",
    "            if(mat[i-1][j-1]=='1'):\n",
    "                dp[i][j]=min(min(dp[i-1][j],dp[i][j-1]),dp[i-1][j-1])+1\n",
    "                mxSq=max(mxSq,dp[i][j])\n",
    "    return mxSq*mxSq\n",
    "mat=[[\"1\",\"0\",\"1\",\"0\",\"0\"],[\"1\",\"0\",\"1\",\"1\",\"1\"],[\"1\",\"1\",\"1\",\"1\",\"1\"],[\"1\",\"0\",\"0\",\"1\",\"0\"]]\n",
    "maxSq(mat)"
   ]
  },
  {
   "cell_type": "code",
   "execution_count": 103,
   "id": "fd3f0a4d",
   "metadata": {},
   "outputs": [
    {
     "data": {
      "text/plain": [
       "True"
      ]
     },
     "execution_count": 103,
     "metadata": {},
     "output_type": "execute_result"
    }
   ],
   "source": [
    "# 263. Ugly Number:positive integer whose prime factors are limited to 2, 3, and 5.\n",
    "def isUgly(n):\n",
    "    for p in 2,3,5:\n",
    "        while n%p==0 < n:\n",
    "            n/=p\n",
    "    return n==1\n",
    "isUgly(8)"
   ]
  },
  {
   "cell_type": "code",
   "execution_count": 35,
   "id": "bea858e8",
   "metadata": {},
   "outputs": [
    {
     "name": "stdout",
     "output_type": "stream",
     "text": [
      "[[0, 1, 2, 3, 4, 5], [1, 0, 1, 2, 3, 4], [2, 1, 0, 1, 2, 3], [3, 2, 1, 1, 2, 2], [4, 3, 2, 2, 2, 2], [5, 4, 3, 3, 3, 3]]\n"
     ]
    },
    {
     "data": {
      "text/plain": [
       "3"
      ]
     },
     "execution_count": 35,
     "metadata": {},
     "output_type": "execute_result"
    }
   ],
   "source": [
    "def editDist(s1,s2,m,n):\n",
    "    dp=[[0]*(n+1) for i in range(m+1)]\n",
    "    for i in range(m+1):\n",
    "        dp[i][0]=i\n",
    "    for j in range(n+1):\n",
    "        dp[0][j]=j\n",
    "#     print(dp)\n",
    "    for i in range(1,m+1):\n",
    "        for j in range(1,n+1):\n",
    "            if(s1[i-1]==s2[j-1]):\n",
    "                dp[i][j]=dp[i-1][j-1]\n",
    "            else:\n",
    "                dp[i][j]=min(dp[i-1][j],dp[i][j-1],dp[i-1][j-1])+1\n",
    "    print(dp)\n",
    "    return dp[m][n]\n",
    "s1,s2='hello','heaal'\n",
    "editDist(s1,s2,len(s1),len(s2))"
   ]
  },
  {
   "cell_type": "code",
   "execution_count": 52,
   "id": "c6076589",
   "metadata": {},
   "outputs": [
    {
     "data": {
      "text/plain": [
       "6"
      ]
     },
     "execution_count": 52,
     "metadata": {},
     "output_type": "execute_result"
    }
   ],
   "source": [
    "#Minimum cost ot climb stairs\n",
    "def minCost(n,c={}):\n",
    "    if(n==1):\n",
    "        return 0\n",
    "    if(n==2):\n",
    "        return min(cost[0],cost[1])\n",
    "    if n not in c:\n",
    "        c[n]= min(cost[n-1]+minCost(n-1),cost[n-2]+minCost(n-2))\n",
    "    return c[n]\n",
    "cost=[1,100,1,1,1,100,1,1,100,1]\n",
    "minCost(len(cost))"
   ]
  },
  {
   "cell_type": "code",
   "execution_count": 62,
   "id": "df281a23",
   "metadata": {},
   "outputs": [
    {
     "name": "stdout",
     "output_type": "stream",
     "text": [
      "[10, 100, 110, 111, 112, 212, 213, 233, 333, 334]\n"
     ]
    },
    {
     "data": {
      "text/plain": [
       "334"
      ]
     },
     "execution_count": 62,
     "metadata": {},
     "output_type": "execute_result"
    }
   ],
   "source": [
    "#Maximum cost ot climb stairs\n",
    "def maxCost(cost):\n",
    "    for i in range(2,len(cost)):\n",
    "        cost[i]=cost[i]+max(cost[i-1],cost[i-2])\n",
    "    print(cost)\n",
    "    return max(cost[-1],cost[-2])\n",
    "maxCost([10,100,10,1,1,100,1,20,100,1])"
   ]
  },
  {
   "cell_type": "markdown",
   "id": "aced01f5",
   "metadata": {},
   "source": [
    "<h2>Honor Class"
   ]
  },
  {
   "cell_type": "code",
   "execution_count": null,
   "id": "c27c1cfc",
   "metadata": {},
   "outputs": [],
   "source": [
    "def path(mat):\n",
    "    dic={}\n",
    "    for i in mat: "
   ]
  },
  {
   "cell_type": "code",
   "execution_count": null,
   "id": "49510ff2",
   "metadata": {},
   "outputs": [],
   "source": [
    "#GCD Of two numbers\n",
    "def gcd(x,y):\n",
    "    if(y==0):\n",
    "        return x\n",
    "    else:\n",
    "        return gcd(y,x%y)\n",
    "gcd(300,24)"
   ]
  },
  {
   "cell_type": "code",
   "execution_count": null,
   "id": "a736db7b",
   "metadata": {},
   "outputs": [],
   "source": [
    "#2.Find the first missing positive number using hash\n",
    "def findPositive(nums):\n",
    "    minimum=float('inf')\n",
    "    maximum=0\n",
    "    dic={}\n",
    "    for i in nums:\n",
    "        dic[i]=1\n",
    "        if(0<=i<minimum):\n",
    "            minimum=i\n",
    "        if(i>maximum):\n",
    "            maximum=i\n",
    "#     print(minimum,maximum)\n",
    "    for i in range(minimum,maximum+1):\n",
    "        if i not in dic:\n",
    "            return i\n",
    "    return i+1\n",
    "findPositive([6,7,2,3,4,9,5,8])"
   ]
  },
  {
   "cell_type": "code",
   "execution_count": null,
   "id": "3fda0216",
   "metadata": {},
   "outputs": [],
   "source": [
    "#2.Find the first missing positive number in o(1) space\n",
    "def findPositive(nums):\n",
    "    for i in range(len(nums)):\n",
    "        while 1<=nums[i]<=nums[i] and nums[i]!=nums[nums[i]-1]:\n",
    "            nums[nums[i]-1],nums[i]=nums[i],nums[nums[i]-1]\n",
    "#     for i in range(len(nums)):\n",
    "# #         print(i,ele)\n",
    "#         if(nums[i]!=nums[nums[i]-1]):\n",
    "#             nums[nums[i]-1],nums[i]=nums[i],nums[nums[i]-1]\n",
    "    print(nums)\n",
    "    return next((i+1 for i,ele in enumerate(nums) if ele!=i+1),len(nums)+1)\n",
    "findPositive([3,4,-2,2])"
   ]
  },
  {
   "cell_type": "code",
   "execution_count": null,
   "id": "eb63ddf1",
   "metadata": {},
   "outputs": [],
   "source": [
    "#sorting two colors\n",
    "def even_odd(nums):\n",
    "    eve,odd=0, len(nums)-1\n",
    "    while eve<odd:\n",
    "        if(nums[odd]==0):\n",
    "            odd-=1\n",
    "        else:\n",
    "            nums[eve],nums[odd]=nums[odd],nums[eve]\n",
    "            eve+=1\n",
    "nums=[0,0,1,0,1,1,0]\n",
    "even_odd(nums)\n",
    "print(nums)"
   ]
  },
  {
   "cell_type": "code",
   "execution_count": 29,
   "id": "55cae4a6",
   "metadata": {},
   "outputs": [
    {
     "name": "stdout",
     "output_type": "stream",
     "text": [
      "1 x 3 5 2 \n",
      "3 x 4 2 1 \n",
      "x x x x x \n",
      "2 x 1 3 4 \n"
     ]
    }
   ],
   "source": [
    "#given a matrix if element is zero make it's corrosponding rows and column zero\n",
    "def setZero(mat):\n",
    "    row=[0]*len(mat)\n",
    "    column=[0]*len(mat[0])\n",
    "    for i in range(len(mat)):\n",
    "        for j in range(len(mat[0])):\n",
    "            if(mat[i][j]==0):\n",
    "                row[i]=1\n",
    "                column[j]=1\n",
    "    for i in range(len(row)):\n",
    "        if(row[i]==1):\n",
    "            for j in range(len(mat[0])):\n",
    "                mat[i][j]='x'\n",
    "    for j in range(len(column)):\n",
    "        if(column[j]==1):\n",
    "            for i in range(len(mat)):\n",
    "                mat[i][j]='x'\n",
    "def disp(mat):\n",
    "    for i in range(len(mat)):\n",
    "        for j in range(len(mat[0])):\n",
    "            print(mat[i][j],end=\" \")\n",
    "        print()\n",
    "mat=[[1,2,3,5,2],[3,1,4,2,1],[1,0,1,2,3],[2,4,1,3,4]]\n",
    "setZero(mat)\n",
    "disp(mat)\n",
    "# print(len(mat),len(mat[0]))"
   ]
  },
  {
   "cell_type": "code",
   "execution_count": 23,
   "id": "54caab50",
   "metadata": {},
   "outputs": [],
   "source": [
    "#buy and sell stock one time\n",
    "def stock(prices):\n",
    "    minPriceSoFar,maxProfit=float('inf'),0\n",
    "    for p in prices:\n",
    "        maxProfitSellToday=p-minPriceSoFar\n",
    "        maxProfit=max(maxProfit,maxProfitSellToday)\n",
    "        minPriceSoFar=min(minPriceSoFar,p)\n",
    "#     print(minPriceSoFar)\n",
    "    return maxProfit\n",
    "assert stock([23,4,1,43,1,23,2,42])==42"
   ]
  },
  {
   "cell_type": "code",
   "execution_count": 157,
   "id": "99d10952",
   "metadata": {},
   "outputs": [
    {
     "data": {
      "text/plain": [
       "4"
      ]
     },
     "execution_count": 157,
     "metadata": {},
     "output_type": "execute_result"
    }
   ],
   "source": [
    "# 714. Best Time to Buy and Sell Stock with Transaction Fee\n",
    "def buySellStock(prices,fee):\n",
    "    cash,hold=0, -prices[0]\n",
    "    for i in range(1,len(prices)):\n",
    "        cash=max(cash,hold+prices[i]-fee)\n",
    "        hold=max(hold,cash-prices[i])\n",
    "    return cash\n",
    "buySellStock([3,2,1,7],2)"
   ]
  },
  {
   "cell_type": "code",
   "execution_count": 44,
   "id": "2d7c170f",
   "metadata": {},
   "outputs": [
    {
     "data": {
      "text/plain": [
       "42"
      ]
     },
     "execution_count": 44,
     "metadata": {},
     "output_type": "execute_result"
    }
   ],
   "source": [
    "def buyandSellStock(prices):\n",
    "    if len(prices) < 2:\n",
    "            return 0\n",
    "    lo = prices[0]\n",
    "    hi = prices[0]\n",
    "    maxprofit = 0\n",
    "    for p in prices:\n",
    "        if p > hi:\n",
    "            hi = p\n",
    "            maxprofit = max(hi-lo, maxprofit)\n",
    "        if p < lo:\n",
    "            lo = p\n",
    "            hi = p\n",
    "    return maxprofit\n",
    "buyandSellStock([23,4,1,43,1,23,2,42]) "
   ]
  },
  {
   "cell_type": "code",
   "execution_count": 45,
   "id": "fbe07830",
   "metadata": {},
   "outputs": [
    {
     "data": {
      "text/plain": [
       "3"
      ]
     },
     "execution_count": 45,
     "metadata": {},
     "output_type": "execute_result"
    }
   ],
   "source": [
    "#buy and sell stock k times\n",
    "def buySellKtimes(prices,k):\n",
    "    if not k:\n",
    "        return 0\n",
    "    elif 2*k>=len(prices):\n",
    "        return sum(max(0,b-a) for a,b in zip(prices[::-1],prices[1:]))\n",
    "    \n",
    "    min_p,maxProfit=[float('inf')]*k,[0]*k\n",
    "    \n",
    "    for price in prices:\n",
    "        for i in reversed(list(range(k))):\n",
    "            maxProfit[i]=max(maxProfit[i],price-min_p[i])\n",
    "            min_p[i]=min(min_p[i], price-(0 if i==0 else maxProfit[i-1]))\n",
    "    return maxProfit[-1]\n",
    "buySellKtimes([2,4,1],2)"
   ]
  },
  {
   "cell_type": "code",
   "execution_count": 48,
   "id": "cc96b58a",
   "metadata": {},
   "outputs": [
    {
     "data": {
      "text/plain": [
       "[0, 1, 3, 2, 6, 7, 5, 4]"
      ]
     },
     "execution_count": 48,
     "metadata": {},
     "output_type": "execute_result"
    }
   ],
   "source": [
    "#GrayCode\n",
    "def grayCode(n):\n",
    "    results=[0]\n",
    "    for i in range(n):\n",
    "        results+=[x+pow(2,i) for x in reversed(results)]\n",
    "    return results\n",
    "grayCode(3)"
   ]
  },
  {
   "cell_type": "code",
   "execution_count": null,
   "id": "be762f06",
   "metadata": {},
   "outputs": [],
   "source": [
    "#compute maximum product of all but one BRUTE FORCE\n",
    "def maxProduct(nums):\n",
    "    mx=0\n",
    "    for i in range(len(nums)):\n",
    "        p=1\n",
    "        for j in range(len(nums)):\n",
    "            if(i!=j):\n",
    "                p*=nums[j]\n",
    "        if(mx<p):\n",
    "            mx=p\n",
    "    return mx\n",
    "assert maxProduct([3,2,5,4])==60\n",
    "maxProduct([3,2,-1,4])         "
   ]
  },
  {
   "cell_type": "code",
   "execution_count": null,
   "id": "17b0120a",
   "metadata": {},
   "outputs": [],
   "source": [
    "#compute maximum product of all but one USING DIVISION\n",
    "def maxProduct(nums):\n",
    "    p=nums.copy()\n",
    "    m=min(nums)\n",
    "    if(m==0):\n",
    "        m=1\n",
    "    for i in range(1,len(p)):\n",
    "        if(p[i]!=0):\n",
    "            p[i]*=p[i-1]//m\n",
    "        else:\n",
    "            p[i]=1\n",
    "    print(p)\n",
    "    \n",
    "maxProduct([3,0,-1,4])"
   ]
  },
  {
   "cell_type": "code",
   "execution_count": 40,
   "id": "bc930d75",
   "metadata": {},
   "outputs": [
    {
     "name": "stdout",
     "output_type": "stream",
     "text": [
      "3 3 3 3 3\n",
      "0 0 0 0 3\n",
      "0 0 0 6 6\n",
      "0 18 0 18 18\n",
      "0 0 0 0 18\n",
      "0 0 0 5 18\n"
     ]
    },
    {
     "data": {
      "text/plain": [
       "18"
      ]
     },
     "execution_count": 40,
     "metadata": {},
     "output_type": "execute_result"
    }
   ],
   "source": [
    "#maximu Product of subArray in O(n) and O(1)\n",
    "def maxProduct(nums):\n",
    "    if not nums:\n",
    "        return -1\n",
    "    mini,maxi,res=1,1,float(\"-inf\")\n",
    "    for i in nums:\n",
    "        a=mini*i\n",
    "        b=maxi*i\n",
    "        mini=min(a,b,i)\n",
    "        maxi=max(a,b,i)\n",
    "        res=max(res,maxi)\n",
    "#         print(a,b,mini,maxi,res)\n",
    "    return res\n",
    "    \n",
    "maxProduct([3,0,6,3,0,5])"
   ]
  },
  {
   "cell_type": "code",
   "execution_count": null,
   "id": "1205ec58",
   "metadata": {},
   "outputs": [],
   "source": [
    "#robber cannot rob adjascent houses\n",
    "from functools import lru_cache\n",
    "def houseRob(nums):\n",
    "    @lru_cache(None)\n",
    "    def rob(nums,i):\n",
    "#         print(1)\n",
    "        if(i<0):\n",
    "            return 0\n",
    "        else:\n",
    "            return max(nums[i]+rob(nums,i-2),rob(nums,i-1))\n",
    "    return rob(tuple(nums),len(nums)-1)\n",
    "houseRob([3,1,1,3,6,2])\n"
   ]
  },
  {
   "cell_type": "code",
   "execution_count": 142,
   "id": "e85c8edc",
   "metadata": {},
   "outputs": [
    {
     "data": {
      "text/plain": [
       "1"
      ]
     },
     "execution_count": 142,
     "metadata": {},
     "output_type": "execute_result"
    }
   ],
   "source": [
    "# 36. Valid Sudoku\n",
    "def valid_sudoku(mat):\n",
    "    r=[set() for i in range(9)]\n",
    "    c=[set() for i in range(9)]    \n",
    "    m=[set() for i in range(9)]    \n",
    "    for i in range(9):\n",
    "        for j in range(9):\n",
    "            if(mat[i][j]!='.'):\n",
    "                cur=mat[i][j]\n",
    "                \n",
    "                k=(i//3)*3+(j//3)\n",
    "                if cur in r[i]:\n",
    "                    return 0\n",
    "                else:\n",
    "                    r[i].add(cur)\n",
    "                \n",
    "                if cur in c[j]:\n",
    "                    return 0\n",
    "                else:\n",
    "                    c[j].add(cur)\n",
    "                \n",
    "                if cur in m[k]:\n",
    "                    return 0\n",
    "                else:\n",
    "                    m[k].add(cur)           \n",
    "    return 1\n",
    "board = [[\"5\",\"1\",\"2\",\".\",\"7\",\".\",\".\",\".\",\".\"],[\"6\",\".\",\".\",\"1\",\"9\",\"5\",\".\",\".\",\".\"],[\".\",\"9\",\"8\",\".\",\".\",\".\",\".\",\"6\",\".\"],[\"8\",\".\",\".\",\".\",\"6\",\".\",\".\",\".\",\"3\"],[\"4\",\".\",\".\",\"8\",\".\",\"3\",\".\",\".\",\"1\"],[\"7\",\".\",\".\",\".\",\"2\",\".\",\".\",\".\",\"6\"],[\".\",\"6\",\".\",\".\",\".\",\".\",\"2\",\"8\",\".\"],[\".\",\".\",\".\",\"4\",\"1\",\"9\",\".\",\".\",\"5\"],[\".\",\".\",\".\",\".\",\"8\",\".\",\".\",\"7\",\"9\"]]\n",
    "\n",
    "valid_sudoku(board)"
   ]
  },
  {
   "cell_type": "code",
   "execution_count": 149,
   "id": "2b9a608a",
   "metadata": {},
   "outputs": [
    {
     "data": {
      "text/plain": [
       "3"
      ]
     },
     "execution_count": 149,
     "metadata": {},
     "output_type": "execute_result"
    }
   ],
   "source": [
    "# 1567. Maximum Length of Subarray With Positive Product\n",
    "def maxLen(nums):\n",
    "    pos=1 if nums[0]>0 else 0\n",
    "    neg=1 if nums[0]<0 else 0\n",
    "    n,res=len(nums),pos\n",
    "    for i in range(1,n):\n",
    "        if nums[i]>0:\n",
    "            pos=1+pos\n",
    "            neg=1+neg if neg>0 else 0\n",
    "        elif(nums[i]<0):\n",
    "            pos,neg=1+neg if neg>0 else 0, 1+pos\n",
    "        else:\n",
    "            pos=neg=0\n",
    "        res=max(pos,res)\n",
    "    return res\n",
    "maxLen([1,-2,-1])"
   ]
  },
  {
   "cell_type": "code",
   "execution_count": 153,
   "id": "d67288f8",
   "metadata": {},
   "outputs": [
    {
     "name": "stdout",
     "output_type": "stream",
     "text": [
      "10\n"
     ]
    }
   ],
   "source": [
    "# 198. House Robber\n",
    "def rob(nums):\n",
    "    a=b=0\n",
    "    for i in range(len(nums)):\n",
    "        if(not i%2):\n",
    "            a=max(a+nums[i],b)\n",
    "        else:\n",
    "            b=max(b+nums[i],a)\n",
    "    print(max(a,b))\n",
    "rob([3,1,1,3,6,2])\n",
    "\n",
    "# def robdp(nums,i,c={}):\n",
    "#     if(i<0):\n",
    "#         return 0\n",
    "#     if i not in c:\n",
    "#         c[i]=max(nums[i]+robdp(nums,i-2),robdp(nums,i-1))\n",
    "#     return c[i]\n",
    "# robdp([3,1,1,3,6,2],5)"
   ]
  },
  {
   "cell_type": "code",
   "execution_count": null,
   "id": "60a1b99e",
   "metadata": {},
   "outputs": [],
   "source": [
    "#validdate ip address\n",
    "def validateIP(addr):\n",
    "    s=''\n",
    "    f=0\n",
    "    dic={i:1 for i in range(10)}\n",
    "    for i in addr:\n",
    "        if(i==\".\" or i==\"\\n\"):\n",
    "            print(s)\n",
    "            if(int(s)>=255 or int(s)<0):\n",
    "                return 0\n",
    "            s=''\n",
    "        else:\n",
    "            if int(i) not in dic:\n",
    "                return 0\n",
    "            s+=i\n",
    "    if(int(s)>=255 or int(s)<0):\n",
    "                return 0\n",
    "    return 1\n",
    "validateIP(\"128.0.0.111\")"
   ]
  },
  {
   "cell_type": "code",
   "execution_count": null,
   "id": "e87df88c",
   "metadata": {},
   "outputs": [],
   "source": [
    "#What to ask\n",
    "#1.Is it contains a alphanumeric string or only alpha\n",
    "#2.Is it contains multiple zeros\n",
    "#3.Is it contains a multiple dots\n",
    "#4.Can I use library function to convert string to int\n",
    "#validdate ip address more precise\n",
    "def validateIP(addr):\n",
    "    if addr.count(\".\")!=3:\n",
    "        return \"Invalid!\"\n",
    "    try:  #to handle case\n",
    "        l=list(map(int,addr.split(\".\")))\n",
    "    except:\n",
    "        return \"Invalid!\"\n",
    "#     print(l)\n",
    "    for i in l:\n",
    "        if i<0 or i>255:\n",
    "            return \"Invalid IP!\"\n",
    "    return \"Valid IP!\"\n",
    "validateIP(\"128.000.0.111\")"
   ]
  },
  {
   "cell_type": "code",
   "execution_count": null,
   "id": "b58fc93e",
   "metadata": {},
   "outputs": [],
   "source": [
    "def jump_game(nums):\n",
    "    i=0\n",
    "    reach=0\n",
    "    while(i<len(nums) and i<=reach):\n",
    "        reach=max(i+nums[i],reach)\n",
    "        i+=1\n",
    "    return i==len(nums)\n",
    "jump_game([5,2,1,4,4])"
   ]
  },
  {
   "cell_type": "code",
   "execution_count": null,
   "id": "98085fdc",
   "metadata": {},
   "outputs": [],
   "source": [
    "# Maximum Subarray contiguous subarray (containing at least one number) which has the largest sum and return its sum.\n",
    "def maxSubArraSum(nums):\n",
    "    m=nums[0]\n",
    "    for i in range(1,len(nums)):\n",
    "        if(nums[i]>0):\n",
    "            nums[i]+=nums[i-1]\n",
    "        m=max(m,nums[i])\n",
    "    print(nums)\n",
    "    return m\n",
    "maxSubArraSum([2,3,4,1,6])"
   ]
  },
  {
   "cell_type": "code",
   "execution_count": null,
   "id": "58d4b2ce",
   "metadata": {},
   "outputs": [],
   "source": [
    "#Non overlaping intervals\n",
    "def nonOverLaping(intervals):\n",
    "    end,cnt=float('-inf'),0\n",
    "    ans=[]\n",
    "    print(sorted(intervals,key=lambda x:x[1]))\n",
    "    for s,e in sorted(intervals,key=lambda x:x[1]):\n",
    "        if(s>=end):\n",
    "            end=e\n",
    "        else:\n",
    "            ans.append([s,e])\n",
    "            cnt+=1\n",
    "    return cnt,ans\n",
    "nonOverLaping([[1,2],[2,3],[3,4],[1,3]])"
   ]
  },
  {
   "cell_type": "code",
   "execution_count": null,
   "id": "5d27f880",
   "metadata": {},
   "outputs": [],
   "source": [
    "#Kadanes algorithm for maximum sum of subarray\n",
    "def kadane(nums):\n",
    "    cur=ans=float('-inf')\n",
    "    for i in nums:\n",
    "        cur=i+max(cur,0)\n",
    "        ans=max(ans,cur)\n",
    "    return ans\n",
    "kadane([-3,-6,4,10,-7,11])"
   ]
  },
  {
   "cell_type": "code",
   "execution_count": 41,
   "id": "1dfd3a21",
   "metadata": {},
   "outputs": [
    {
     "data": {
      "text/plain": [
       "17"
      ]
     },
     "execution_count": 41,
     "metadata": {},
     "output_type": "execute_result"
    }
   ],
   "source": [
    "# On each day, you may decide to buy and/or sell the stock. You can only hold at most one share of the stock at any time.\n",
    "# However, you can buy it then immediately sell it on the same day\n",
    "def maxProfit(prices):\n",
    "    maxProfit=0\n",
    "    for i in range(1,len(prices)):\n",
    "        if(prices[i]>prices[i-1]):\n",
    "            maxProfit+=prices[i]-prices[i-1]\n",
    "    return maxProfit\n",
    "maxProfit([2,11,12,4,6,7,11])"
   ]
  },
  {
   "cell_type": "markdown",
   "id": "f6486f38",
   "metadata": {},
   "source": [
    "<h2>Sorting Algorithms\n",
    "    "
   ]
  },
  {
   "cell_type": "code",
   "execution_count": null,
   "id": "7fb36d55",
   "metadata": {},
   "outputs": [],
   "source": [
    "def bubbleSort(nums):\n",
    "    for i in range(len(nums)):\n",
    "        f=1\n",
    "        for j in range(0,len(nums)-i-1):\n",
    "            if(nums[j+1]<nums[j]):\n",
    "                nums[j+1],nums[j]=nums[j],nums[j+1]\n",
    "                f=0\n",
    "        if(f):                       #if no swaps then array is sorted\n",
    "            break\n",
    "    print(nums)\n",
    "bubbleSort([1,2,3,6,8,9])"
   ]
  },
  {
   "cell_type": "code",
   "execution_count": null,
   "id": "c8effde5",
   "metadata": {},
   "outputs": [],
   "source": [
    "#pick one element insert it to correct position\n",
    "# 1. Iterate from arr[1] to arr[n] over the array. \n",
    "# 2. Compare the current element (key) to its predecessor. \n",
    "# 3. If the key element is smaller than its predecessor, \n",
    "# compare it to the elements before. Move the greater elements \n",
    "# one position up to make space for the swapped element.\n",
    "def insertionSort(nums):\n",
    "    for i in range(1,len(nums)):\n",
    "        key=nums[i]\n",
    "        j=i-1\n",
    "        while(j>=0 and key<nums[j]):\n",
    "            nums[j+1]=nums[j]\n",
    "            j-=1\n",
    "        nums[j+1]=key\n",
    "    print(nums)\n",
    "insertionSort([4,1,2,7,8,3])"
   ]
  },
  {
   "cell_type": "code",
   "execution_count": null,
   "id": "0c21f551",
   "metadata": {},
   "outputs": [],
   "source": [
    "def selectionSort(nums):\n",
    "    for i in range(len(nums)):\n",
    "        mn_ind=i\n",
    "        for j in range(i+1,len(nums)):\n",
    "            if(nums[j]<nums[mn_ind]):\n",
    "                mn_ind=j\n",
    "        nums[mn_ind],nums[i]=nums[i],nums[mn_ind]\n",
    "    print(nums)\n",
    "selectionSort([3,4,1,5,6,2])\n",
    "        "
   ]
  },
  {
   "cell_type": "code",
   "execution_count": 33,
   "id": "03387c97",
   "metadata": {},
   "outputs": [
    {
     "name": "stdout",
     "output_type": "stream",
     "text": [
      "[1, 1, 2, 3, 4, 5, 7]\n"
     ]
    }
   ],
   "source": [
    "# MergeSort(arr[], l,  r)\n",
    "# If r > l\n",
    "#      1. Find the middle point to divide the array into two halves:  \n",
    "#              middle m = l+ (r-l)/2\n",
    "#      2. Call mergeSort for first half:   \n",
    "#              Call mergeSort(arr, l, m)\n",
    "#      3. Call mergeSort for second half:\n",
    "#              Call mergeSort(arr, m+1, r)\n",
    "#      4. Merge the two halves sorted in step 2 and 3:\n",
    "#              Call merge(arr, l, m, r)\n",
    "def mergeSort(arr):\n",
    "    if len(arr)>1:\n",
    "        mid=len(arr)//2\n",
    "        L=arr[:mid]\n",
    "        R=arr[mid:]\n",
    "        mergeSort(L)\n",
    "        mergeSort(R)\n",
    "        i=j=k=0\n",
    "        while(i<len(L) and j<len(R)):\n",
    "            if L[i]<R[j]:\n",
    "                arr[k]=L[i]\n",
    "                i+=1\n",
    "            else:\n",
    "                arr[k]=R[j]\n",
    "                j+=1\n",
    "            k+=1\n",
    "        while i<len(L):\n",
    "            arr[k]=L[i]\n",
    "            i+=1\n",
    "            k+=1\n",
    "        while j<len(R):\n",
    "            arr[k]=R[j]\n",
    "            j+=1\n",
    "            k+=1\n",
    "#     print(arr)\n",
    "arr=[4,7,1,2,5,3,1]\n",
    "mergeSort(arr)\n",
    "print(arr)"
   ]
  },
  {
   "cell_type": "code",
   "execution_count": 127,
   "id": "33fd568f",
   "metadata": {},
   "outputs": [
    {
     "data": {
      "text/plain": [
       "[[[1, 5], [5, 10]], [[1, 5], [5, 10]], [[1, 5], [5, 10]], [[1, 5], [5, 10]]]"
      ]
     },
     "execution_count": 127,
     "metadata": {},
     "output_type": "execute_result"
    }
   ],
   "source": [
    "# 986. Interval List Intersections\n",
    "def interSection(l1,l2):\n",
    "    ans=[]\n",
    "    i=j=0\n",
    "    while(i<len(l1) and j<len(l2)):\n",
    "        l=max(l1[0],l2[0])\n",
    "        h=min(l1[1],l2[1])\n",
    "        if(l<=h):\n",
    "            ans.append([l,h])\n",
    "        if((l1[1]>l2[1])):\n",
    "            i+=1\n",
    "        else:\n",
    "            j+=1\n",
    "    return ans\n",
    "interSection([[0,2],[5,10],[13,23],[24,25]], [[1,5],[8,12],[15,24],[25,26]])"
   ]
  },
  {
   "cell_type": "code",
   "execution_count": null,
   "id": "7548705c",
   "metadata": {},
   "outputs": [],
   "source": [
    "class MyQueue:\n",
    "\n",
    "    def __init__(self):\n",
    "        \"\"\"\n",
    "        Initialize your data structure here.\n",
    "        \"\"\"\n",
    "        self.s1=[]\n",
    "        self.s2=[]\n",
    "\n",
    "    def push(self, x: int) -> None:\n",
    "        \"\"\"\n",
    "        Push element x to the back of queue.\n",
    "        \"\"\"\n",
    "        self.s1.append(x)\n",
    "        \n",
    "    def pop(self) -> int:\n",
    "        \"\"\"\n",
    "        Removes the element from in front of queue and returns that element.\n",
    "        \"\"\"\n",
    "        if not self.s1:\n",
    "            return 0\n",
    "        while self.s1:\n",
    "            self.s2.append(self.s1.pop())\n",
    "        ele=self.s2.pop()\n",
    "        while self.s2:\n",
    "            self.s1.append(self.s2.pop())\n",
    "        self.s2=[]\n",
    "        return ele\n",
    "        \n",
    "    def peek(self) -> int:\n",
    "        \"\"\"\n",
    "        Get the front element.\n",
    "        \"\"\"\n",
    "        return self.s1[0]\n",
    "\n",
    "    def empty(self) -> bool:\n",
    "        \"\"\"\n",
    "        Returns whether the queue is empty.\n",
    "        \"\"\"\n",
    "        if self.s1:\n",
    "            return 0\n",
    "        else:\n",
    "            return 1\n",
    "        \n",
    "\n",
    "\n",
    "# Your MyQueue object will be instantiated and called as such:\n",
    "# obj = MyQueue()\n",
    "# obj.push(x)\n",
    "# param_2 = obj.pop()\n",
    "# param_3 = obj.peek()\n",
    "# param_4 = obj.empty()"
   ]
  },
  {
   "cell_type": "code",
   "execution_count": null,
   "id": "483cf4e6",
   "metadata": {},
   "outputs": [],
   "source": [
    "# Language Specific\n",
    "\n",
    "#Shallow copy - shallow copy constructs a new compound object  and then \n",
    "# (to the extent possible) inserts references into it to the objects found in the original.\n",
    "A=[1,2,3,4]\n",
    "B=A\n",
    "B.append(4)\n",
    "print(A,B)\n",
    "# A deep copy constructs a new compound object and then, recursively, inserts copies\n",
    "# into it of the objects found in the origina\n",
    "print(\"\\nDeep copy\")\n",
    "C=A.copy()\n",
    "C.append(5)\n",
    "print(A,C)"
   ]
  },
  {
   "cell_type": "code",
   "execution_count": null,
   "id": "53ea052b",
   "metadata": {},
   "outputs": [],
   "source": [
    "# Iterators and Generators\n",
    "import random\n",
    "class RandomIncrement():\n",
    "    def __init__(self,limit):\n",
    "        self.offset=0.0\n",
    "        self.limit=limit\n",
    "    def __iter__(self):\n",
    "        return self\n",
    "    def __next__(self):\n",
    "        self.offset+=random.randrange(2,9)\n",
    "        if self.offset>self.limit:\n",
    "            raise StopIteration()\n",
    "        return self.offset\n",
    "    def increment_limit(self,inc_limit):\n",
    "        self.limit+=inc_limit\n",
    "obj=RandomIncrement(14)\n",
    "obj.__next__()\n",
    "obj.__iter__()\n",
    "# obj.__next__()\n"
   ]
  },
  {
   "cell_type": "code",
   "execution_count": null,
   "id": "cd96563f",
   "metadata": {},
   "outputs": [],
   "source": [
    "def generator(limit):\n",
    "    offset=0\n",
    "    while 1:\n",
    "        offset+=random.randrange(2,9)\n",
    "        if offset>limit:\n",
    "            break\n",
    "        yield offset\n",
    "generator(12)"
   ]
  },
  {
   "cell_type": "code",
   "execution_count": null,
   "id": "c7e94d3e",
   "metadata": {},
   "outputs": [],
   "source": [
    "#Class is set of instances variable and method bundled together for defining a type of object\n",
    "class Hello:\n",
    "    def greet(self):\n",
    "        return \"Welocome to the class Hello\"\n",
    "obj=Hello()\n",
    "obj.greet()\n",
    "#3 fundamentals of OOPS are encapsulation, polymorphism and inheritance "
   ]
  },
  {
   "cell_type": "code",
   "execution_count": null,
   "id": "8639ef70",
   "metadata": {},
   "outputs": [],
   "source": [
    "#python does not support compile time polymorphism\n",
    "#Python does not support method overloading.It is\n",
    "# not possible to define more than one method with the same name in a class in python\n",
    "# can be achieved by:\n",
    "#     By using normal ways(Not more efficient)\n",
    "#     By using Variable arguments (efficient)\n",
    "#     By using Multiple Dispatch Decorator (efficient)\n",
    "class Math:            #By using Variable arguments (efficient)\n",
    "    def add(self,*nums):\n",
    "        s=0\n",
    "        for n in nums:\n",
    "            s+=n\n",
    "        return s\n",
    "obj=Math()\n",
    "obj.add(3,4,5)\n",
    "obj.add(4,1)"
   ]
  },
  {
   "cell_type": "code",
   "execution_count": null,
   "id": "3f07fe23",
   "metadata": {},
   "outputs": [],
   "source": [
    "# Run-time polymorphism:- Python supports it. - method overriding and operator overloading.\n",
    "# It involves deciding at runtime which function from base class should get called.\n",
    "# Polymorphism in python:-\n",
    "# A derived /child class inherits all the methods/functions from the parent/base class.\n",
    "# 1.) Polymorphism with function and objects:-\n",
    "class Apple():\n",
    "    def type(self):\n",
    "        return \"Apple is a fruit\"\n",
    "    def color(self):\n",
    "        return \"Apple color is red\"\n",
    "class Orrange():\n",
    "    def type(self):\n",
    "        return \"Orrange is a fruit\"\n",
    "    def color(self):\n",
    "        return \"Orrange color is saffron\"\n",
    "class Onion():\n",
    "    def type(self):\n",
    "        return \"Onion is a vegetable\"\n",
    "    def color(self):\n",
    "        return \"Onion color is red\"\n",
    "def fun(obj):\n",
    "    print(obj.type())\n",
    "    print(obj.color())\n",
    "    \n",
    "obj1=Apple()\n",
    "obj2=Orrange()\n",
    "obj3=Onion()\n",
    "fun(obj1)\n",
    "fun(obj2)\n",
    "fun(obj3)"
   ]
  },
  {
   "cell_type": "code",
   "execution_count": null,
   "id": "7a631164",
   "metadata": {},
   "outputs": [],
   "source": [
    "# 2.) Polymorphism with class methods:-\n",
    "class Student:\n",
    "    def display(self):\n",
    "        print(\"Student\")\n",
    "    def language(self):\n",
    "        print(\"Student speaks English and Kannada\")\n",
    "class Employee:\n",
    "    def display(self):\n",
    "        print(\"Employee\")\n",
    "    def language(self):\n",
    "        print(\"Employee speaks English and Hindi\")\n",
    "obj1=Student()\n",
    "obj2=Employee()\n",
    "for person in (obj1,obj2):\n",
    "    person.display()\n",
    "    person.language()"
   ]
  },
  {
   "cell_type": "code",
   "execution_count": null,
   "id": "ffadab8b",
   "metadata": {},
   "outputs": [],
   "source": [
    "# 3.) Polymorphism with Inheritance:-\n",
    "# Polymorphism defines methods in derived class that have the same name as the method in the parent class\n",
    "class GrandFather:\n",
    "    def height(self):\n",
    "        print(\"Grand Father height is 7 feet\")\n",
    "    def age(self):\n",
    "        print(\"Grand father age is 76 years\")\n",
    "class Father(GrandFather):\n",
    "    def height(self):\n",
    "        print(\"Father height is 6.5 feet\")\n",
    "    def age(self):\n",
    "        print(\"Grand father age is 45 years\")\n",
    "class Son(GrandFather):\n",
    "    def height(self):\n",
    "        print(\"Son height is 5 feet\")\n",
    "    def age(self):\n",
    "        print(\"Son age is 18 years\")\n",
    "obj_grnadFather=GrandFather()\n",
    "obj_father=Father()\n",
    "obj_son=Son()\n",
    "obj_grnadFather.age()\n",
    "obj_grnadFather.height()\n",
    "obj_father.height()"
   ]
  },
  {
   "cell_type": "code",
   "execution_count": null,
   "id": "dced1fc3",
   "metadata": {},
   "outputs": [],
   "source": [
    "#Encapsulation bundling together instance variable and methods to form a given type(class)\n",
    "# from functools import reduce\n",
    "class Fraction:\n",
    "    def __init__(self,numerator,denominator):   #__init__ special methods in python\n",
    "        self.__numerator=numerator\n",
    "        self.__denominator= denominator\n",
    "        self.a=42\n",
    "#         self.reduce()\n",
    "    def getNumerator(self):\n",
    "        return self.__numerator\n",
    "    def getDenominator(self):\n",
    "        return self.__denominator\n",
    "    def setNum(self,num):\n",
    "        self.__numerator=num\n",
    "    def setDenom(self,denum):\n",
    "        if denum==0:\n",
    "            raise ValueError(\"Divide by zero error\")\n",
    "        self.__denominator=denum\n",
    "    def getFrac(self):\n",
    "        if self.__denominator==0:\n",
    "            raise ValueError(\"Divide by zero error\")\n",
    "        return self.__numerator/self.__denominator\n",
    "obj=Fraction(3,4)\n",
    "obj.getNumerator()\n",
    "obj.a\n",
    "obj.getFrac()\n",
    "# obj.__denominator   #'Fraction' object has no attribute '__denominator'"
   ]
  },
  {
   "cell_type": "code",
   "execution_count": null,
   "id": "5ba03986",
   "metadata": {},
   "outputs": [],
   "source": [
    "class SpecialMethod:\n",
    "    def __str__(self):\n",
    "        return '__str__ called'\n",
    "    def __repr__(self):\n",
    "        return '__repr__ called'\n",
    "obj=SpecialMethod()\n",
    "print(obj) #str is called\n",
    "obj    #repr is callled\n"
   ]
  },
  {
   "cell_type": "code",
   "execution_count": null,
   "id": "428ec332",
   "metadata": {},
   "outputs": [],
   "source": [
    "#Inheritance in oop is ability of a class to inherit member of another class as part of its own defination\n",
    "#iheriting - subclass class(child or derived). inherited is super class(base or parent)\n",
    "#Subclass - substituted for behave as parent type\n",
    "class ExplodedStr(str):\n",
    "    def __init__(self,value=''):\n",
    "        str.__init__(value)\n",
    "    def explode(self):\n",
    "        if len(self)==0:\n",
    "            return self\n",
    "        else:\n",
    "#             empty_str=''\n",
    "            blank_char=' '\n",
    "            tmp_char=''\n",
    "            for i in range(len(self)):\n",
    "                tmp_char=tmp_char+ self[i]+blank_char\n",
    "#             tmp_char=tmp_char+self[len(self)-1]\n",
    "            return tmp_char\n",
    "obj=ExplodedStr(\"Hello how are you!\")\n",
    "obj.explode()"
   ]
  },
  {
   "cell_type": "code",
   "execution_count": null,
   "id": "093901ef",
   "metadata": {},
   "outputs": [],
   "source": [
    "# Shell scriptig\n",
    "# tr -s: truncate the string with target string, but only remaining one instance (e.g. multiple whitespaces)\n",
    "\n",
    "# sort: To make the same string successive so that uniq could count the same string fully and correctly.\n",
    "\n",
    "# uniq -c: uniq is used to filter out the repeated lines which are successive, -c means counting\n",
    "\n",
    "# sort -r: -r means sorting in descending order\n",
    "\n",
    "# awk '{ print $2, $1 }': To format the output, see here.\n"
   ]
  },
  {
   "cell_type": "code",
   "execution_count": 123,
   "id": "a908c520",
   "metadata": {},
   "outputs": [
    {
     "data": {
      "text/plain": [
       "True"
      ]
     },
     "execution_count": 123,
     "metadata": {},
     "output_type": "execute_result"
    }
   ],
   "source": [
    "def check(s,w):\n",
    "    j=0\n",
    "    for i in range(len(s)):\n",
    "        if(s[i]==w[j]):\n",
    "            j+=1\n",
    "    return j==len(w)\n",
    "check('heewllo','hello')"
   ]
  },
  {
   "cell_type": "code",
   "execution_count": null,
   "id": "d80e1adb",
   "metadata": {},
   "outputs": [],
   "source": []
  }
 ],
 "metadata": {
  "kernelspec": {
   "display_name": "Python 3",
   "language": "python",
   "name": "python3"
  },
  "language_info": {
   "codemirror_mode": {
    "name": "ipython",
    "version": 3
   },
   "file_extension": ".py",
   "mimetype": "text/x-python",
   "name": "python",
   "nbconvert_exporter": "python",
   "pygments_lexer": "ipython3",
   "version": "3.9.5"
  }
 },
 "nbformat": 4,
 "nbformat_minor": 5
}
