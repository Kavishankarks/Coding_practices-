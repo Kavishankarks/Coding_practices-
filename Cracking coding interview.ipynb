{
 "cells": [
  {
   "cell_type": "markdown",
   "id": "77ebd847",
   "metadata": {},
   "source": [
    "1.given a string test is Unique \n",
    "2.Check given string is Permutation"
   ]
  },
  {
   "cell_type": "code",
   "execution_count": 6,
   "id": "e76ae3e2",
   "metadata": {},
   "outputs": [],
   "source": [
    "#1.given a string test is Unique \n",
    "#confirm ascii or unicode string\n",
    "#additional data structure usage and complexity\n",
    "def isUnique(s):\n",
    "    dic={}\n",
    "    for i in s:\n",
    "        if i in dic:\n",
    "            return 0\n",
    "        else:\n",
    "            dic[i]=1\n",
    "    return 1\n",
    "assert isUnique('abcdsa')==0\n",
    "assert isUnique('abcds')==1\n",
    "assert isUnique('abcadsa')==0\n",
    "\n",
    "#follow up no additional data structure\n",
    "#comapre every character o(n^2) or sort and check\n"
   ]
  },
  {
   "cell_type": "code",
   "execution_count": 64,
   "id": "795615ff",
   "metadata": {},
   "outputs": [],
   "source": [
    "# 2.Check given string is permutation\n",
    "#Is case sensitive and is it contain any whitespace\n",
    "# def checkPermutation(s1,s2):\n",
    "#     if(len(s1)!=len(s2)):\n",
    "#         return 0\n",
    "#     return sorted(s1)==sorted(s2)\n",
    "# assert checkPermutation('hello','elloh')==1\n",
    "# assert checkPermutation('hello','elloah')==0\n",
    "\n",
    "#check strings have unique character using array\n",
    "def checkPermutation(s1,s2):\n",
    "    if(len(s1)!=len(s2)):\n",
    "        return 0\n",
    "    a=[0]*128\n",
    "    for i in s1:\n",
    "        a[ord(i)]+=1\n",
    "    for i in s2:\n",
    "        a[ord(i)]-=1\n",
    "        if(a[ord(i)]<0):\n",
    "            return 0\n",
    "    return 1\n",
    "    \n",
    "assert checkPermutation('hello','elloh')==1\n",
    "assert checkPermutation('hello','elloah')==0\n",
    "assert checkPermutation('hello','ealoah')==0"
   ]
  },
  {
   "cell_type": "code",
   "execution_count": 159,
   "id": "8762c2c1",
   "metadata": {},
   "outputs": [
    {
     "data": {
      "text/plain": [
       "'kavi%20what%20are%20you%20doing'"
      ]
     },
     "execution_count": 159,
     "metadata": {},
     "output_type": "execute_result"
    }
   ],
   "source": [
    "#3.Urlify \n",
    "def urlfy(s):\n",
    "#     return s.replace(' ','%20')\n",
    "    for i,ele in enumerate(s):\n",
    "        if(ele==' '):\n",
    "            s[i]='%20'\n",
    "    return ''.join(s)\n",
    "urlfy(list('kavi what are you doing'))"
   ]
  },
  {
   "cell_type": "code",
   "execution_count": 165,
   "id": "9e35604e",
   "metadata": {},
   "outputs": [
    {
     "name": "stdout",
     "output_type": "stream",
     "text": [
      "6\n"
     ]
    }
   ],
   "source": [
    "#lru cache implementation.\n",
    "c=4\n",
    "s=[]\n",
    "pf=0\n",
    "placement=[ 7, 0, 1, 2, 0, 3, 0,4, 2, 3, 0, 3, 2]\n",
    "for i in placement:\n",
    "    if i not in s:\n",
    "        if(c==len(s)):\n",
    "            s.remove(s[0])\n",
    "            s.append(i)\n",
    "        else:\n",
    "            s.append(i)\n",
    "        pf+=1\n",
    "    else:\n",
    "        s.remove(i)\n",
    "        s.append(i)\n",
    "print(pf)"
   ]
  },
  {
   "cell_type": "code",
   "execution_count": 100,
   "id": "9878711c",
   "metadata": {},
   "outputs": [
    {
     "data": {
      "text/plain": [
       "1"
      ]
     },
     "execution_count": 100,
     "metadata": {},
     "output_type": "execute_result"
    }
   ],
   "source": [
    "#4.Palindrome Permutation:\n",
    "def isPalPermutation(s1):\n",
    "    a=[0]*26\n",
    "    found=0\n",
    "    for i in s1:\n",
    "        a[ord(i)%26]+=1\n",
    "    for i in a:\n",
    "        if(i%2==1):\n",
    "            if(found):\n",
    "                return 0\n",
    "            found=1\n",
    "        \n",
    "    return 1\n",
    "isPalPermutation('aaabbba')"
   ]
  },
  {
   "cell_type": "code",
   "execution_count": 116,
   "id": "d061328c",
   "metadata": {},
   "outputs": [
    {
     "data": {
      "text/plain": [
       "1"
      ]
     },
     "execution_count": 116,
     "metadata": {},
     "output_type": "execute_result"
    }
   ],
   "source": [
    "#5.One edit Away \n",
    "def oneEditAway(s1,s2):\n",
    "    if(abs(len(s1)-len(s2))>1):\n",
    "        return 0\n",
    "    a=[0]*26\n",
    "    cnt=0\n",
    "    for i in s1:\n",
    "        a[ord(i)%26]+=1\n",
    "    for i in s2:\n",
    "        a[ord(i)%26]-=1\n",
    "    for i in a:\n",
    "        if(i!=0):\n",
    "            cnt+=1\n",
    "    if(cnt>1):\n",
    "        return 0\n",
    "    return 1\n",
    "oneEditAway('plea','ale')"
   ]
  },
  {
   "cell_type": "code",
   "execution_count": 40,
   "id": "d6948b95",
   "metadata": {},
   "outputs": [
    {
     "data": {
      "text/plain": [
       "('a2b1a2', 'aabaa')"
      ]
     },
     "execution_count": 40,
     "metadata": {},
     "output_type": "execute_result"
    }
   ],
   "source": [
    "#6.string compression\n",
    "def stringCompression(s):\n",
    "    cnt=0\n",
    "    ans=''\n",
    "    for i in range(len(s)):\n",
    "        cnt+=1\n",
    "        if(i+1>=len(s) or s[i]!=s[i+1]):\n",
    "            ans+=s[i]+str(cnt)\n",
    "            cnt=0\n",
    "    return ans\n",
    "    return ans if len(ans)<len(s) else s\n",
    "#This works only if character once contiguously\n",
    "# def stringCompression(s):\n",
    "#     dic={}\n",
    "#     for i in s:\n",
    "#         if i not in dic:\n",
    "#             dic[i]=1\n",
    "#         else:\n",
    "#             dic[i]+=1\n",
    "#     strCompressed=''\n",
    "#     for i in dic:\n",
    "#         strCompressed+=i+str(dic[i])\n",
    "#     return strCompressed\n",
    "stringCompression('aabaa')"
   ]
  },
  {
   "cell_type": "code",
   "execution_count": 21,
   "id": "cbfa4e20",
   "metadata": {},
   "outputs": [
    {
     "name": "stdout",
     "output_type": "stream",
     "text": [
      "[[7, 4, 1], [8, 5, 2], [9, 6, 3]]\n"
     ]
    }
   ],
   "source": [
    "#7.Rotate matrix\n",
    "def transpose(mat,m,n):\n",
    "    for i in range(m):\n",
    "        for j in range(i,n):\n",
    "            mat[i][j],mat[j][i]=mat[j][i],mat[i][j]\n",
    "def reverse(mat,m,n):\n",
    "    for i in range(m):\n",
    "        for j in range(n//2):\n",
    "            mat[i][j],mat[i][-j-1]=mat[i][-j-1],mat[i][j]\n",
    "mat=[[1,2,3],[4,5,6],[7,8,9]]\n",
    "transpose(mat,len(mat),len(mat[0]))\n",
    "reverse(mat,len(mat),len(mat[0]))\n",
    "print(mat)"
   ]
  },
  {
   "cell_type": "code",
   "execution_count": 214,
   "id": "6465f66a",
   "metadata": {},
   "outputs": [
    {
     "name": "stdout",
     "output_type": "stream",
     "text": [
      "6\n",
      "9\n",
      "4\n",
      "2\n",
      "7\n"
     ]
    }
   ],
   "source": [
    "#remove duplicate from list \n",
    "#iterate through list keeping hash function when duplicate is found delete it\n",
    "class Node:\n",
    "    def __init__(self,data):\n",
    "        self.data=data\n",
    "        self.next=None\n",
    "def insert(root,data):\n",
    "    if(root==None):\n",
    "        root=Node(data)\n",
    "    else:\n",
    "        root.next=insert(root.next,data)\n",
    "    return root\n",
    "def disp(root):\n",
    "    if(root):\n",
    "        print(root.data)\n",
    "        disp(root.next)\n",
    "def removeDup(root):\n",
    "    dic={}\n",
    "    p=root\n",
    "    prev=None\n",
    "    while(p!=None):\n",
    "        if p.data in dic:\n",
    "            prev.next=p.next\n",
    "        else:\n",
    "            dic[p.data]=1\n",
    "            prev=p\n",
    "        p=p.next\n",
    "def remove(root,data):\n",
    "    if(not root):\n",
    "        return\n",
    "    p=root\n",
    "    if(p!=None):\n",
    "        if(p.data==data):\n",
    "            root=p.next\n",
    "            p=None\n",
    "            return root\n",
    "    while(p):\n",
    "        if(p.data==data):\n",
    "            break\n",
    "        prev=p\n",
    "        p=p.next\n",
    "    if(p==None):\n",
    "        return root\n",
    "    prev.next=p.next\n",
    "    return root\n",
    "    \n",
    "root=Node(6)\n",
    "insert(root,9)\n",
    "insert(root,4)\n",
    "insert(root,6)\n",
    "insert(root,2)\n",
    "insert(root,7)\n",
    "insert(root,6)\n",
    "removeDup(root)\n",
    "root=remove(root,21)\n",
    "disp(root)"
   ]
  },
  {
   "cell_type": "code",
   "execution_count": 32,
   "id": "6530116d",
   "metadata": {},
   "outputs": [
    {
     "name": "stdout",
     "output_type": "stream",
     "text": [
      "1 1 0 1 \n",
      "0 0 0 0 \n",
      "1 1 0 1 \n"
     ]
    }
   ],
   "source": [
    "#8.Zero matrix\n",
    "def zeroMatrix(mat):\n",
    "    m,n=len(mat),len(mat[0])\n",
    "    r,c=[0]*m,[0]*n\n",
    "    for i in range(m):\n",
    "        for j in range(n):\n",
    "            if(mat[i][j]==0):\n",
    "                r[i]=1\n",
    "                c[j]=1\n",
    "    for i in range(m):\n",
    "        if(r[i]):\n",
    "            for j in range(n):\n",
    "                mat[i][j]=0\n",
    "    for j in range(n):\n",
    "        if(c[j]):\n",
    "            for i in range(m):\n",
    "                mat[i][j]=0\n",
    "def disp(mat):\n",
    "    for i in range(len(mat)):\n",
    "        for j in range(len(mat[0])):\n",
    "            print(mat[i][j],end=' ')\n",
    "        print()\n",
    "mat=[[1,1,1,1],[1,1,0,1],[1,1,1,1]]\n",
    "zeroMatrix(mat)\n",
    "disp(mat)"
   ]
  },
  {
   "cell_type": "code",
   "execution_count": 37,
   "id": "83e65b91",
   "metadata": {},
   "outputs": [
    {
     "data": {
      "text/plain": [
       "1"
      ]
     },
     "execution_count": 37,
     "metadata": {},
     "output_type": "execute_result"
    }
   ],
   "source": [
    "# String Rotation:\n",
    "def isStrRotation(s1,s2):\n",
    "    if s1 in s2+s2:\n",
    "        return 1\n",
    "    return 0\n",
    "isStrRotation('heelo','elohe')"
   ]
  },
  {
   "cell_type": "code",
   "execution_count": 63,
   "id": "12a5ec2a",
   "metadata": {},
   "outputs": [
    {
     "data": {
      "text/plain": [
       "13"
      ]
     },
     "execution_count": 63,
     "metadata": {},
     "output_type": "execute_result"
    }
   ],
   "source": [
    "#Triple step\n",
    "from functools import lru_cache\n",
    "@lru_cache(None)\n",
    "def tripleStep(n):\n",
    "    if(n<0):\n",
    "        return 0\n",
    "    if(n==0):\n",
    "        return 1\n",
    "    else:\n",
    "        return tripleStep(n-1)+tripleStep(n-2)+tripleStep(n-3)\n",
    "tripleStep(5)"
   ]
  },
  {
   "cell_type": "code",
   "execution_count": 62,
   "id": "79ef958e",
   "metadata": {},
   "outputs": [
    {
     "data": {
      "text/plain": [
       "13"
      ]
     },
     "execution_count": 62,
     "metadata": {},
     "output_type": "execute_result"
    }
   ],
   "source": [
    "#Triple step\n",
    "def tripleStep(n,c={}):\n",
    "    if(n<0):\n",
    "        return 0\n",
    "    if(n==1):\n",
    "        return 1\n",
    "    if n in c:\n",
    "        return c[n]\n",
    "    else:\n",
    "        c[n]=tripleStep(n-1)+tripleStep(n-2)+tripleStep(n-3)\n",
    "#         print(c)\n",
    "        return c[n]\n",
    "n=5\n",
    "tripleStep(n+1)"
   ]
  },
  {
   "cell_type": "code",
   "execution_count": 85,
   "id": "0a4d8840",
   "metadata": {},
   "outputs": [
    {
     "name": "stdout",
     "output_type": "stream",
     "text": [
      "x x 0 0 \n",
      "0 x x 0 \n",
      "0 0 x x \n"
     ]
    }
   ],
   "source": [
    "#Robot in grid find path from top to bottom in grid\n",
    "def findPath(mat):\n",
    "    res=[[0]*len(mat[0]) for _ in range(len(mat))]\n",
    "    failed={}\n",
    "    if(dfs(mat,len(mat)-1,len(mat[0])-1,res,failed)):\n",
    "        return res\n",
    "    return 0\n",
    "def dfs(mat,x,y,res,failed):\n",
    "    if(x<0 or y<0 or not mat[x][y]):\n",
    "        return 0\n",
    "    p=(x,y)\n",
    "    if(p in failed):\n",
    "        return 0\n",
    "#     isAtOrigin=(x==0) and (y==0)\n",
    "    if((x==0 and y==0) or dfs(mat,x,y-1,res,failed) or dfs(mat,x-1,y,res,failed)):\n",
    "        res[p[0]][p[1]]='x'\n",
    "        return 1\n",
    "    failed[p]=1\n",
    "    return 0\n",
    "def displayPath(mat):\n",
    "    for i in range(len(mat)):\n",
    "        for j in range(len(mat[0])):\n",
    "            print(mat[i][j],end=\" \")\n",
    "        print()\n",
    "mat=[[1,1,0,0],[0,1,1,1],[1,0,1,1]]\n",
    "res=findPath(mat)\n",
    "if(res):\n",
    "    displayPath(res)\n",
    "else:\n",
    "    print(\"No path exist\")"
   ]
  },
  {
   "cell_type": "code",
   "execution_count": 96,
   "id": "3b54ab94",
   "metadata": {},
   "outputs": [
    {
     "data": {
      "text/plain": [
       "4"
      ]
     },
     "execution_count": 96,
     "metadata": {},
     "output_type": "execute_result"
    }
   ],
   "source": [
    "# Magic Index A [1. .. n -1] is defined to be an index such that A[i]=i. \n",
    "def magicIndex(nums):\n",
    "    for i in range(len(nums)):\n",
    "        if(nums[i]==i):\n",
    "            return i\n",
    "    return -1\n",
    "magicIndex([2,3,1,4,4,5,5,6,7])"
   ]
  },
  {
   "cell_type": "code",
   "execution_count": 113,
   "id": "ee0c3c98",
   "metadata": {},
   "outputs": [
    {
     "name": "stdout",
     "output_type": "stream",
     "text": [
      "[0, 2, 3, 4, 5]\n"
     ]
    },
    {
     "data": {
      "text/plain": [
       "0"
      ]
     },
     "execution_count": 113,
     "metadata": {},
     "output_type": "execute_result"
    }
   ],
   "source": [
    "# Magic Index: using binary search\n",
    "def magicIndex(nums):\n",
    "    return bSearch(nums,0,len(nums)-1)\n",
    "def bSearch(nums,l,h):\n",
    "    if(l>h):\n",
    "        return -1\n",
    "    mid=(l+h)//2\n",
    "    if(nums[mid]==mid):\n",
    "        return mid\n",
    "    elif(nums[mid]>mid):\n",
    "        return bSearch(nums,l,mid-1)\n",
    "    else:\n",
    "        return bSearch(nums,mid+1,h)\n",
    "nums=[0, 2, 3, 4, 5]\n",
    "nums.sort()\n",
    "print(nums)\n",
    "magicIndex(nums)    \n"
   ]
  },
  {
   "cell_type": "code",
   "execution_count": 1,
   "id": "79fa3ce5",
   "metadata": {},
   "outputs": [
    {
     "name": "stdout",
     "output_type": "stream",
     "text": [
      "4 3\n"
     ]
    },
    {
     "data": {
      "text/plain": [
       "12"
      ]
     },
     "execution_count": 1,
     "metadata": {},
     "output_type": "execute_result"
    }
   ],
   "source": [
    "#product of two numbers without *\n",
    "def product(a,b):\n",
    "    bigger=a if a>b else b\n",
    "    smaller=a+b-bigger\n",
    "    print(bigger,smaller)\n",
    "    return minProduct(smaller,bigger)\n",
    "def minProduct(a,b):\n",
    "    if(a==0):\n",
    "        return 0\n",
    "    elif(a==1):\n",
    "        return b\n",
    "    s=a>>1\n",
    "    side1=minProduct(s,b)\n",
    "    side2=side1\n",
    "    if(a%2==1):\n",
    "        side2=minProduct(a-s,b)\n",
    "    return side1+side2\n",
    "product(3,4)\n",
    "# def p(m,n):\n",
    "#     a=0\n",
    "#     while(n):\n",
    "#         a+=m\n",
    "#         n-=1\n",
    "#     return a\n",
    "# p(5,4)"
   ]
  },
  {
   "cell_type": "code",
   "execution_count": 22,
   "id": "a97e4a2d",
   "metadata": {},
   "outputs": [
    {
     "name": "stdout",
     "output_type": "stream",
     "text": [
      "1 1 1 0 0 \n",
      "1 2 2 0 0 \n",
      "1 2 4 0 9 \n",
      "after filling color\n",
      "c c c 0 0 \n",
      "c 2 2 0 0 \n",
      "c 2 4 0 9 \n"
     ]
    }
   ],
   "source": [
    "#Paint fill\n",
    "def paintFill(screen,r,c,color):\n",
    "    if(screen[r][c]==color):\n",
    "        return 0\n",
    "    dfs(screen,r,c,screen[r][c],color)\n",
    "    return screen\n",
    "def dfs(screen, r,c, intialC,color):\n",
    "    if(r<0 or r>=len(screen) or c<0 or c>=len(screen[0])):\n",
    "        return\n",
    "    if(screen[r][c]==intialC):\n",
    "        screen[r][c]=color\n",
    "        dfs(screen, r-1,c, intialC,color)\n",
    "        dfs(screen, r,c-1, intialC,color)      \n",
    "        dfs(screen, r+1,c, intialC,color)        \n",
    "        dfs(screen, r,c+1,\n",
    "            intialC,color)      \n",
    "    return 0\n",
    "def display(mat):\n",
    "    for i in range(len(mat)):\n",
    "        for j in range(len(mat[0])):\n",
    "            print(mat[i][j],end=\" \")\n",
    "        print()\n",
    "mat=[[1,1,1,0,0],[1,2,2,0,0],[1,2,4,0,9]]\n",
    "display(mat)\n",
    "paintFill(mat,0,0,'c')\n",
    "print(\"after filling color\")\n",
    "display(mat)\n"
   ]
  },
  {
   "cell_type": "code",
   "execution_count": 26,
   "id": "34e6f63f",
   "metadata": {},
   "outputs": [
    {
     "data": {
      "text/plain": [
       "9"
      ]
     },
     "execution_count": 26,
     "metadata": {},
     "output_type": "execute_result"
    }
   ],
   "source": [
    "from functools import lru_cache\n",
    "@lru_cache(None)\n",
    "def coins(n):\n",
    "    if(n<0):\n",
    "        return 0\n",
    "    if(n==0):\n",
    "        return 1\n",
    "    else:\n",
    "        return coins(n-1)+coins(n-5)+coins(n-10)+coins(n-25)\n",
    "coins(10)"
   ]
  },
  {
   "cell_type": "markdown",
   "id": "419e024e",
   "metadata": {},
   "source": [
    "<h1>Sorting and Search\n"
   ]
  },
  {
   "cell_type": "code",
   "execution_count": 8,
   "id": "7d524718",
   "metadata": {},
   "outputs": [
    {
     "data": {
      "text/plain": [
       "[1, 2, 3, 3, 6, 6, 7, 9, 9]"
      ]
     },
     "execution_count": 8,
     "metadata": {},
     "output_type": "execute_result"
    }
   ],
   "source": [
    "# Sorted Merge:\n",
    "# two sorted arrays, A and B, where A has a large enough buffer at the \n",
    "# end to hold B. Write a method to merge B into A in sorted order.\n",
    "def sortMerge(A,B):\n",
    "    i=j=0\n",
    "    while(i<len(A) and j<len(B)):\n",
    "        if(A[i]<B[j]):\n",
    "            i+=1\n",
    "        else:\n",
    "            A.insert(i,B[j])\n",
    "            i+=1\n",
    "            j+=1\n",
    "    while(j<len(B)):\n",
    "        A.insert(i,B[j])\n",
    "        j+=1\n",
    "        i+=1\n",
    "    return A\n",
    "sortMerge([3,6,7,9],[1,2,3,6,9])"
   ]
  },
  {
   "cell_type": "code",
   "execution_count": 38,
   "id": "de60c01c",
   "metadata": {},
   "outputs": [
    {
     "data": {
      "text/plain": [
       "['ate', 'aet', 'tea', 'hat', 'tah', 'tah', 'the', 'het', 'eht']"
      ]
     },
     "execution_count": 38,
     "metadata": {},
     "output_type": "execute_result"
    }
   ],
   "source": [
    "# Group Anagrams: Write a method to sort an array of strings so that all the anagrams are next to \n",
    "# each other. \n",
    "def grp(anagrams):\n",
    "    dic={}\n",
    "    for i in anagrams:\n",
    "        k=tuple(sorted(i))\n",
    "        dic[k]=dic.get(k,[])+[i]\n",
    "    ans=[]\n",
    "    for i in dic:\n",
    "        for j in (dic[i]):\n",
    "            ans.append(j)\n",
    "    return ans\n",
    "#     return [ dic[i] for i in dic]\n",
    "#     return list(dic.values())\n",
    "# anagrp=\n",
    "grp(['ate','aet','hat','tea','the','tah','tah','het','eht'])"
   ]
  },
  {
   "cell_type": "code",
   "execution_count": 15,
   "id": "8c7d0737",
   "metadata": {},
   "outputs": [
    {
     "data": {
      "text/plain": [
       "['D', 'E', 'F', 'A', 'B', 'C']"
      ]
     },
     "execution_count": 15,
     "metadata": {},
     "output_type": "execute_result"
    }
   ],
   "source": [
    "def prints(a,n,ind):\n",
    "    return [a[(i%n)] for i in range(ind,ind+n)]\n",
    "a = ['A', 'B', 'C', 'D', 'E', 'F']\n",
    "n = len(a)\n",
    "prints(a, n, 3)"
   ]
  },
  {
   "cell_type": "code",
   "execution_count": 43,
   "id": "b7fba9c8",
   "metadata": {},
   "outputs": [
    {
     "name": "stdout",
     "output_type": "stream",
     "text": [
      "current volume 9\n",
      "current volume 0\n",
      "current volume 9\n",
      "current volume 12\n",
      "12\n",
      "current volume 0\n",
      "current volume 12\n"
     ]
    }
   ],
   "source": [
    "# Design volume controller\n",
    "class Volume:\n",
    "    def __init__(self,defaultV=5):\n",
    "        self.defaultV=defaultV\n",
    "        self.saveLast=0\n",
    "    def increase(self,inc):\n",
    "        self.defaultV+=inc\n",
    "        print(\"current volume \"+format(self.defaultV))\n",
    "    def decrease(self,dec):\n",
    "        self.defaultV+=dec\n",
    "        print(\"current volume \"+format(self.defaultV))\n",
    "    def mute(self):\n",
    "        self.saveLast=self.defaultV\n",
    "        self.defaultV=0\n",
    "        print(\"current volume \"+format(self.defaultV))\n",
    "    def on(self):\n",
    "        self.defaultV=self.saveLast\n",
    "        self.saveLast=0\n",
    "        print(\"current volume \"+format(self.defaultV))\n",
    "\n",
    "if __name__=='__main__':\n",
    "#     print(\"\\n1.Default volume\\n2.Increase\\n3.Decrease\\n4.Mute\\n5.Unmute\\n\")\n",
    "    v=Volume()\n",
    "    v.increase(4)\n",
    "    v.mute()\n",
    "    v.on()\n",
    "    v.decrease(3)\n",
    "    print(v.defaultV)\n",
    "    v.mute()\n",
    "    v.on()"
   ]
  },
  {
   "cell_type": "code",
   "execution_count": 10,
   "id": "34e6d4c9",
   "metadata": {},
   "outputs": [
    {
     "data": {
      "text/plain": [
       "2"
      ]
     },
     "execution_count": 10,
     "metadata": {},
     "output_type": "execute_result"
    }
   ],
   "source": [
    "# Triple Step: n steps and can hop either 1 step, 2 steps, or 3 steps at a time\n",
    "def tripleStep(n,dic={}):\n",
    "    if(n<0):\n",
    "        return 0\n",
    "    if(n==1):\n",
    "        return 1\n",
    "    if n not in dic:\n",
    "        dic[n]=tripleStep(n-1)+tripleStep(n-2)+tripleStep(n-3)\n",
    "    return dic[n]\n",
    "tripleStep(3)"
   ]
  },
  {
   "cell_type": "code",
   "execution_count": null,
   "id": "ac96c7fd",
   "metadata": {},
   "outputs": [],
   "source": [
    "#Add two number without aritmatic operators\n",
    "x=12\n",
    "y=21\n",
    "while(y):\n",
    "    carry=x&y\n",
    "    x=x^y\n",
    "    y=carry<<1\n",
    "print(x)"
   ]
  },
  {
   "cell_type": "code",
   "execution_count": 57,
   "id": "e01225ec",
   "metadata": {},
   "outputs": [
    {
     "data": {
      "text/plain": [
       "-31201"
      ]
     },
     "execution_count": 57,
     "metadata": {},
     "output_type": "execute_result"
    }
   ],
   "source": [
    "#ask is number is signed or unsgined number\n",
    "#type of number is float or int \n",
    "#ask max length of the number\n",
    "def reverseDigits(n):\n",
    "    rev,nums=0,abs(n)\n",
    "    while(nums):\n",
    "        rev=rev*10+nums%10\n",
    "        nums//=10\n",
    "    return  rev if n>=0 else -rev  \n",
    "reverseDigits(-10213)"
   ]
  },
  {
   "cell_type": "code",
   "execution_count": null,
   "id": "cfa5aeb0",
   "metadata": {},
   "outputs": [],
   "source": [
    "#given an decimal integer check is it palindrome\n",
    "def isPal(num):\n",
    "    if num<0:\n",
    "        return False\n",
    "    return reverseDigits(num)==num\n",
    "isPal(12121)"
   ]
  },
  {
   "cell_type": "code",
   "execution_count": 72,
   "id": "7380c91f",
   "metadata": {},
   "outputs": [
    {
     "name": "stdout",
     "output_type": "stream",
     "text": [
      "1\n",
      "x: 1111010\n",
      "10\n",
      "x: 1111000\n",
      "0\n",
      "x: 1111100\n",
      "124\n"
     ]
    }
   ],
   "source": [
    "x,y=121,3\n",
    "while(y):\n",
    "    c=x&y\n",
    "    print(bin(c)[2:])\n",
    "    x=x^y\n",
    "    print('x:',bin(x)[2:])\n",
    "    y=c<<1\n",
    "print(x)"
   ]
  },
  {
   "cell_type": "code",
   "execution_count": 78,
   "id": "1c5ca1fd",
   "metadata": {},
   "outputs": [
    {
     "data": {
      "text/plain": [
       "[1, 5, 3, 1, 4, 6, 2]"
      ]
     },
     "execution_count": 78,
     "metadata": {},
     "output_type": "execute_result"
    }
   ],
   "source": [
    "def sortEveOdd(a):\n",
    "    if not a:\n",
    "        return \n",
    "    l,r=0,len(a)-1\n",
    "    while(l<=r):\n",
    "        if(a[l]%2==0):\n",
    "            a[l],a[r]=a[r],a[l]\n",
    "            r-=1\n",
    "        else:\n",
    "            l+=1\n",
    "    return a\n",
    "sortEveOdd([1,2,3,4,1,5,6])"
   ]
  },
  {
   "cell_type": "code",
   "execution_count": 81,
   "id": "284dbeff",
   "metadata": {},
   "outputs": [
    {
     "name": "stdout",
     "output_type": "stream",
     "text": [
      "1\n",
      "3\n",
      "4\n",
      "7\n",
      "8\n",
      "12\n"
     ]
    }
   ],
   "source": [
    "class Node:\n",
    "    def __init__(self,data):\n",
    "        self.data=data\n",
    "        self.left=None\n",
    "        self.right=None\n",
    "def insert(root,data):\n",
    "    if not root:\n",
    "        return Node(data)\n",
    "    else:\n",
    "        if(root.data==data):\n",
    "            return\n",
    "        elif(root.data<data):\n",
    "            root.right=insert(root.right,data)\n",
    "        else:\n",
    "            root.left=insert(root.left,data)\n",
    "    return root\n",
    "def inorder(root):\n",
    "    st=[]\n",
    "    cur=root\n",
    "    while(1):\n",
    "        if cur:\n",
    "            st.append(cur)\n",
    "            cur=cur.left\n",
    "        elif st:\n",
    "            cur=st.pop()\n",
    "            print(cur.data)\n",
    "            cur=cur.right\n",
    "        else:\n",
    "            break\n",
    "def levelOrder(root):\n",
    "    \n",
    "root=Node(3)\n",
    "insert(root,1)\n",
    "insert(root,8)\n",
    "insert(root,7)\n",
    "insert(root,4)\n",
    "insert(root,12)\n",
    "inorder(root)"
   ]
  },
  {
   "cell_type": "code",
   "execution_count": null,
   "id": "ac56c759",
   "metadata": {},
   "outputs": [],
   "source": []
  }
 ],
 "metadata": {
  "kernelspec": {
   "display_name": "Python 3",
   "language": "python",
   "name": "python3"
  },
  "language_info": {
   "codemirror_mode": {
    "name": "ipython",
    "version": 3
   },
   "file_extension": ".py",
   "mimetype": "text/x-python",
   "name": "python",
   "nbconvert_exporter": "python",
   "pygments_lexer": "ipython3",
   "version": "3.9.5"
  }
 },
 "nbformat": 4,
 "nbformat_minor": 5
}
