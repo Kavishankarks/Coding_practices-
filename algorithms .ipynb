{
 "cells": [
  {
   "cell_type": "code",
   "execution_count": 2,
   "id": "37f90b7b",
   "metadata": {},
   "outputs": [],
   "source": [
    "class Calculator():\n",
    "    def evaluate(self,string):\n",
    "        return round(eval(string),12)\n"
   ]
  },
  {
   "cell_type": "code",
   "execution_count": 3,
   "id": "41d9222e",
   "metadata": {},
   "outputs": [],
   "source": [
    "def evaluate(string):\n",
    "        return round(eval(string),12)"
   ]
  },
  {
   "cell_type": "code",
   "execution_count": 4,
   "id": "7921bda1",
   "metadata": {},
   "outputs": [
    {
     "data": {
      "text/plain": [
       "28"
      ]
     },
     "execution_count": 4,
     "metadata": {},
     "output_type": "execute_result"
    }
   ],
   "source": [
    "evaluate(\"24++4\")"
   ]
  },
  {
   "cell_type": "code",
   "execution_count": 5,
   "id": "ca55d51f",
   "metadata": {},
   "outputs": [
    {
     "name": "stdout",
     "output_type": "stream",
     "text": [
      "6455\n"
     ]
    }
   ],
   "source": [
    "if __name__=='__main__':\n",
    "    clc=Calculator()\n",
    "    try:\n",
    "        print(clc.evaluate(\"4232+5423-3212+12\"))\n",
    "    except:\n",
    "        print(\"error\")"
   ]
  },
  {
   "cell_type": "code",
   "execution_count": 14,
   "id": "164cfdeb",
   "metadata": {},
   "outputs": [
    {
     "data": {
      "text/plain": [
       "[1, 2, 3, 4, 5, 6]"
      ]
     },
     "execution_count": 14,
     "metadata": {},
     "output_type": "execute_result"
    }
   ],
   "source": [
    "def ms(arr):\n",
    "    if(len(arr)>1):\n",
    "        m=len(arr)//2\n",
    "        l=arr[:m]\n",
    "        r=arr[m:]\n",
    "        ms(l)\n",
    "        ms(r)\n",
    "        i=j=k=0\n",
    "        while(i<len(l) and j<len(r)):\n",
    "            if(l[i]<r[j]):\n",
    "                arr[k]=l[i]\n",
    "                i+=1\n",
    "            else:\n",
    "                arr[k]=r[j]\n",
    "                j+=1\n",
    "            k+=1\n",
    "        while(i<len(l)):\n",
    "            arr[k]=l[i]\n",
    "            i+=1\n",
    "            k+=1\n",
    "        while(j<len(r)):\n",
    "            arr[k]=r[j]\n",
    "            j+=1\n",
    "            k+=1\n",
    "arr=[3,2,5,1,6,4]\n",
    "ms(arr)\n",
    "arr"
   ]
  },
  {
   "cell_type": "code",
   "execution_count": 7,
   "id": "7d654989",
   "metadata": {},
   "outputs": [
    {
     "name": "stdout",
     "output_type": "stream",
     "text": [
      "kavi 18\n",
      "2022\n"
     ]
    }
   ],
   "source": [
    "class person():\n",
    "    def __init__(self,name,age):\n",
    "        self.age=age\n",
    "        self.name=name\n",
    "    def disp(self):\n",
    "        print(self.name,self.age)\n",
    "class Student(person):\n",
    "    def __init__(self,fname,age,year):\n",
    "        super().__init__(fname,age)\n",
    "        self.gyear=year\n",
    "\n",
    "x=Student('kavi',18,2022)\n",
    "x.disp()\n",
    "print(x.gyear)"
   ]
  },
  {
   "cell_type": "code",
   "execution_count": 8,
   "id": "46511367",
   "metadata": {},
   "outputs": [],
   "source": [
    "class student:\n",
    "    def add(x,y):\n",
    "        return x+y\n",
    "    "
   ]
  },
  {
   "cell_type": "code",
   "execution_count": 35,
   "id": "a7d5375f",
   "metadata": {},
   "outputs": [
    {
     "name": "stdout",
     "output_type": "stream",
     "text": [
      "48\n",
      "20\n"
     ]
    }
   ],
   "source": [
    "class Add:\n",
    "    def add(self,a,b):\n",
    "        return a+b\n",
    "    def add(self,a,b,c):\n",
    "        return a+b+c\n",
    "    \n",
    "if __name__=='__main__':\n",
    "    a1=Add()\n",
    "    print(a1.add(2,43,3))\n",
    "    print(a1.add(14,2,4))"
   ]
  },
  {
   "cell_type": "code",
   "execution_count": 58,
   "id": "b40f8742",
   "metadata": {},
   "outputs": [
    {
     "name": "stdout",
     "output_type": "stream",
     "text": [
      "Addition of three Number: 15\n"
     ]
    }
   ],
   "source": [
    "class math:\n",
    "    def add(self,a,b):\n",
    "        c=a+b\n",
    "        print(\"Addition of two Number:\",c)\n",
    "    def add(self,a,b,c):\n",
    "        d=a+b+c\n",
    "        print(\"Addition of three Number:\",d)\n",
    "#creating the object of the class\n",
    "m=math()\n",
    "# m.add(2,3)\n",
    "m.add(5,4,6)"
   ]
  },
  {
   "cell_type": "code",
   "execution_count": 69,
   "id": "f6e402e6",
   "metadata": {},
   "outputs": [
    {
     "name": "stdout",
     "output_type": "stream",
     "text": [
      "b\n"
     ]
    }
   ],
   "source": [
    "s='aaaabbaaaaa'\n",
    "def pal(s,l,r):\n",
    "    while(l>=0 and r<len(s) and s[l]==s[r]):\n",
    "        l-=1\n",
    "        r+=1\n",
    "    return s[l+1:r]\n",
    "res=''\n",
    "for i in range(len(s)):\n",
    "    res=max(res,pal(s,i,i),pal(s,i,i+1))\n",
    "print(res)"
   ]
  },
  {
   "cell_type": "code",
   "execution_count": 79,
   "id": "0b1aca33",
   "metadata": {},
   "outputs": [
    {
     "data": {
      "text/plain": [
       "5"
      ]
     },
     "execution_count": 79,
     "metadata": {},
     "output_type": "execute_result"
    }
   ],
   "source": [
    "def lcs(s,t,m,n):\n",
    "    if(m==0 or n==0):\n",
    "        return 0\n",
    "    elif(s[m-1]==t[n-1]):\n",
    "        return 1+lcs(s,t,m-1,n-1)\n",
    "    else:\n",
    "        return max(lcs(s,t,m-1,n),lcs(s,t,m,n-1))\n",
    "s,t='aaasbba','aasba'\n",
    "\n",
    "lcs(s,t,len(s), len(t))"
   ]
  },
  {
   "cell_type": "code",
   "execution_count": 91,
   "id": "67015b87",
   "metadata": {},
   "outputs": [
    {
     "data": {
      "text/plain": [
       "'aba'"
      ]
     },
     "execution_count": 91,
     "metadata": {},
     "output_type": "execute_result"
    }
   ],
   "source": [
    "def palindrome(s,l,r):\n",
    "    while(0<=l and r<=len(s) and s[l]==s[r]):\n",
    "#         print(l,r)\n",
    "#         print(s[l-1:r])\n",
    "        l-=1\n",
    "        r+=1\n",
    "    return s[l+1:r]\n",
    "palindrome('aba',1,1)"
   ]
  },
  {
   "cell_type": "code",
   "execution_count": 14,
   "id": "bf27967c",
   "metadata": {},
   "outputs": [],
   "source": [
    "def check_pal(s,l,r):\n",
    "    while(0<=l and r<len(s) and s[l]==s[r]):\n",
    "        l-=1\n",
    "        r+=1\n",
    "    return s==s[l+1:r]\n",
    "    "
   ]
  },
  {
   "cell_type": "code",
   "execution_count": 15,
   "id": "c6502f77",
   "metadata": {},
   "outputs": [
    {
     "data": {
      "text/plain": [
       "True"
      ]
     },
     "execution_count": 15,
     "metadata": {},
     "output_type": "execute_result"
    }
   ],
   "source": [
    "s='aaaaaaa'\n",
    "l=len(s)\n",
    "if(l%2==0):\n",
    "    l=l//2-1\n",
    "    r=l+1\n",
    "else:\n",
    "    l=r=l//2\n",
    "\n",
    "check_pal(s,l,r)"
   ]
  },
  {
   "cell_type": "code",
   "execution_count": 16,
   "id": "c344c21d",
   "metadata": {},
   "outputs": [],
   "source": [
    "def Print(n):\n",
    "    if(n==0):\n",
    "        return 0\n",
    "    else:\n",
    "        return Print(n-1)\n",
    "        print(n)"
   ]
  },
  {
   "cell_type": "code",
   "execution_count": 17,
   "id": "2e59d15e",
   "metadata": {},
   "outputs": [
    {
     "data": {
      "text/plain": [
       "0"
      ]
     },
     "execution_count": 17,
     "metadata": {},
     "output_type": "execute_result"
    }
   ],
   "source": [
    "Print(3)"
   ]
  },
  {
   "cell_type": "code",
   "execution_count": 18,
   "id": "1005d363",
   "metadata": {},
   "outputs": [
    {
     "name": "stdout",
     "output_type": "stream",
     "text": [
      "{0: 0, 1: 1}\n"
     ]
    }
   ],
   "source": [
    "dic={i:i*1 for i in range(2)}\n",
    "print(dic)\n",
    "def fact(n):\n",
    "    if(dic[0]):\n",
    "        return dic[i]\n",
    "    else:\n",
    "        dic[0]=n\n",
    "        return n*fact(n-1)"
   ]
  },
  {
   "cell_type": "code",
   "execution_count": 19,
   "id": "73ccf557",
   "metadata": {},
   "outputs": [],
   "source": [
    "def isSort(a,n):\n",
    "    if(n==1):\n",
    "        return 1\n",
    "    else:\n",
    "        if(a[n-2]<a[n-1]): \n",
    "            return isSort(a,n-1)\n",
    "        else:\n",
    "            return 0\n",
    "    "
   ]
  },
  {
   "cell_type": "code",
   "execution_count": 20,
   "id": "289dba81",
   "metadata": {},
   "outputs": [
    {
     "data": {
      "text/plain": [
       "0"
      ]
     },
     "execution_count": 20,
     "metadata": {},
     "output_type": "execute_result"
    }
   ],
   "source": [
    "a=[1,3,4,2,43,5,9]\n",
    "isSort(a,len(a))"
   ]
  },
  {
   "cell_type": "code",
   "execution_count": 33,
   "id": "73c6a883",
   "metadata": {},
   "outputs": [],
   "source": [
    "def isArraySorted(a,n):\n",
    "    if(n==1):\n",
    "        return 1\n",
    "    else:\n",
    "        if(a[n-2]<a[n-1]):\n",
    "            return isArraySorted(a,n-1)\n",
    "        else:\n",
    "            return 0\n"
   ]
  },
  {
   "cell_type": "code",
   "execution_count": 34,
   "id": "765baf57",
   "metadata": {},
   "outputs": [
    {
     "name": "stdout",
     "output_type": "stream",
     "text": [
      "5 9\n",
      "3 5\n",
      "1 3\n"
     ]
    },
    {
     "data": {
      "text/plain": [
       "1"
      ]
     },
     "execution_count": 34,
     "metadata": {},
     "output_type": "execute_result"
    }
   ],
   "source": [
    "\n",
    "a=[1,3,5,9]\n",
    "isArraySorted(a,len(a))"
   ]
  },
  {
   "cell_type": "code",
   "execution_count": null,
   "id": "c9747ad9",
   "metadata": {},
   "outputs": [],
   "source": []
  },
  {
   "cell_type": "code",
   "execution_count": 132,
   "id": "2cef0d71",
   "metadata": {},
   "outputs": [
    {
     "name": "stdout",
     "output_type": "stream",
     "text": [
      "[0, 0, 0]\n",
      "[1, 0, 0]\n",
      "[0, 1, 0]\n",
      "[1, 1, 0]\n",
      "[0, 0, 1]\n",
      "[1, 0, 1]\n",
      "[0, 1, 1]\n",
      "[1, 1, 1]\n",
      "8\n"
     ]
    }
   ],
   "source": [
    "n=3\n",
    "A=[0]*n\n",
    "cnt=0\n",
    "def binary(n):\n",
    "    if(n<1):\n",
    "        global cnt\n",
    "        cnt+=1\n",
    "        print(A)\n",
    "    else:\n",
    "        A[n-1]=0\n",
    "        binary(n-1)\n",
    "        A[n-1]=1\n",
    "        binary(n-1)\n",
    "binary(n)\n",
    "print(cnt)"
   ]
  },
  {
   "cell_type": "code",
   "execution_count": 116,
   "id": "c83af01c",
   "metadata": {},
   "outputs": [],
   "source": [
    "def powerof(a,b):\n",
    "    if(b==0):\n",
    "        return 1\n",
    "    else:\n",
    "        return a*powerof(a,b-1)"
   ]
  },
  {
   "cell_type": "code",
   "execution_count": 135,
   "id": "5879d0b5",
   "metadata": {},
   "outputs": [
    {
     "name": "stdout",
     "output_type": "stream",
     "text": [
      "[0, 0, 0]\n",
      "[1, 0, 0]\n",
      "[2, 0, 0]\n",
      "[0, 1, 0]\n",
      "[1, 1, 0]\n",
      "[2, 1, 0]\n",
      "[0, 2, 0]\n",
      "[1, 2, 0]\n",
      "[2, 2, 0]\n",
      "[0, 0, 1]\n",
      "[1, 0, 1]\n",
      "[2, 0, 1]\n",
      "[0, 1, 1]\n",
      "[1, 1, 1]\n",
      "[2, 1, 1]\n",
      "[0, 2, 1]\n",
      "[1, 2, 1]\n",
      "[2, 2, 1]\n",
      "[0, 0, 2]\n",
      "[1, 0, 2]\n",
      "[2, 0, 2]\n",
      "[0, 1, 2]\n",
      "[1, 1, 2]\n",
      "[2, 1, 2]\n",
      "[0, 2, 2]\n",
      "[1, 2, 2]\n",
      "[2, 2, 2]\n"
     ]
    }
   ],
   "source": [
    "n=3\n",
    "A=[0]*n\n",
    "def k_str(n,k):\n",
    "    if(n<1):\n",
    "        print(A)\n",
    "    else:\n",
    "        for j in range(k):\n",
    "            A[n-1]=j\n",
    "            k_str(n-1,k)\n",
    "k_str(n,3)"
   ]
  },
  {
   "cell_type": "code",
   "execution_count": 267,
   "id": "cf7bb394",
   "metadata": {},
   "outputs": [
    {
     "name": "stdout",
     "output_type": "stream",
     "text": [
      "['a', 'a', 0, 0]\n",
      "['b', 'a', 0, 0]\n",
      "['a', 'a', 0, 0]\n",
      "['s', 'a', 0, 0]\n",
      "['a', 'b', 0, 0]\n",
      "['b', 'b', 0, 0]\n",
      "['a', 'b', 0, 0]\n",
      "['s', 'b', 0, 0]\n",
      "['a', 'a', 0, 0]\n",
      "['b', 'a', 0, 0]\n",
      "['a', 'a', 0, 0]\n",
      "['s', 'a', 0, 0]\n",
      "['a', 's', 0, 0]\n",
      "['b', 's', 0, 0]\n",
      "['a', 's', 0, 0]\n",
      "['s', 's', 0, 0]\n"
     ]
    }
   ],
   "source": [
    "A=[0]*\n",
    "def string(n,k):\n",
    "    if(n<1):\n",
    "        print(A)\n",
    "    else:\n",
    "        for i in k:\n",
    "            A[n-1]=i\n",
    "            string(n-1,k)\n",
    "k='abas'\n",
    "string(2,k)"
   ]
  },
  {
   "cell_type": "code",
   "execution_count": 265,
   "id": "9c6f7102",
   "metadata": {},
   "outputs": [
    {
     "name": "stdout",
     "output_type": "stream",
     "text": [
      "['a', 'a', 'c']\n",
      "['a', 'a', 'c']\n",
      "['c', 'a', 'c']\n",
      "['c', 'a', 'c']\n",
      "['a', 'a', 'c']\n",
      "['c', 'a', 'c']\n",
      "['c', 'c', 'c']\n",
      "['c', 'c', 'c']\n",
      "['c', 'c', 'c']\n"
     ]
    }
   ],
   "source": [
    "def com(n,a):\n",
    "    if(n<1):\n",
    "        print(a)\n",
    "        return \n",
    "    else:\n",
    "        for i in a:\n",
    "            a[n-1]=i\n",
    "            com(n-1,a)\n",
    "com(2,['a','b','c'])"
   ]
  },
  {
   "cell_type": "code",
   "execution_count": 142,
   "id": "ad68948b",
   "metadata": {},
   "outputs": [
    {
     "data": {
      "text/plain": [
       "[1, 2, 3, 4]"
      ]
     },
     "execution_count": 142,
     "metadata": {},
     "output_type": "execute_result"
    }
   ],
   "source": [
    "a"
   ]
  },
  {
   "cell_type": "code",
   "execution_count": 145,
   "id": "d11a5b41",
   "metadata": {},
   "outputs": [
    {
     "data": {
      "text/plain": [
       "[1, 2, 3, 4, 12]"
      ]
     },
     "execution_count": 145,
     "metadata": {},
     "output_type": "execute_result"
    }
   ],
   "source": [
    "a+[12]"
   ]
  },
  {
   "cell_type": "code",
   "execution_count": 146,
   "id": "eac76a80",
   "metadata": {},
   "outputs": [
    {
     "data": {
      "text/plain": [
       "0.19999999999999996"
      ]
     },
     "execution_count": 146,
     "metadata": {},
     "output_type": "execute_result"
    }
   ],
   "source": [
    "1.2%1\n"
   ]
  },
  {
   "cell_type": "code",
   "execution_count": 31,
   "id": "6a51d9bd",
   "metadata": {},
   "outputs": [
    {
     "data": {
      "text/plain": [
       "3"
      ]
     },
     "execution_count": 31,
     "metadata": {},
     "output_type": "execute_result"
    }
   ],
   "source": [
    "import math\n",
    "math.floor(3.7)"
   ]
  },
  {
   "cell_type": "code",
   "execution_count": 27,
   "id": "db933301",
   "metadata": {},
   "outputs": [
    {
     "name": "stdout",
     "output_type": "stream",
     "text": [
      "[['a', 'a', 'a'], ['b', 'a', 'a'], ['c', 'a', 'a'], ['a', 'b', 'a'], ['b', 'b', 'a'], ['c', 'b', 'a'], ['a', 'c', 'a'], ['b', 'c', 'a'], ['c', 'c', 'a'], ['a', 'a', 'b'], ['b', 'a', 'b'], ['c', 'a', 'b'], ['a', 'b', 'b'], ['b', 'b', 'b'], ['c', 'b', 'b'], ['a', 'c', 'b'], ['b', 'c', 'b'], ['c', 'c', 'b'], ['a', 'a', 'c'], ['b', 'a', 'c'], ['c', 'a', 'c'], ['a', 'b', 'c'], ['b', 'b', 'c'], ['c', 'b', 'c'], ['a', 'c', 'c'], ['b', 'c', 'c'], ['c', 'c', 'c']]\n"
     ]
    }
   ],
   "source": [
    "a=[]\n",
    "n=3\n",
    "A=[0]*n\n",
    "def strings(n,k):\n",
    "    if(n<1):\n",
    "        a.append(A.copy())\n",
    "    else:\n",
    "        for i in k:\n",
    "            A[n-1]=i\n",
    "            strings(n-1,k)\n",
    "k='abc'\n",
    "strings(n,k)\n",
    "print(a)"
   ]
  },
  {
   "cell_type": "code",
   "execution_count": 171,
   "id": "2ff44ccf",
   "metadata": {},
   "outputs": [],
   "source": [
    "def paths(m,n):\n",
    "    if(m==1 or n==1):\n",
    "        return 1\n",
    "    else:\n",
    "        return paths(m-1,n)+paths(m,n-1)"
   ]
  },
  {
   "cell_type": "code",
   "execution_count": 174,
   "id": "2f5aab4c",
   "metadata": {},
   "outputs": [
    {
     "data": {
      "text/plain": [
       "3"
      ]
     },
     "execution_count": 174,
     "metadata": {},
     "output_type": "execute_result"
    }
   ],
   "source": [
    "paths(2,3)"
   ]
  },
  {
   "cell_type": "code",
   "execution_count": 67,
   "id": "66d7ad02",
   "metadata": {},
   "outputs": [
    {
     "name": "stdout",
     "output_type": "stream",
     "text": [
      "35\n"
     ]
    }
   ],
   "source": [
    "def numberofPaths(p,q):\n",
    "    dp=[1 for i in range(q)]\n",
    "    for i in range(p-1):\n",
    "        for j in range(1,q):\n",
    "            dp[j]+=dp[j-1]\n",
    "#             print(dp)\n",
    "    return dp[q-1]\n",
    "print(numberofPaths(4,5))"
   ]
  },
  {
   "cell_type": "code",
   "execution_count": 77,
   "id": "7f8a0634",
   "metadata": {},
   "outputs": [
    {
     "name": "stdout",
     "output_type": "stream",
     "text": [
      "[[1, 1, 1], [1, 2, 3], [1, 3, 6], [1, 4, 10], [1, 5, 15]]\n"
     ]
    },
    {
     "data": {
      "text/plain": [
       "15"
      ]
     },
     "execution_count": 77,
     "metadata": {},
     "output_type": "execute_result"
    }
   ],
   "source": [
    "#without obstacle\n",
    "def np(m,n):\n",
    "    dp=[[1 if i==0 or j==0  else 0 for i in range(n)] for j in range(m)]\n",
    "    dp[0][0]=1\n",
    "    for i in range(1,m):\n",
    "        for j in range(1,n):\n",
    "            dp[i][j]=dp[i-1][j]+dp[i][j-1]\n",
    "    print(dp)\n",
    "    return dp[m-1][n-1]\n",
    "np(5,3)"
   ]
  },
  {
   "cell_type": "code",
   "execution_count": null,
   "id": "60932a22",
   "metadata": {},
   "outputs": [],
   "source": [
    "#with obstacles in path\n",
    "def np(mat):\n",
    "    "
   ]
  },
  {
   "cell_type": "code",
   "execution_count": 88,
   "id": "e126ecfb",
   "metadata": {},
   "outputs": [],
   "source": [
    "def bs(arr,target):\n",
    "    l,r=0,len(arr)\n",
    "    while(l<r): \n",
    "        if(m)\n",
    "bs([3,4,5,6],0,4,3)"
   ]
  },
  {
   "cell_type": "code",
   "execution_count": 81,
   "id": "82ed16eb",
   "metadata": {},
   "outputs": [
    {
     "data": {
      "text/plain": [
       "15"
      ]
     },
     "execution_count": 81,
     "metadata": {},
     "output_type": "execute_result"
    }
   ],
   "source": [
    "def np(m,n):\n",
    "    dp=[1 for i in range(n)]\n",
    "    for i in range(m-1):\n",
    "        for j in range(1,n):\n",
    "            dp[j]+=dp[j-1]\n",
    "    return dp[n-1]\n",
    "np(3,5)"
   ]
  },
  {
   "cell_type": "code",
   "execution_count": 194,
   "id": "679f7541",
   "metadata": {},
   "outputs": [
    {
     "name": "stdout",
     "output_type": "stream",
     "text": [
      "[2, 3]\n"
     ]
    }
   ],
   "source": [
    "def LCM(a,x):\n",
    "    i=0\n",
    "    j=len(a)-1\n",
    "    while(i<j):\n",
    "        lcm=a[i]*a[j]\n",
    "        if(lcm==x):\n",
    "            return [a[i],a[j]]\n",
    "        elif(lcm>x):\n",
    "            j-=1\n",
    "        else:\n",
    "            i+=1\n",
    "    return -1\n",
    "a=[1,2,3,4,5]\n",
    "print(LCM(a,6))    "
   ]
  },
  {
   "cell_type": "code",
   "execution_count": 21,
   "id": "a120be79",
   "metadata": {},
   "outputs": [
    {
     "name": "stdout",
     "output_type": "stream",
     "text": [
      "3782\n"
     ]
    }
   ],
   "source": [
    "def LCM(a,b):\n",
    "    mx=max(a,b)\n",
    "    mx1=mx\n",
    "    while(1):\n",
    "        if(mx%a==0 and mx%b==0):\n",
    "            print(mx)\n",
    "            break\n",
    "        mx+=mx1\n",
    "LCM(31,122)"
   ]
  },
  {
   "cell_type": "code",
   "execution_count": 18,
   "id": "17cfc71b",
   "metadata": {},
   "outputs": [
    {
     "name": "stdout",
     "output_type": "stream",
     "text": [
      "40\n"
     ]
    }
   ],
   "source": [
    "LCM(8,10)"
   ]
  },
  {
   "cell_type": "code",
   "execution_count": 214,
   "id": "2e881f1d",
   "metadata": {},
   "outputs": [
    {
     "data": {
      "text/plain": [
       "55"
      ]
     },
     "execution_count": 214,
     "metadata": {},
     "output_type": "execute_result"
    }
   ],
   "source": [
    "def fib(n):\n",
    "    f=[0]*(n+1)\n",
    "    \n",
    "    f[1]=1\n",
    "    for i in range(2,n+1):\n",
    "        f[i]=f[i-1]+f[i-2]\n",
    "    return f[n]\n",
    "fib(10)"
   ]
  },
  {
   "cell_type": "code",
   "execution_count": 228,
   "id": "f6423c8e",
   "metadata": {},
   "outputs": [
    {
     "data": {
      "text/plain": [
       "55"
      ]
     },
     "execution_count": 228,
     "metadata": {},
     "output_type": "execute_result"
    }
   ],
   "source": [
    "f=[-1]*11\n",
    "def fib(n,i):\n",
    "    f[0]=0\n",
    "    f[1]=1\n",
    "    if(f[n]!=-1):\n",
    "        return f[n]\n",
    "    f[i]=f[i-1]+f[i-2]\n",
    "    fib(n,i+1)\n",
    "    return f[n]\n",
    "fib(10,2)"
   ]
  },
  {
   "cell_type": "code",
   "execution_count": 236,
   "id": "1da0fd0b",
   "metadata": {},
   "outputs": [
    {
     "data": {
      "text/plain": [
       "4"
      ]
     },
     "execution_count": 236,
     "metadata": {},
     "output_type": "execute_result"
    }
   ],
   "source": [
    "def lcs(a,b,m,n):\n",
    "    if(m==0 or n==0):\n",
    "        return 0\n",
    "    elif(a[m-1]==b[n-1]):\n",
    "        return 1+lcs(a,b,m-1,n-1)\n",
    "    else:\n",
    "        return max(lcs(a,b,m-1,n),lcs(a,b,m,n-1))\n",
    "a=\"AGGTAB\"\n",
    "b = \"GXTXAYB\"\n",
    "lcs(a,b,len(a),len(b))"
   ]
  },
  {
   "cell_type": "code",
   "execution_count": 10,
   "id": "8260ec8f",
   "metadata": {},
   "outputs": [],
   "source": [
    "a=[1,2,3]"
   ]
  },
  {
   "cell_type": "code",
   "execution_count": 14,
   "id": "dd9af530",
   "metadata": {},
   "outputs": [],
   "source": [
    "a=a+[4,5,8]"
   ]
  },
  {
   "cell_type": "code",
   "execution_count": 15,
   "id": "a22d3be6",
   "metadata": {},
   "outputs": [
    {
     "data": {
      "text/plain": [
       "[1, 2, 3, 4, 5, 8, 4]"
      ]
     },
     "execution_count": 15,
     "metadata": {},
     "output_type": "execute_result"
    }
   ],
   "source": [
    "a+[4]"
   ]
  },
  {
   "cell_type": "code",
   "execution_count": 22,
   "id": "cfce979d",
   "metadata": {},
   "outputs": [],
   "source": [
    "a=[x+x for x in range(3)]"
   ]
  },
  {
   "cell_type": "code",
   "execution_count": 23,
   "id": "072c2738",
   "metadata": {},
   "outputs": [
    {
     "data": {
      "text/plain": [
       "[0, 2, 4]"
      ]
     },
     "execution_count": 23,
     "metadata": {},
     "output_type": "execute_result"
    }
   ],
   "source": [
    "a"
   ]
  },
  {
   "cell_type": "code",
   "execution_count": 16,
   "id": "b024de39",
   "metadata": {},
   "outputs": [],
   "source": [
    "a=[x for x in range(3)]\n",
    "b=[chr(x) for x in range(97,100)]"
   ]
  },
  {
   "cell_type": "code",
   "execution_count": 28,
   "id": "af492f7f",
   "metadata": {},
   "outputs": [
    {
     "data": {
      "text/plain": [
       "[[0, 'a'],\n",
       " [0, 'b'],\n",
       " [0, 'c'],\n",
       " [1, 'a'],\n",
       " [1, 'b'],\n",
       " [1, 'c'],\n",
       " [2, 'a'],\n",
       " [2, 'b'],\n",
       " [2, 'c']]"
      ]
     },
     "execution_count": 28,
     "metadata": {},
     "output_type": "execute_result"
    }
   ],
   "source": [
    "c=[[x,y] for  x in a for y in b]\n",
    "c"
   ]
  },
  {
   "cell_type": "code",
   "execution_count": 30,
   "id": "b90c503f",
   "metadata": {},
   "outputs": [],
   "source": [
    "mat=[[1,2,3],[4,5,6]]\n",
    "mat=[[x*x for x in row] for row in mat] "
   ]
  },
  {
   "cell_type": "code",
   "execution_count": 31,
   "id": "78e8e215",
   "metadata": {},
   "outputs": [
    {
     "data": {
      "text/plain": [
       "[[1, 4, 9], [16, 25, 36]]"
      ]
     },
     "execution_count": 31,
     "metadata": {},
     "output_type": "execute_result"
    }
   ],
   "source": [
    "mat"
   ]
  },
  {
   "cell_type": "code",
   "execution_count": 268,
   "id": "066f7cf7",
   "metadata": {},
   "outputs": [
    {
     "data": {
      "text/plain": [
       "[1, 1, 0, 1, 2, 2, 4, 5, 6, 30, 12, 7]"
      ]
     },
     "execution_count": 268,
     "metadata": {},
     "output_type": "execute_result"
    }
   ],
   "source": [
    "def dutchFlag(a,p):\n",
    "    less,equal,more=[],[],[]\n",
    "    for i in a:\n",
    "        if(a[p]==i):\n",
    "            equal.append(i)\n",
    "        elif(a[p]>i):\n",
    "            less.append(i)\n",
    "        else:\n",
    "            more.append(i)\n",
    "    return less+equal+more\n",
    "a=[4,5,6,2,2,1,30,1,12,7,0,1]\n",
    "a=dutchFlag(a,3)\n",
    "a"
   ]
  },
  {
   "cell_type": "code",
   "execution_count": 45,
   "id": "7a3b55d6",
   "metadata": {},
   "outputs": [
    {
     "data": {
      "text/plain": [
       "[0, 1, 1, 1, 2, 2, 4, 5, 6, 7, 12, 30]"
      ]
     },
     "execution_count": 45,
     "metadata": {},
     "output_type": "execute_result"
    }
   ],
   "source": [
    "a=dutchFlag(a,9)\n",
    "a"
   ]
  },
  {
   "cell_type": "code",
   "execution_count": 274,
   "id": "2f9c696a",
   "metadata": {},
   "outputs": [
    {
     "data": {
      "text/plain": [
       "11"
      ]
     },
     "execution_count": 274,
     "metadata": {},
     "output_type": "execute_result"
    }
   ],
   "source": [
    "def count_bits(x):\n",
    "    cnt=0\n",
    "    while(x):\n",
    "        x>>=1\n",
    "        cnt+=1\n",
    "    return cnt\n",
    "count_bits(1225)"
   ]
  },
  {
   "cell_type": "code",
   "execution_count": 17,
   "id": "065dbc06",
   "metadata": {},
   "outputs": [
    {
     "name": "stdout",
     "output_type": "stream",
     "text": [
      "sys.int_info(bits_per_digit=30, sizeof_digit=4)\n",
      "\n",
      "FLoat info: sys.float_info(max=1.7976931348623157e+308, max_exp=1024, max_10_exp=308, min=2.2250738585072014e-308, min_exp=-1021, min_10_exp=-307, dig=15, mant_dig=53, epsilon=2.220446049250313e-16, radix=2, rounds=1)\n"
     ]
    }
   ],
   "source": [
    "import sys\n",
    "print(sys.int_info)\n",
    "print(\"\\nFLoat info:\",sys.float_info)"
   ]
  },
  {
   "cell_type": "code",
   "execution_count": 25,
   "id": "7848a7b5",
   "metadata": {},
   "outputs": [
    {
     "data": {
      "text/plain": [
       "0"
      ]
     },
     "execution_count": 25,
     "metadata": {},
     "output_type": "execute_result"
    }
   ],
   "source": [
    "def parity(x):\n",
    "    cnt=0\n",
    "    while(x):\n",
    "        cnt^=x&1\n",
    "        x>>=1\n",
    "    return cnt\n",
    "parity(110011)"
   ]
  },
  {
   "cell_type": "code",
   "execution_count": 39,
   "id": "d39578d7",
   "metadata": {},
   "outputs": [
    {
     "name": "stdout",
     "output_type": "stream",
     "text": [
      "12391\n"
     ]
    },
    {
     "data": {
      "text/plain": [
       "[1, 2, 3, 9, 2]"
      ]
     },
     "execution_count": 39,
     "metadata": {},
     "output_type": "execute_result"
    }
   ],
   "source": [
    "def arrPlusOne(a):\n",
    "    num=0\n",
    "    for i in a:\n",
    "        num=num*10+i\n",
    "    print(num)\n",
    "    num=num+1\n",
    "    ans=[]\n",
    "    while(num):\n",
    "        ans.append(num%10)\n",
    "        num=num//10\n",
    "    return ans[::-1]\n",
    "\n",
    "arrPlusOne([1,2,3,9,1])"
   ]
  },
  {
   "cell_type": "code",
   "execution_count": 42,
   "id": "ce2eae15",
   "metadata": {},
   "outputs": [
    {
     "data": {
      "text/plain": [
       "[1, 7, 9, 0]"
      ]
     },
     "execution_count": 42,
     "metadata": {},
     "output_type": "execute_result"
    }
   ],
   "source": [
    "def plusOne(a):\n",
    "    a[-1]+=1\n",
    "    for i in reversed(range(1,len(a))):\n",
    "        if(a[i]!=10):\n",
    "            break\n",
    "        a[i]=0\n",
    "        a[i-1]+=1\n",
    "    if(a[i]==0):\n",
    "        a[i]=1\n",
    "        a.append(0)\n",
    "    return a\n",
    "plusOne([1,7,8,9])"
   ]
  },
  {
   "cell_type": "code",
   "execution_count": 276,
   "id": "5ff0721a",
   "metadata": {},
   "outputs": [
    {
     "name": "stdout",
     "output_type": "stream",
     "text": [
      "111 1\n"
     ]
    },
    {
     "data": {
      "text/plain": [
       "[1, 0, '1', '1']"
      ]
     },
     "execution_count": 276,
     "metadata": {},
     "output_type": "execute_result"
    }
   ],
   "source": [
    "def bitsAdd(b1,b2):\n",
    "    if(len(b1)<len(b2)):\n",
    "        b1,b2=b2,b1\n",
    "    print(b1,b2)\n",
    "    i=-1\n",
    "    c=0\n",
    "    ans=[]\n",
    "    for _ in range(len(b2)):\n",
    "        a=int(b2[i])+int(b1[i])+c\n",
    "        if(a==2):\n",
    "            c,a=1,0\n",
    "        if(a==3):\n",
    "            c,a=1,1\n",
    "        ans.append(a)\n",
    "        i-=1\n",
    "    if(c==1):\n",
    "        ans.append(c)\n",
    "    ans=list(b1[:len(b1)-len(b2)])+ans\n",
    "    return (ans[::-1])\n",
    "bitsAdd('111','1')\n",
    "        "
   ]
  },
  {
   "cell_type": "code",
   "execution_count": 72,
   "id": "0ae775f1",
   "metadata": {},
   "outputs": [
    {
     "ename": "TypeError",
     "evalue": "unsupported operand type(s) for <<: 'str' and 'int'",
     "output_type": "error",
     "traceback": [
      "\u001b[1;31m---------------------------------------------------------------------------\u001b[0m",
      "\u001b[1;31mTypeError\u001b[0m                                 Traceback (most recent call last)",
      "\u001b[1;32m<ipython-input-72-8f1a46999e7a>\u001b[0m in \u001b[0;36m<module>\u001b[1;34m\u001b[0m\n\u001b[0;32m      2\u001b[0m     \u001b[0mres\u001b[0m \u001b[1;33m=\u001b[0m \u001b[1;33m(\u001b[0m\u001b[0mb1\u001b[0m\u001b[1;33m<<\u001b[0m\u001b[1;36m4\u001b[0m\u001b[1;33m)\u001b[0m \u001b[1;33m|\u001b[0m \u001b[1;33m(\u001b[0m\u001b[0mb2\u001b[0m\u001b[1;33m>>\u001b[0m\u001b[1;36m4\u001b[0m\u001b[1;33m)\u001b[0m\u001b[1;33m\u001b[0m\u001b[1;33m\u001b[0m\u001b[0m\n\u001b[0;32m      3\u001b[0m     \u001b[1;32mreturn\u001b[0m \u001b[0mres\u001b[0m\u001b[1;33m\u001b[0m\u001b[1;33m\u001b[0m\u001b[0m\n\u001b[1;32m----> 4\u001b[1;33m \u001b[0mbitsAdd\u001b[0m\u001b[1;33m(\u001b[0m\u001b[1;34m'110'\u001b[0m\u001b[1;33m,\u001b[0m\u001b[1;34m'110'\u001b[0m\u001b[1;33m)\u001b[0m\u001b[1;33m\u001b[0m\u001b[1;33m\u001b[0m\u001b[0m\n\u001b[0m",
      "\u001b[1;32m<ipython-input-72-8f1a46999e7a>\u001b[0m in \u001b[0;36mbitsAdd\u001b[1;34m(b1, b2)\u001b[0m\n\u001b[0;32m      1\u001b[0m \u001b[1;32mdef\u001b[0m \u001b[0mbitsAdd\u001b[0m\u001b[1;33m(\u001b[0m\u001b[0mb1\u001b[0m\u001b[1;33m,\u001b[0m\u001b[0mb2\u001b[0m\u001b[1;33m)\u001b[0m\u001b[1;33m:\u001b[0m\u001b[1;33m\u001b[0m\u001b[1;33m\u001b[0m\u001b[0m\n\u001b[1;32m----> 2\u001b[1;33m     \u001b[0mres\u001b[0m \u001b[1;33m=\u001b[0m \u001b[1;33m(\u001b[0m\u001b[0mb1\u001b[0m\u001b[1;33m<<\u001b[0m\u001b[1;36m4\u001b[0m\u001b[1;33m)\u001b[0m \u001b[1;33m|\u001b[0m \u001b[1;33m(\u001b[0m\u001b[0mb2\u001b[0m\u001b[1;33m>>\u001b[0m\u001b[1;36m4\u001b[0m\u001b[1;33m)\u001b[0m\u001b[1;33m\u001b[0m\u001b[1;33m\u001b[0m\u001b[0m\n\u001b[0m\u001b[0;32m      3\u001b[0m     \u001b[1;32mreturn\u001b[0m \u001b[0mres\u001b[0m\u001b[1;33m\u001b[0m\u001b[1;33m\u001b[0m\u001b[0m\n\u001b[0;32m      4\u001b[0m \u001b[0mbitsAdd\u001b[0m\u001b[1;33m(\u001b[0m\u001b[1;34m'110'\u001b[0m\u001b[1;33m,\u001b[0m\u001b[1;34m'110'\u001b[0m\u001b[1;33m)\u001b[0m\u001b[1;33m\u001b[0m\u001b[1;33m\u001b[0m\u001b[0m\n",
      "\u001b[1;31mTypeError\u001b[0m: unsupported operand type(s) for <<: 'str' and 'int'"
     ]
    }
   ],
   "source": []
  },
  {
   "cell_type": "code",
   "execution_count": 77,
   "id": "c35fcf9a",
   "metadata": {},
   "outputs": [
    {
     "data": {
      "text/plain": [
       "6"
      ]
     },
     "execution_count": 77,
     "metadata": {},
     "output_type": "execute_result"
    }
   ],
   "source": [
    "def remDup(a):\n",
    "    return len(list(set(a)))\n",
    "remDup([2,3,5,5,7,11,11,11,13])"
   ]
  },
  {
   "cell_type": "code",
   "execution_count": 81,
   "id": "e8afb5ba",
   "metadata": {},
   "outputs": [
    {
     "data": {
      "text/plain": [
       "(6, [2, 3, 5, 7, 11, 13, 7, 11, 11, 11, 13])"
      ]
     },
     "execution_count": 81,
     "metadata": {},
     "output_type": "execute_result"
    }
   ],
   "source": [
    "def remDup(a):\n",
    "    if not a:\n",
    "        return 0\n",
    "    ind=1\n",
    "    for i in range(1,len(a)):\n",
    "        if a[ind-1]!=a[i]:\n",
    "            a[ind]=a[i]\n",
    "            ind+=1\n",
    "    return ind,a      "
   ]
  },
  {
   "cell_type": "code",
   "execution_count": 92,
   "id": "4628b8d0",
   "metadata": {},
   "outputs": [
    {
     "data": {
      "text/plain": [
       "10"
      ]
     },
     "execution_count": 92,
     "metadata": {},
     "output_type": "execute_result"
    }
   ],
   "source": [
    "def validEntry(a):\n",
    "    if not a:\n",
    "        return 0\n",
    "    i=0\n",
    "    cnt=1\n",
    "    while(i<len(a)-1):\n",
    "        if(a[i]==a[i+1]):\n",
    "            pass\n",
    "        else:\n",
    "            cnt+=1\n",
    "        i+=1\n",
    "    return cnt\n",
    "validEntry([0,1,1,1,1,1,2,3,4,5,5,7,11,11,11,11,13,14,14,14,14])"
   ]
  },
  {
   "cell_type": "code",
   "execution_count": 101,
   "id": "6b1bff8e",
   "metadata": {},
   "outputs": [
    {
     "data": {
      "text/plain": [
       "45"
      ]
     },
     "execution_count": 101,
     "metadata": {},
     "output_type": "execute_result"
    }
   ],
   "source": [
    "def buyStock(prices):\n",
    "    min_price_so_far,max_profit=float('inf'),0.0\n",
    "    for price in prices:\n",
    "        max_profit_sell_today=price-min_price_so_far\n",
    "        max_profit=max(max_profit,max_profit_sell_today)\n",
    "        min_price_so_far=min(min_price_so_far,price)\n",
    "    return max_profit\n",
    "buyStock([250,275,275,295,260,270,290,230,255,250])"
   ]
  },
  {
   "cell_type": "code",
   "execution_count": 38,
   "id": "2cb69555",
   "metadata": {},
   "outputs": [
    {
     "data": {
      "text/plain": [
       "45"
      ]
     },
     "execution_count": 38,
     "metadata": {},
     "output_type": "execute_result"
    }
   ],
   "source": [
    "def buyStock(prices):\n",
    "    mx=float('-inf')\n",
    "    for i in range(len(prices)):\n",
    "        for j in range(i+1,len(prices)):\n",
    "            profit=prices[j]-prices[i]\n",
    "            if(mx<profit):\n",
    "                mx=profit\n",
    "    return mx\n",
    "buyStock([250,275,275,295,260,270,290,230,255,250])\n",
    "# buyStock([290,275,275,295,321,260,270,300,230,235,250])"
   ]
  },
  {
   "cell_type": "code",
   "execution_count": 115,
   "id": "6c14b9ba",
   "metadata": {},
   "outputs": [
    {
     "name": "stdout",
     "output_type": "stream",
     "text": [
      "-inf 290\n",
      "-15 275\n",
      "0 275\n",
      "20 275\n",
      "46 275\n",
      "-15 260\n",
      "10 260\n",
      "40 260\n",
      "-30 230\n",
      "5 230\n",
      "20 230\n"
     ]
    }
   ],
   "source": [
    "def buyStock(prices):\n",
    "    min_far,mx_profit=float('inf'),0\n",
    "    for i in prices:\n",
    "        mx_today=i-min_far\n",
    "        mx_profit=max(mx_profit,mx_today)\n",
    "        min_far=min(min_far,i)\n",
    "        print(mx_today,min_far)\n",
    "buyStock([290,275,275,295,321,260,270,300,230,235,250])"
   ]
  },
  {
   "cell_type": "code",
   "execution_count": 118,
   "id": "d21b0a28",
   "metadata": {},
   "outputs": [
    {
     "data": {
      "text/plain": [
       "5"
      ]
     },
     "execution_count": 118,
     "metadata": {},
     "output_type": "execute_result"
    }
   ],
   "source": [
    "def buyndSell(a):\n",
    "    mn,m_prof=float('inf'),0.0\n",
    "    for i in a:\n",
    "        m_today=i-mn\n",
    "        m_prof=max(m_prof,m_today)\n",
    "        mn=min(mn,i)\n",
    "    return m_prof\n",
    "buyndSell([2,4,2,5,1,6,3])"
   ]
  },
  {
   "cell_type": "code",
   "execution_count": 122,
   "id": "715f7cdb",
   "metadata": {},
   "outputs": [
    {
     "name": "stdout",
     "output_type": "stream",
     "text": [
      "[0]\n",
      "[0, 1]\n",
      "[0, 1, 2]\n",
      "[0, 1, 2, 3]\n",
      "[0, 1, 2]\n",
      "[0, 1]\n",
      "[0]\n"
     ]
    },
    {
     "data": {
      "text/plain": [
       "6"
      ]
     },
     "execution_count": 122,
     "metadata": {},
     "output_type": "execute_result"
    }
   ],
   "source": [
    "def longestValidParentheses(s):\n",
    "        stack = [-1]\n",
    "        cur_len = 0\n",
    "        max_len = 0\n",
    "        for i in range(len(s)):\n",
    "            if s[i] == '(':\n",
    "                stack.append(i)\n",
    "            else: \n",
    "                stack.pop()\n",
    "                if stack == []:\n",
    "                    stack.append(i)\n",
    "                else:\n",
    "                    cur_len = i - stack[-1]\n",
    "                    max_len = max(max_len,cur_len)\n",
    "            print(stack)\n",
    "        return max_len\n",
    "longestValidParentheses(')((()))')   "
   ]
  },
  {
   "cell_type": "code",
   "execution_count": 144,
   "id": "5da3b679",
   "metadata": {},
   "outputs": [],
   "source": [
    "def srch(root,data):\n",
    "    return (root \n",
    "           if not root or root.data==data else srch(root.left,data)\n",
    "           if root.data>data else srch(root.right,data))\n"
   ]
  },
  {
   "cell_type": "code",
   "execution_count": 145,
   "id": "c35af8c8",
   "metadata": {},
   "outputs": [
    {
     "name": "stdout",
     "output_type": "stream",
     "text": [
      "No\n"
     ]
    }
   ],
   "source": [
    "if(srch(root,4)):\n",
    "    print('yes')\n",
    "else:\n",
    "    print('No')"
   ]
  },
  {
   "cell_type": "code",
   "execution_count": 148,
   "id": "fa21f751",
   "metadata": {},
   "outputs": [
    {
     "data": {
      "text/plain": [
       "1"
      ]
     },
     "execution_count": 148,
     "metadata": {},
     "output_type": "execute_result"
    }
   ],
   "source": [
    "def isBST(root,lr=float('-inf'),hr=float('inf')):\n",
    "    if not root:\n",
    "        return 1\n",
    "    elif not lr<=root.data<=hr:\n",
    "        return 0\n",
    "    return isBST(root.left,lr,root.data) and isBST(root.right,root.data,hr)\n",
    "isBST(root)"
   ]
  },
  {
   "cell_type": "code",
   "execution_count": null,
   "id": "392cdf73",
   "metadata": {},
   "outputs": [],
   "source": [
    "def i_gt(root,5):\n",
    "    sub,first=root,None\n",
    "    while sub:\n",
    "        if(sub.data<k):\n",
    "            sub"
   ]
  },
  {
   "cell_type": "code",
   "execution_count": 151,
   "id": "e7cf4cdc",
   "metadata": {},
   "outputs": [
    {
     "data": {
      "text/plain": [
       "1"
      ]
     },
     "execution_count": 151,
     "metadata": {},
     "output_type": "execute_result"
    }
   ],
   "source": [
    "bin(2).count('1')"
   ]
  },
  {
   "cell_type": "code",
   "execution_count": 12,
   "id": "741268e4",
   "metadata": {},
   "outputs": [
    {
     "data": {
      "text/plain": [
       "[[1, 3, 5, 0, 2, 4],\n",
       " [2, 5, 1, 4, 0, 3],\n",
       " [3, 0, 4, 1, 5, 2],\n",
       " [4, 2, 0, 5, 3, 1]]"
      ]
     },
     "execution_count": 12,
     "metadata": {},
     "output_type": "execute_result"
    }
   ],
   "source": [
    "def n_queens(n):\n",
    "    def solve_n_queens(row):\n",
    "        if(row==n):\n",
    "            res.append(list(c_placement))\n",
    "            return \n",
    "        for col in range(n):\n",
    "            if all(abs(c-col) not in (0,row-i) for i,c in enumerate(c_placement[:row])):\n",
    "                c_placement[row]=col\n",
    "                solve_n_queens(row+1)\n",
    "    res,c_placement=[],[0]*n\n",
    "    solve_n_queens(0)\n",
    "    return res\n",
    "n_queens(6)"
   ]
  },
  {
   "cell_type": "code",
   "execution_count": 3,
   "id": "d145a454",
   "metadata": {},
   "outputs": [
    {
     "data": {
      "text/plain": [
       "[[1, 2, 3], [1, 3, 2], [2, 1, 3], [2, 3, 1], [3, 1, 2], [3, 2, 1]]"
      ]
     },
     "execution_count": 3,
     "metadata": {},
     "output_type": "execute_result"
    }
   ],
   "source": [
    "def genPerm(nums):\n",
    "    res=[]\n",
    "    dfs(nums,[],res)\n",
    "    return res\n",
    "def dfs(nums,path,res):\n",
    "    if not nums:\n",
    "        res.append(path)\n",
    "    for i in range(len(nums)):\n",
    "        dfs(nums[:i]+nums[i+1:],path+[nums[i]],res)\n",
    "genPerm([1,2,3])"
   ]
  },
  {
   "cell_type": "code",
   "execution_count": 5,
   "id": "80af9175",
   "metadata": {},
   "outputs": [
    {
     "name": "stdout",
     "output_type": "stream",
     "text": [
      "[1, 2, 3]\n",
      "[1, 2, 3]\n",
      "[1, 3, 2]\n",
      "[2, 1, 3]\n",
      "[2, 1, 3]\n",
      "[2, 3, 1]\n",
      "[3, 2, 1]\n",
      "[3, 2, 1]\n",
      "[3, 1, 2]\n"
     ]
    },
    {
     "data": {
      "text/plain": [
       "[[1, 2, 3], [1, 3, 2], [2, 1, 3], [2, 3, 1], [3, 2, 1], [3, 1, 2]]"
      ]
     },
     "execution_count": 5,
     "metadata": {},
     "output_type": "execute_result"
    }
   ],
   "source": [
    "def perm(nums):\n",
    "    def dir_per(i):\n",
    "        if(i==len(nums)-1):\n",
    "            res.append(nums.copy())\n",
    "            return \n",
    "        for j in range(i,len(nums)):\n",
    "            nums[i],nums[j]=nums[j],nums[i]\n",
    "            dir_per(i+1)\n",
    "            nums[i],nums[j]=nums[j],nums[i]\n",
    "    res=[]\n",
    "    dir_per(0)\n",
    "    return res\n",
    "perm([1,2,3])"
   ]
  },
  {
   "cell_type": "code",
   "execution_count": 13,
   "id": "36fb00c2",
   "metadata": {},
   "outputs": [
    {
     "data": {
      "text/plain": [
       "[[1, 2, 3], [2, 3, 4], [3, 4, 5]]"
      ]
     },
     "execution_count": 13,
     "metadata": {},
     "output_type": "execute_result"
    }
   ],
   "source": [
    "cnt=1\n",
    "mat=[[i+cnt+j for i in range(3)] for j in range(3)]\n",
    "mat"
   ]
  },
  {
   "cell_type": "code",
   "execution_count": 64,
   "id": "3933fbd8",
   "metadata": {},
   "outputs": [
    {
     "name": "stdout",
     "output_type": "stream",
     "text": [
      "1\n",
      "3\n",
      "4\n",
      "5\n",
      "7\n",
      "9\n",
      "Reversed\n"
     ]
    }
   ],
   "source": [
    "class Node:\n",
    "    def __init__(self,data=None):\n",
    "        self.data=data\n",
    "        self.next=None\n",
    "def insert(root,data):\n",
    "    if(root.next==None):\n",
    "        root.next=Node(data)\n",
    "    else:\n",
    "        insert(root.next,data)\n",
    "#     tmp=Node(data)\n",
    "#     if(root==None):\n",
    "#         root=tmp\n",
    "#     else:\n",
    "#         p=root\n",
    "#         while(p.next!=None):\n",
    "#             p=p.next\n",
    "#         p.next=tmp\n",
    "def disp(root):\n",
    "    while(root):\n",
    "        print(root.data)\n",
    "        root=root.next\n",
    "def dispRev(root):\n",
    "    if root:\n",
    "        dispRev(root.next)\n",
    "        print(root.data)\n",
    "def merge(l1,l2):\n",
    "    l=t=Node()\n",
    "    while l1 and l2:\n",
    "        if(l1.data<l2.data):\n",
    "            t.next=l1\n",
    "            l1=l1.next\n",
    "        else:\n",
    "            t.next=l2\n",
    "            l2=l2.next\n",
    "        t=t.next\n",
    "    t.next=l1 or l2\n",
    "    return l.next\n",
    "\n",
    "root=Node(4)\n",
    "insert(root,7)\n",
    "insert(root,9)\n",
    "l=Node(1)\n",
    "insert(l,3)\n",
    "insert(l,5)\n",
    "a=merge(root,l)\n",
    "disp(a)\n",
    "# disp(root)\n",
    "print(\"Reversed\")\n",
    "# dispRev(root)"
   ]
  },
  {
   "cell_type": "code",
   "execution_count": 6,
   "id": "869d42b7",
   "metadata": {},
   "outputs": [],
   "source": [
    "n=1"
   ]
  },
  {
   "cell_type": "code",
   "execution_count": 22,
   "id": "65b6b53a",
   "metadata": {},
   "outputs": [
    {
     "name": "stdout",
     "output_type": "stream",
     "text": [
      "1 2 3\n"
     ]
    }
   ],
   "source": [
    "a=input().strip()"
   ]
  },
  {
   "cell_type": "code",
   "execution_count": 24,
   "id": "52435645",
   "metadata": {},
   "outputs": [
    {
     "data": {
      "text/plain": [
       "'2'"
      ]
     },
     "execution_count": 24,
     "metadata": {},
     "output_type": "execute_result"
    }
   ],
   "source": [
    "a[2]"
   ]
  },
  {
   "cell_type": "code",
   "execution_count": 78,
   "id": "f122dadf",
   "metadata": {},
   "outputs": [
    {
     "data": {
      "text/plain": [
       "320"
      ]
     },
     "execution_count": 78,
     "metadata": {},
     "output_type": "execute_result"
    }
   ],
   "source": [
    "def ks(W,v,w,n):\n",
    "    if(n==0 or W==0):\n",
    "        return 0\n",
    "    if(w[n-1]>W):\n",
    "        return ks(W,v,w,n-1)\n",
    "    else:\n",
    "        return max(v[n-1] + ks(W-w[n-1],v,w,n-1),ks(W,v,w,n-1))\n",
    "ks(35,[30, 200, 120,100],[10,15,20,30],3)"
   ]
  },
  {
   "cell_type": "code",
   "execution_count": 3,
   "id": "af74b630",
   "metadata": {},
   "outputs": [
    {
     "data": {
      "text/plain": [
       "[[1, 2, 3, 4],\n",
       " [1, 2, 4, 3],\n",
       " [1, 3, 2, 4],\n",
       " [1, 3, 4, 2],\n",
       " [1, 4, 2, 3],\n",
       " [1, 4, 3, 2],\n",
       " [2, 1, 3, 4],\n",
       " [2, 1, 4, 3],\n",
       " [2, 3, 1, 4],\n",
       " [2, 3, 4, 1],\n",
       " [2, 4, 1, 3],\n",
       " [2, 4, 3, 1],\n",
       " [3, 1, 2, 4],\n",
       " [3, 1, 4, 2],\n",
       " [3, 2, 1, 4],\n",
       " [3, 2, 4, 1],\n",
       " [3, 4, 1, 2],\n",
       " [3, 4, 2, 1],\n",
       " [4, 1, 2, 3],\n",
       " [4, 1, 3, 2],\n",
       " [4, 2, 1, 3],\n",
       " [4, 2, 3, 1],\n",
       " [4, 3, 1, 2],\n",
       " [4, 3, 2, 1]]"
      ]
     },
     "execution_count": 3,
     "metadata": {},
     "output_type": "execute_result"
    }
   ],
   "source": [
    "def perm(nums):\n",
    "    res=[]\n",
    "    dfs(nums,[],res)\n",
    "    return res\n",
    "def dfs(nums,path,res):\n",
    "    if not nums:\n",
    "        res.append(path)\n",
    "    for i in range(len(nums)):\n",
    "        dfs(nums[:i]+nums[i+1:],path+[nums[i]],res)\n",
    "perm([1,2,3,4])"
   ]
  },
  {
   "cell_type": "code",
   "execution_count": 5,
   "id": "125e7c65",
   "metadata": {},
   "outputs": [
    {
     "data": {
      "text/plain": [
       "[[1, 2, 3], [1, 3, 2], [2, 1, 3], [2, 3, 1], [3, 1, 2], [3, 2, 1]]"
      ]
     },
     "execution_count": 5,
     "metadata": {},
     "output_type": "execute_result"
    }
   ],
   "source": [
    "def perm(nums):\n",
    "    res=[]\n",
    "    dfs(nums,[],res)\n",
    "    return res\n",
    "def dfs(nums,path,res):\n",
    "    if not nums:\n",
    "        res.append(path)\n",
    "    for i in range(len(nums)):\n",
    "        dfs(nums[:i]+nums[i+1:],path+[nums[i]],res)\n",
    "perm([1,2,3])"
   ]
  },
  {
   "cell_type": "code",
   "execution_count": 258,
   "id": "19625171",
   "metadata": {},
   "outputs": [
    {
     "data": {
      "text/plain": [
       "11"
      ]
     },
     "execution_count": 258,
     "metadata": {},
     "output_type": "execute_result"
    }
   ],
   "source": [
    "def ks(W,v,w,n):\n",
    "    if(n==0 or W==0):\n",
    "        return 0\n",
    "    if(w[n-1]>W):\n",
    "        return ks(W,v,w,n-1)\n",
    "    else:\n",
    "        return max(v[n-1]+ks(W-w[n-1],v,w,n-1),ks(W,v,w,n-1))\n",
    "ks(5,[5,4,6],[1,2,3],3)"
   ]
  },
  {
   "cell_type": "code",
   "execution_count": 256,
   "id": "d00a72d5",
   "metadata": {},
   "outputs": [
    {
     "data": {
      "text/plain": [
       "11"
      ]
     },
     "execution_count": 256,
     "metadata": {},
     "output_type": "execute_result"
    }
   ],
   "source": [
    "def ks(W,v,w,n):\n",
    "    if(n==0 or W==0):\n",
    "        return 0\n",
    "    if(w[n-1]>W):\n",
    "        return ks(W,v,w,n-1)\n",
    "    else:\n",
    "        return max(v[n-1]+ks(W-w[n-1],v,w,n-1),ks(W,v,w,n-1))\n",
    "ks(5,[5,4,6],[1,2,3],3)"
   ]
  },
  {
   "cell_type": "code",
   "execution_count": 11,
   "id": "7b0b7891",
   "metadata": {},
   "outputs": [
    {
     "name": "stdout",
     "output_type": "stream",
     "text": [
      "[[1, 1, 1, 1], [1, 1, 1, 1]]\n",
      "[[8, 14, 24, 39], [3, 6, 10, 15]]\n"
     ]
    },
    {
     "data": {
      "text/plain": [
       "39"
      ]
     },
     "execution_count": 11,
     "metadata": {},
     "output_type": "execute_result"
    }
   ],
   "source": [
    "def uniqueWays(m,n):\n",
    "    dp=[[1 for _ in range(n)] for _ in range(2)]\n",
    "    print(dp)\n",
    "    for i in range(m):\n",
    "        for j in range(n):\n",
    "            dp[i%2][j]=dp[(i-1)%2][j]+dp[i%2][j-1]\n",
    "    print(dp)\n",
    "    return dp[(m-1)%2][n-1]\n",
    "uniqueWays(3,4)"
   ]
  },
  {
   "cell_type": "code",
   "execution_count": 13,
   "id": "8888c11e",
   "metadata": {},
   "outputs": [
    {
     "data": {
      "text/plain": [
       "6"
      ]
     },
     "execution_count": 13,
     "metadata": {},
     "output_type": "execute_result"
    }
   ],
   "source": [
    "def up(m,n):\n",
    "    if(m==1 or n==1):\n",
    "        return 1\n",
    "    return up(m-1,n)+up(m,n-1)\n",
    "up(3,3)"
   ]
  },
  {
   "cell_type": "code",
   "execution_count": 19,
   "id": "ab33f79e",
   "metadata": {},
   "outputs": [
    {
     "name": "stdout",
     "output_type": "stream",
     "text": [
      "[[1, 1, 1], [1, 0, 0], [1, 0, 0]]\n"
     ]
    }
   ],
   "source": [
    " dp = [[1 if i == 0 or j == 0 else 0 for j in range(3)] for i in range(3)]"
   ]
  },
  {
   "cell_type": "code",
   "execution_count": 285,
   "id": "e66a8b9b",
   "metadata": {},
   "outputs": [
    {
     "data": {
      "text/plain": [
       "495"
      ]
     },
     "execution_count": 285,
     "metadata": {},
     "output_type": "execute_result"
    }
   ],
   "source": [
    "def uPaths(m,n):\n",
    "    dp=[[1 if i==0 or j==0 else 0 for j in range(n)] for i in range(m)]\n",
    "    for  i in range(1,m):\n",
    "        for j in range(1,n):\n",
    "            dp[i][j]=dp[i-1][j]+dp[i][j-1]\n",
    "    return dp[-1][-1]\n",
    "uPaths(9,5)"
   ]
  },
  {
   "cell_type": "code",
   "execution_count": 287,
   "id": "2f5dcd6c",
   "metadata": {},
   "outputs": [
    {
     "name": "stdout",
     "output_type": "stream",
     "text": [
      "[1, 9, 45, 165, 495]\n"
     ]
    },
    {
     "data": {
      "text/plain": [
       "True"
      ]
     },
     "execution_count": 287,
     "metadata": {},
     "output_type": "execute_result"
    }
   ],
   "source": [
    "def np(m,n):\n",
    "    dp=[1 for i in range(n)]\n",
    "    for i in range(m-1):\n",
    "        for j in range(1,n):\n",
    "            dp[j]+=dp[j-1]\n",
    "    print(dp)\n",
    "    return dp[n-1]\n",
    "np(9,5)==uPaths(9,5)"
   ]
  },
  {
   "cell_type": "code",
   "execution_count": 50,
   "id": "b1103200",
   "metadata": {},
   "outputs": [
    {
     "data": {
      "text/plain": [
       "4321"
      ]
     },
     "execution_count": 50,
     "metadata": {},
     "output_type": "execute_result"
    }
   ],
   "source": [
    "def p(a):\n",
    "    n=0\n",
    "    while(a):\n",
    "        n=n*10+a%10\n",
    "        a=a//10\n",
    "    return n\n",
    "p(1234)"
   ]
  },
  {
   "cell_type": "code",
   "execution_count": 64,
   "id": "1487ab81",
   "metadata": {},
   "outputs": [
    {
     "name": "stdout",
     "output_type": "stream",
     "text": [
      "{2: 1}\n",
      "{2: 1, 3: 2}\n"
     ]
    },
    {
     "data": {
      "text/plain": [
       "2"
      ]
     },
     "execution_count": 64,
     "metadata": {},
     "output_type": "execute_result"
    }
   ],
   "source": [
    "def fib(n,c={}):\n",
    "    if n<=1:\n",
    "        return n\n",
    "    elif n not in c:\n",
    "        c[n]=fib(n-1)+fib(n-2)\n",
    "    print(c)\n",
    "    return c[n]\n",
    "fib(3)"
   ]
  },
  {
   "cell_type": "code",
   "execution_count": 67,
   "id": "6fd3731a",
   "metadata": {},
   "outputs": [
    {
     "data": {
      "text/plain": [
       "55"
      ]
     },
     "execution_count": 67,
     "metadata": {},
     "output_type": "execute_result"
    }
   ],
   "source": [
    "def fib(n,c={}):\n",
    "    if n<=1:\n",
    "        return n\n",
    "    elif n not in c:\n",
    "        c[n]=fib(n-1)+fib(n-2)\n",
    "    return c[n]\n",
    "fib(10)"
   ]
  },
  {
   "cell_type": "code",
   "execution_count": 74,
   "id": "7f46996b",
   "metadata": {},
   "outputs": [
    {
     "name": "stdout",
     "output_type": "stream",
     "text": [
      "{2: 2}\n",
      "{2: 2, 3: 6}\n",
      "{2: 2, 3: 6, 4: 24}\n",
      "{2: 2, 3: 6, 4: 24, 5: 120}\n",
      "{2: 2, 3: 6, 4: 24, 5: 120, 6: 720}\n",
      "{2: 2, 3: 6, 4: 24, 5: 120, 6: 720, 7: 5040}\n"
     ]
    },
    {
     "data": {
      "text/plain": [
       "5040"
      ]
     },
     "execution_count": 74,
     "metadata": {},
     "output_type": "execute_result"
    }
   ],
   "source": [
    "def fact(n,c={}):\n",
    "    if n==1 or n==0:\n",
    "        return 1\n",
    "    if n not in c:\n",
    "        c[n]=fact(n-1)*n\n",
    "    print(c)\n",
    "    return c[n]\n",
    "fact(7)"
   ]
  },
  {
   "cell_type": "code",
   "execution_count": 81,
   "id": "f4af1172",
   "metadata": {},
   "outputs": [
    {
     "data": {
      "text/plain": [
       "55"
      ]
     },
     "execution_count": 81,
     "metadata": {},
     "output_type": "execute_result"
    }
   ],
   "source": [
    "def fib(n):\n",
    "    if(n<=1):\n",
    "        return n\n",
    "    a,b=0,1\n",
    "    while(n-1):\n",
    "        r=a+b\n",
    "        a=b\n",
    "        b=r\n",
    "        n-=1\n",
    "    return b\n",
    "fib(10)"
   ]
  },
  {
   "cell_type": "code",
   "execution_count": 3,
   "id": "312c8db6",
   "metadata": {},
   "outputs": [
    {
     "data": {
      "text/plain": [
       "[['a', 'a', 'v'], ['a', 'v'], ['a', 'v']]"
      ]
     },
     "execution_count": 3,
     "metadata": {},
     "output_type": "execute_result"
    }
   ],
   "source": [
    "def per(nums):\n",
    "    res=[]\n",
    "    dfs(nums,[],res)\n",
    "    res.pop()\n",
    "    return res\n",
    "def dfs(nums,path,res):\n",
    "    if not nums:\n",
    "        res.append(path)\n",
    "    for i in range(len(nums)):\n",
    "#         print(i,path)\n",
    "        dfs(nums[i+1:],path+[nums[i]],res)\n",
    "per(['a','a','v'])"
   ]
  },
  {
   "cell_type": "code",
   "execution_count": null,
   "id": "e2f14cd7",
   "metadata": {},
   "outputs": [],
   "source": [
    "def subArray(arr):\n",
    "    "
   ]
  },
  {
   "cell_type": "code",
   "execution_count": 4,
   "id": "f466e393",
   "metadata": {},
   "outputs": [
    {
     "data": {
      "text/plain": [
       "'aababaa'"
      ]
     },
     "execution_count": 4,
     "metadata": {},
     "output_type": "execute_result"
    }
   ],
   "source": [
    "def longestPal(s):\n",
    "    res=''\n",
    "    for i in range(len(s)):\n",
    "        res=max(dfs(s,i,i),dfs(s,i,i+1),res,key=len)\n",
    "    return res\n",
    "def dfs(s,l,r):\n",
    "    while(l>=0 and r<len(s) and s[l]==s[r]):\n",
    "        l-=1\n",
    "        r+=1\n",
    "    return s[l+1:r]\n",
    "longestPal('abaababaa')"
   ]
  },
  {
   "cell_type": "code",
   "execution_count": 19,
   "id": "d7ac2b6e",
   "metadata": {},
   "outputs": [
    {
     "data": {
      "text/plain": [
       "1"
      ]
     },
     "execution_count": 19,
     "metadata": {},
     "output_type": "execute_result"
    }
   ],
   "source": [
    "def isPal(s):\n",
    "    for i in range(len(s)//2):\n",
    "#         print(s[i],s[-i-1])\n",
    "        if(s[i]!=s[-(i+1)]):\n",
    "            return 0\n",
    "    return 1\n",
    "isPal('aababaa')"
   ]
  },
  {
   "cell_type": "code",
   "execution_count": 3,
   "id": "92c9b48a",
   "metadata": {},
   "outputs": [
    {
     "data": {
      "text/plain": [
       "'aba'"
      ]
     },
     "execution_count": 3,
     "metadata": {},
     "output_type": "execute_result"
    }
   ],
   "source": [
    "def longestPalindrome(s):\n",
    "    res=''\n",
    "    for i in range(len(s)):\n",
    "        res=max(helper(s,i,i),helper(s,i,i+1),res,key=len)\n",
    "    return res\n",
    "def helper(s,l,r):\n",
    "    while(0<=l and r<len(s) and s[l]==s[r]):\n",
    "        l-=1\n",
    "        r+=1\n",
    "    return s[l+1:r]\n",
    "longestPalindrome('abacb')"
   ]
  },
  {
   "cell_type": "code",
   "execution_count": 17,
   "id": "c7eb59d4",
   "metadata": {},
   "outputs": [
    {
     "data": {
      "text/plain": [
       "'sfsaa'"
      ]
     },
     "execution_count": 17,
     "metadata": {},
     "output_type": "execute_result"
    }
   ],
   "source": [
    "\n",
    "helper('asfsaasaas',0,6)"
   ]
  },
  {
   "cell_type": "code",
   "execution_count": 25,
   "id": "1d3bdbc7",
   "metadata": {},
   "outputs": [
    {
     "data": {
      "text/plain": [
       "'Laugh out loud'"
      ]
     },
     "execution_count": 25,
     "metadata": {},
     "output_type": "execute_result"
    }
   ],
   "source": [
    "dic={\"ikr\":\"I Know Right\",'lol':\"Laugh out loud\"}\n",
    "def word(a):\n",
    "    if(a in dic):\n",
    "        return dic[a]\n",
    "word(\"ikr\")\n",
    "word('lol')"
   ]
  },
  {
   "cell_type": "code",
   "execution_count": 26,
   "id": "a46c7b2d",
   "metadata": {},
   "outputs": [],
   "source": [
    "def addWord():\n",
    "    a=str(input(\"Enter string:\"))\n",
    "    dic[a]=str(input(\"Enter abrevation:\"))\n"
   ]
  },
  {
   "cell_type": "code",
   "execution_count": 27,
   "id": "097d2eaa",
   "metadata": {},
   "outputs": [
    {
     "name": "stdout",
     "output_type": "stream",
     "text": [
      "Enter string:ig\n",
      "Enter abrevation:i guess\n"
     ]
    }
   ],
   "source": [
    "addWord()"
   ]
  },
  {
   "cell_type": "code",
   "execution_count": 23,
   "id": "fe9bf092",
   "metadata": {},
   "outputs": [
    {
     "name": "stdout",
     "output_type": "stream",
     "text": [
      "1\n"
     ]
    },
    {
     "data": {
      "text/plain": [
       "'aasaaasaa'"
      ]
     },
     "execution_count": 23,
     "metadata": {},
     "output_type": "execute_result"
    }
   ],
   "source": [
    "def lp(s):\n",
    "    res=''\n",
    "    for i in range(len(s)):\n",
    "        res=max(dfs(s,i,i),dfs(s,i,i+1),res,key=len)\n",
    "    return res\n",
    "def dfs(s,l,r):\n",
    "    while(l>=0 and r<len(s) and s[l]==s[r]):\n",
    "        l-=1\n",
    "        r+=1\n",
    "    return s[l+1:r]\n",
    "s='asaasaaasaaa'\n",
    "print(isPal(lp(s)))\n",
    "lp(s)"
   ]
  },
  {
   "cell_type": "code",
   "execution_count": 32,
   "id": "3e1572e0",
   "metadata": {},
   "outputs": [
    {
     "data": {
      "text/plain": [
       "8"
      ]
     },
     "execution_count": 32,
     "metadata": {},
     "output_type": "execute_result"
    }
   ],
   "source": [
    "def kadane(a):\n",
    "    max_ending=0\n",
    "    max_so_far=0\n",
    "    for i in a:\n",
    "        max_ending=i+max_ending\n",
    "        if(max_ending<0):\n",
    "            max_ending=0\n",
    "        if(max_so_far<max_ending):\n",
    "            max_so_far=max_ending\n",
    "    return max_so_far\n",
    "kadane([4,-2,5,-1,2,-4])"
   ]
  },
  {
   "cell_type": "code",
   "execution_count": 1,
   "id": "50cd01aa",
   "metadata": {},
   "outputs": [
    {
     "name": "stdout",
     "output_type": "stream",
     "text": [
      "0\n"
     ]
    },
    {
     "data": {
      "text/plain": [
       "[]"
      ]
     },
     "execution_count": 1,
     "metadata": {},
     "output_type": "execute_result"
    }
   ],
   "source": [
    "def solution(A, F, M):\n",
    "    l=len(A)\n",
    "    avg=l+F\n",
    "    mean=avg*M\n",
    "#     print(mean)\n",
    "    req=sum(A)-mean\n",
    "    s=[i+1 for i in range(6)]\n",
    "    ans=[]\n",
    "    print(ks(req,s,6,F,ans))\n",
    "    return ans\n",
    "def ks(req,s,n,f,c):\n",
    "    if(req==0 or n==0):\n",
    "        return 0\n",
    "    if(s[n-1]>req):\n",
    "        return ks(req,s,n-1,f,c)\n",
    "    else:\n",
    "        print(c)\n",
    "        c.append(max(ks(req-s[n-1],s,n,f-1,c),ks(req,s,n-1,f,c)))\n",
    "        return max(ks(req-s[n-1],s,n,f-1,c),ks(req,s,n-1,f,c))\n",
    "solution([3, 2, 4, 3], 2, 4)"
   ]
  },
  {
   "cell_type": "code",
   "execution_count": 7,
   "id": "71f7e7b3",
   "metadata": {
    "scrolled": true
   },
   "outputs": [
    {
     "name": "stdout",
     "output_type": "stream",
     "text": [
      "[[1, 1, 1, 1, 1, 1, 1, 1], [1, 1, 1, 1, 1, 1, 2], [1, 1, 1, 1, 1, 3], [1, 1, 1, 1, 2, 2], [1, 1, 1, 2, 3], [1, 1, 2, 2, 2], [1, 1, 3, 3], [1, 2, 2, 3], [2, 2, 2, 2], [2, 3, 3]]\n"
     ]
    }
   ],
   "source": [
    "def comb(arr,total):\n",
    "    ans=[]\n",
    "    temp=[]\n",
    "    arr=sorted(list(set(arr)))\n",
    "    findN(ans,arr,temp,total,0)\n",
    "    return ans\n",
    "def findN(ans,arr,temp,total,ind):\n",
    "    if(total==0):\n",
    "        ans.append(list(temp))\n",
    "        return\n",
    "    for i in range(ind,len(arr)):\n",
    "        if(total-arr[i]>=0):\n",
    "            temp.append(arr[i])\n",
    "            findN(ans,arr,temp,total-arr[i],i)\n",
    "            temp.remove(arr[i])\n",
    "arr=[1,2,3]\n",
    "total=8\n",
    "ans= comb(arr,total)\n",
    "print(ans)"
   ]
  },
  {
   "cell_type": "code",
   "execution_count": 16,
   "id": "23bb41fa",
   "metadata": {},
   "outputs": [
    {
     "data": {
      "text/plain": [
       "[[1, 1, 4, 6],\n",
       " [1, 1, 5, 5],\n",
       " [1, 2, 3, 6],\n",
       " [1, 2, 4, 5],\n",
       " [1, 3, 3, 5],\n",
       " [1, 3, 4, 4],\n",
       " [2, 2, 2, 6],\n",
       " [2, 2, 3, 5],\n",
       " [2, 2, 4, 4],\n",
       " [2, 3, 3, 4],\n",
       " [3, 3, 3, 3]]"
      ]
     },
     "execution_count": 16,
     "metadata": {},
     "output_type": "execute_result"
    }
   ],
   "source": [
    "def comS(a,t):\n",
    "    res=[]\n",
    "    dfs(a,t,[],res)\n",
    "    return res\n",
    "def dfs(a,t,path,res):\n",
    "    if(t<0):\n",
    "        return \n",
    "    if(t==0):\n",
    "        if(len(path)==4):\n",
    "            res.append(path)\n",
    "        return\n",
    "    for i in range(len(a)):\n",
    "        dfs(a[i:],t-a[i],path+[a[i]],res)\n",
    "comS([1,2,3,4,5,6],12)"
   ]
  },
  {
   "cell_type": "code",
   "execution_count": 289,
   "id": "c7d20a1a",
   "metadata": {},
   "outputs": [
    {
     "data": {
      "text/plain": [
       "[[1, 1, 1, 1], [1, 1, 2], [1, 3], [2, 2]]"
      ]
     },
     "execution_count": 289,
     "metadata": {},
     "output_type": "execute_result"
    }
   ],
   "source": [
    "def comS(a,t):\n",
    "    res=[]\n",
    "    dfs(a,t,[],res)\n",
    "    return res\n",
    "def dfs(a,t,path,res):\n",
    "    if(t<0):\n",
    "        return \n",
    "    if(t==0):\n",
    "        res.append(path)\n",
    "        return \n",
    "    for i in range(len(a)):\n",
    "#         print(path)\n",
    "        dfs(a[i:],t-a[i],path+[a[i]],res)\n",
    "comS([1,2,3],4) "
   ]
  },
  {
   "cell_type": "code",
   "execution_count": 21,
   "id": "b27c1802",
   "metadata": {},
   "outputs": [
    {
     "data": {
      "text/plain": [
       "[[1, 2, 3], [1, 3, 2], [2, 1, 3], [2, 3, 1], [3, 1, 2], [3, 2, 1]]"
      ]
     },
     "execution_count": 21,
     "metadata": {},
     "output_type": "execute_result"
    }
   ],
   "source": [
    "def perm(a):\n",
    "    res=[]\n",
    "    dfs(a,[],res)\n",
    "    return res\n",
    "def dfs(a,path,res):\n",
    "    if not a:\n",
    "        res.append(path)\n",
    "    for i in range(len(a)):\n",
    "        dfs(a[:i]+a[i+1:],path+[a[i]],res)\n",
    "perm([1,2,3])"
   ]
  },
  {
   "cell_type": "code",
   "execution_count": 2,
   "id": "cc3f5188",
   "metadata": {},
   "outputs": [
    {
     "data": {
      "text/plain": [
       "[[1, 1, 1, 1, 1], [1, 1, 1, 2], [1, 1, 3], [1, 2, 2], [2, 3]]"
      ]
     },
     "execution_count": 2,
     "metadata": {},
     "output_type": "execute_result"
    }
   ],
   "source": [
    "def com(a,t):\n",
    "    res=[]\n",
    "    dfs(a,t,[],res)\n",
    "    return res\n",
    "def dfs(a,t,path,res):\n",
    "    if t<0:\n",
    "        return \n",
    "    if(t==0):\n",
    "        res.append(path)\n",
    "    for i in range(len(a)):\n",
    "        dfs(a[i:],t-a[i],path+[a[i]],res)\n",
    "com([1,2,3],5)"
   ]
  },
  {
   "cell_type": "code",
   "execution_count": 12,
   "id": "5221fa65",
   "metadata": {},
   "outputs": [
    {
     "data": {
      "text/plain": [
       "[[4, 6], [5, 5]]"
      ]
     },
     "execution_count": 12,
     "metadata": {},
     "output_type": "execute_result"
    }
   ],
   "source": [
    "def com(a,t,f):\n",
    "    res=[]\n",
    "    dfs(a,t,[],res,f)\n",
    "    return res\n",
    "def dfs(a,t,path,res,f):\n",
    "    if(t<0):\n",
    "        return \n",
    "    if(t==0):\n",
    "        if(len(path)==f):\n",
    "            res.append(path)\n",
    "        return\n",
    "    for i in range(len(a)):\n",
    "        dfs(a[i:],t-a[i],path+[a[i]],res,f)\n",
    "com([1,2,3,4,5,6],10,2)"
   ]
  },
  {
   "cell_type": "code",
   "execution_count": 17,
   "id": "fb7cb777",
   "metadata": {},
   "outputs": [
    {
     "data": {
      "text/plain": [
       "[[1, 2, 3], [1, 3, 2], [2, 1, 3], [2, 3, 1], [3, 1, 2], [3, 2, 1]]"
      ]
     },
     "execution_count": 17,
     "metadata": {},
     "output_type": "execute_result"
    }
   ],
   "source": [
    "def perm(a):\n",
    "    res=[]\n",
    "    dfs(a,[],res)\n",
    "    return res\n",
    "def dfs(a,path,res):\n",
    "    if not a:\n",
    "        res.append(path)\n",
    "    for i in range(len(a)):\n",
    "        dfs(a[:i]+a[i+1:],path+[a[i]],res)\n",
    "perm([1,2,3])"
   ]
  },
  {
   "cell_type": "code",
   "execution_count": 98,
   "id": "d7b55f11",
   "metadata": {},
   "outputs": [
    {
     "data": {
      "text/plain": [
       "[[1, 1, 1, 1, 1], [1, 1, 1, 2], [1, 1, 3], [1, 2, 2], [1, 4], [2, 3], [5]]"
      ]
     },
     "execution_count": 98,
     "metadata": {},
     "output_type": "execute_result"
    }
   ],
   "source": [
    "def com(a,t):\n",
    "    res=[]\n",
    "    dfs(a,t,[],res)\n",
    "    return res\n",
    "def dfs(a,t,path,res):\n",
    "    if(t<0):\n",
    "        return \n",
    "    if(t==0):\n",
    "        res.append(path)\n",
    "    for i in range(len(a)):\n",
    "        dfs(a[i:],t-a[i],path+[a[i]],res)\n",
    "com([1,2,3,4,5],5)"
   ]
  },
  {
   "cell_type": "code",
   "execution_count": 22,
   "id": "754ebb07",
   "metadata": {},
   "outputs": [
    {
     "name": "stdout",
     "output_type": "stream",
     "text": [
      "<class 'str'>\n"
     ]
    }
   ],
   "source": [
    "# def ks(items,c):\n",
    "#     def opt(k,a_cap):\n",
    "#         if(k<0):\n",
    "#             return 0\n",
    "#         if(v[k][a_cap]==-1):\n",
    "#             w_cur_i=opt(k-1,a_cap)\n",
    "#         not_cur_i=opt(k-1,a_cap)\n",
    "#         cur_tem=(o if a_cap<items[k].weight)"
   ]
  },
  {
   "cell_type": "code",
   "execution_count": 26,
   "id": "aae65ae8",
   "metadata": {},
   "outputs": [
    {
     "data": {
      "text/plain": [
       "11"
      ]
     },
     "execution_count": 26,
     "metadata": {},
     "output_type": "execute_result"
    }
   ],
   "source": [
    "def ks(W,v,w,n):\n",
    "    if(n==0 or W==0):\n",
    "        return 0\n",
    "    if(w[n-1]>W):\n",
    "        return ks(W,v,w,n-1)\n",
    "    else:\n",
    "        return max(v[n-1]+ks(W-w[n-1],v,w,n-1),ks(W,v,w,n-1))\n",
    "ks(5,[5,4,6],[1,2,3],3)"
   ]
  },
  {
   "cell_type": "code",
   "execution_count": 35,
   "id": "28da364a",
   "metadata": {},
   "outputs": [
    {
     "data": {
      "text/plain": [
       "'ababa'"
      ]
     },
     "execution_count": 35,
     "metadata": {},
     "output_type": "execute_result"
    }
   ],
   "source": [
    "def lPal(s):\n",
    "    res=''\n",
    "    for i in range(len(s)):\n",
    "        res=max(dfs(s,i,i),dfs(s,i,i+1),res,key=len)\n",
    "    return res\n",
    "def dfs(s,l,r):\n",
    "    while(l>=0 and r<len(s) and s[l]==s[r]):\n",
    "        l-=1\n",
    "        r+=1\n",
    "#     print(s[l+1:r])\n",
    "    return s[l+1:r]\n",
    "lPal('ababaa')"
   ]
  },
  {
   "cell_type": "code",
   "execution_count": 38,
   "id": "ff8c2d66",
   "metadata": {},
   "outputs": [
    {
     "data": {
      "text/plain": [
       "[[1, 2, 3], [1, 3, 2], [2, 1, 3], [2, 3, 1], [3, 1, 2], [3, 2, 1]]"
      ]
     },
     "execution_count": 38,
     "metadata": {},
     "output_type": "execute_result"
    }
   ],
   "source": [
    "def perm(a):\n",
    "    res=[]\n",
    "    dfs(a,[],res)\n",
    "    return res\n",
    "def dfs(a,path,res):\n",
    "    if not a:\n",
    "        res.append(path)\n",
    "    for i in range(len(a)):\n",
    "        dfs(a[:i]+a[i+1:],path+[a[i]],res)\n",
    "perm([1,2,3])"
   ]
  },
  {
   "cell_type": "code",
   "execution_count": 27,
   "id": "9528dec0",
   "metadata": {},
   "outputs": [
    {
     "data": {
      "text/plain": [
       "[[1, 7], [2, 3, 3]]"
      ]
     },
     "execution_count": 27,
     "metadata": {},
     "output_type": "execute_result"
    }
   ],
   "source": [
    "def comb(a,t):\n",
    "    res=[]\n",
    "    dfs(a,t,[],res)\n",
    "    return res\n",
    "def dfs(a,t,path,res):\n",
    "    if(t<0):\n",
    "        return \n",
    "    if(t==0):\n",
    "        res.append(path)\n",
    "    for i in range(len(a)):\n",
    "        dfs(a[i+1:],t-a[i],path+[a[i]],res)\n",
    "comb([1,2,3,7,3],8)"
   ]
  },
  {
   "cell_type": "code",
   "execution_count": 84,
   "id": "e96a86db",
   "metadata": {},
   "outputs": [
    {
     "name": "stdout",
     "output_type": "stream",
     "text": [
      "[[1, 2, 3], [1, 2, 4], [1, 2, 5], [1, 3, 4], [1, 3, 5], [1, 4, 5], [2, 3, 4], [2, 3, 5], [2, 4, 5], [3, 4, 5]]\n"
     ]
    }
   ],
   "source": [
    "def dfs(res,tmp,ind,n,r):\n",
    "    if(r==0):\n",
    "        res.append([i for i in tmp])\n",
    "        return \n",
    "    for i in range(ind,n+1):\n",
    "        tmp.append(i)\n",
    "#         print(tmp)\n",
    "        dfs(res,tmp,i+1,n,r-1)\n",
    "        tmp.pop()\n",
    "k=3\n",
    "n=5\n",
    "res=[]\n",
    "dfs(res,[],1,5,3)\n",
    "print(res)"
   ]
  },
  {
   "cell_type": "code",
   "execution_count": null,
   "id": "5be0f7ce",
   "metadata": {},
   "outputs": [],
   "source": []
  },
  {
   "cell_type": "code",
   "execution_count": 105,
   "id": "55f56197",
   "metadata": {},
   "outputs": [
    {
     "data": {
      "text/plain": [
       "[[1, 1, 1],\n",
       " [1, 1, 2],\n",
       " [1, 2, 1],\n",
       " [1, 2, 2],\n",
       " [2, 1, 1],\n",
       " [2, 1, 2],\n",
       " [2, 2, 1],\n",
       " [2, 2, 2]]"
      ]
     },
     "execution_count": 105,
     "metadata": {},
     "output_type": "execute_result"
    }
   ],
   "source": [
    "def allComb(n,k):\n",
    "    res=[]\n",
    "    dfs(res,[],1,n,k)\n",
    "    return res\n",
    "def dfs(res,tmp,ind,n,k):\n",
    "    if(k==0):\n",
    "        res.append(tmp)\n",
    "        return\n",
    "    for i in range(1,n+1):\n",
    "        dfs(res,tmp+[i],i,n,k-1)\n",
    "allComb(2,3)"
   ]
  },
  {
   "cell_type": "code",
   "execution_count": 86,
   "id": "8c8a9f56",
   "metadata": {},
   "outputs": [
    {
     "data": {
      "text/plain": [
       "[1, 10, 11, 12, 13, 14, 15, 16, 17, 18, 19, 2, 3, 4, 5, 6, 7, 8, 9]"
      ]
     },
     "execution_count": 86,
     "metadata": {},
     "output_type": "execute_result"
    }
   ],
   "source": [
    "def lex(n):\n",
    "    res=[]\n",
    "    for i in range(1,10):\n",
    "        dfs(i,n,res)\n",
    "    return res\n",
    "def dfs(cur,n,res):\n",
    "    if(cur>n):\n",
    "        return\n",
    "    else:\n",
    "        res.append(cur)\n",
    "        for i in range(10):\n",
    "            if((10*cur+i)>n):\n",
    "                return\n",
    "            dfs(10*cur+i,n,res)\n",
    "lex(19)"
   ]
  },
  {
   "cell_type": "code",
   "execution_count": 6,
   "id": "03e31294",
   "metadata": {},
   "outputs": [
    {
     "data": {
      "text/plain": [
       "'aaaabaaaa'"
      ]
     },
     "execution_count": 6,
     "metadata": {},
     "output_type": "execute_result"
    }
   ],
   "source": [
    "def lp(s):\n",
    "    res=''\n",
    "    for i in range(len(s)):\n",
    "        res=max(dfs(s,i,i),dfs(s,i,i+1),res,key=len)\n",
    "    return res\n",
    "def dfs(s,l,r):\n",
    "    while(l>=0 and r<len(s) and s[l]==s[r]):\n",
    "        l-=1\n",
    "        r+=1\n",
    "    return s[l+1:r]\n",
    "lp('aaaaabaaaasaas')"
   ]
  },
  {
   "cell_type": "code",
   "execution_count": null,
   "id": "b31b62c8",
   "metadata": {},
   "outputs": [],
   "source": [
    "def comb(s):\n",
    "    res=[]\n",
    "    dfs(s,[],res)\n",
    "    return res\n",
    "def dfs(s,path,res):\n",
    "    if(len(path)==len(s)):\n",
    "        res.append(path)\n",
    "    for i in range(len(s)):\n",
    "        dfs(s[i:],path+[s[i]],res)\n",
    "comb('abas')"
   ]
  },
  {
   "cell_type": "code",
   "execution_count": 8,
   "id": "030abca8",
   "metadata": {},
   "outputs": [
    {
     "name": "stdout",
     "output_type": "stream",
     "text": [
      "4\n",
      "6\n",
      "7\n"
     ]
    }
   ],
   "source": [
    "class Node:\n",
    "    def __init__(self,data):\n",
    "        self.data=data\n",
    "        self.left=None\n",
    "        self.right=None\n",
    "def insert(root,data):\n",
    "    if(not root):\n",
    "        return Node(data)\n",
    "    else:\n",
    "        if(root.data==data):\n",
    "            return \n",
    "        elif(root.data<data):\n",
    "            root.right=insert(root.right,data)\n",
    "        else:\n",
    "            root.left=insert(root.left,data)\n",
    "    return root\n",
    "def inorder(root):\n",
    "    if root:\n",
    "        inorder(root.left)\n",
    "        print(root.data)\n",
    "        inorder(root.right)\n",
    "root=Node(4)\n",
    "insert(root,6)\n",
    "insert(root,7)\n",
    "r2=Node(4)\n",
    "insert(r2,6)\n",
    "insert(r2,7)\n",
    "inorder(root)"
   ]
  },
  {
   "cell_type": "code",
   "execution_count": 9,
   "id": "b7bf41a9",
   "metadata": {},
   "outputs": [
    {
     "data": {
      "text/plain": [
       "0"
      ]
     },
     "execution_count": 9,
     "metadata": {},
     "output_type": "execute_result"
    }
   ],
   "source": [
    "def isSame(r1,r2):\n",
    "    if not r1 and not r2:\n",
    "        return 1\n",
    "    if not r1 or not r2:\n",
    "        return 0\n",
    "    if(r1.data!=r2.data):\n",
    "        return 0\n",
    "    return isSame(r1.left,r2.left) and isSame(r1.right,r2.right)\n",
    "isSame(root,r2)"
   ]
  },
  {
   "cell_type": "code",
   "execution_count": 4,
   "id": "dbd2ad5f",
   "metadata": {},
   "outputs": [
    {
     "name": "stdout",
     "output_type": "stream",
     "text": [
      "['a', 'b', 'c']\n",
      "['a', 'c', 'b']\n",
      "['c', 'a', 'b']\n",
      "['c', 'b', 'a']\n",
      "['a', 'b', 'c']\n",
      "['a', 'c', 'b']\n"
     ]
    }
   ],
   "source": [
    "def per(s,k):\n",
    "    if(k==len(s)):\n",
    "        print(s)\n",
    "        return\n",
    "    else:\n",
    "        for i in range(k,len(s)):\n",
    "            s[k],s[i]=s[i],s[k]\n",
    "            per(s,k+1)\n",
    "per(list('abc'),0)"
   ]
  },
  {
   "cell_type": "code",
   "execution_count": 16,
   "id": "6e42c72d",
   "metadata": {
    "scrolled": true
   },
   "outputs": [
    {
     "name": "stdout",
     "output_type": "stream",
     "text": [
      "['abc', 'acb', 'bac', 'bca', 'cab', 'cba']\n"
     ]
    }
   ],
   "source": [
    "def perm(s):\n",
    "    res=[]\n",
    "    dfs(s,[],res)\n",
    "    return res\n",
    "def dfs(s,path,res):\n",
    "    if not s:\n",
    "        res.append(path)\n",
    "    for i in range(len(s)):\n",
    "        dfs(s[:i]+s[i+1:],path+[s[i]],res)\n",
    "a=perm('abc')\n",
    "a=[''.join(i) for i in a]\n",
    "print(a)"
   ]
  },
  {
   "cell_type": "code",
   "execution_count": 28,
   "id": "90d85228",
   "metadata": {},
   "outputs": [
    {
     "data": {
      "text/plain": [
       "[[1, 1, 1], [1, 2], [3]]"
      ]
     },
     "execution_count": 28,
     "metadata": {},
     "output_type": "execute_result"
    }
   ],
   "source": [
    "def comb(s,t):\n",
    "    res=[]\n",
    "    dfs(s,t,[],res)\n",
    "    return res\n",
    "def dfs(s,t,path,res):\n",
    "    if(t<0):\n",
    "        return\n",
    "    elif(t==0):\n",
    "        res.append(path)\n",
    "    for i in range(len(s)):\n",
    "        dfs(s[i:],t-s[i],path+[s[i]],res)\n",
    "comb([1,2,3,4,5,6],3)"
   ]
  },
  {
   "cell_type": "code",
   "execution_count": 29,
   "id": "2c7d1e81",
   "metadata": {},
   "outputs": [
    {
     "data": {
      "text/plain": [
       "[[1, 1, 1, 1], [1, 1, 2], [1, 3], [2, 2]]"
      ]
     },
     "execution_count": 29,
     "metadata": {},
     "output_type": "execute_result"
    }
   ],
   "source": [
    "def comb(s,t):\n",
    "    res=[]\n",
    "    dfs(s,t,[],res)\n",
    "    return res\n",
    "def dfs(s,t,path,res):\n",
    "    if(t<0):\n",
    "        return \n",
    "    elif(t==0):\n",
    "        res.append(path)\n",
    "        return \n",
    "    for i in range(len(s)):\n",
    "        dfs(s[i:],t-s[i],path+[s[i]],res)\n",
    "comb([1,2,3],4)"
   ]
  },
  {
   "cell_type": "code",
   "execution_count": 46,
   "id": "69cb1367",
   "metadata": {},
   "outputs": [
    {
     "data": {
      "text/plain": [
       "120"
      ]
     },
     "execution_count": 46,
     "metadata": {},
     "output_type": "execute_result"
    }
   ],
   "source": [
    "def fact(n,c={}):\n",
    "    if(n<=1):\n",
    "        return 1\n",
    "    else:\n",
    "        c[n]=n*(fact(n-1))\n",
    "    return c[n]\n",
    "fact(5)"
   ]
  },
  {
   "cell_type": "code",
   "execution_count": 48,
   "id": "672eb828",
   "metadata": {},
   "outputs": [
    {
     "data": {
      "text/plain": [
       "['((()))', '(()())', '(())()', '()(())', '()()()']"
      ]
     },
     "execution_count": 48,
     "metadata": {},
     "output_type": "execute_result"
    }
   ],
   "source": [
    "def genParen(n):\n",
    "    res=[]\n",
    "    dfs(n,n,'',res)\n",
    "    return res\n",
    "def dfs(l,r,s,res):\n",
    "    if(l>r or l<0 or r<0):\n",
    "        return \n",
    "    if(l==0 and r==0):\n",
    "        res.append(s)\n",
    "        return\n",
    "    dfs(l-1,r,s+'(',res)\n",
    "    dfs(l,r-1,s+')',res)\n",
    "genParen(3)"
   ]
  },
  {
   "cell_type": "code",
   "execution_count": 13,
   "id": "4be34cde",
   "metadata": {},
   "outputs": [
    {
     "data": {
      "text/plain": [
       "[[1], [1, 2], [2], [1, 2, 3], [2, 3], [3]]"
      ]
     },
     "execution_count": 13,
     "metadata": {},
     "output_type": "execute_result"
    }
   ],
   "source": [
    "def subArray(arr):\n",
    "    res=[]\n",
    "    dfs(arr,0,0,res)\n",
    "    return res\n",
    "def dfs(arr,start,end,res):\n",
    "    if(start==len(arr)):\n",
    "        return \n",
    "    elif(start>end):\n",
    "        return dfs(arr,0,end+1,res)\n",
    "    else:\n",
    "        res.append(arr[start:end+1])\n",
    "        return dfs(arr,start+1,end,res)\n",
    "subArray([1,2,3])"
   ]
  },
  {
   "cell_type": "code",
   "execution_count": 13,
   "id": "ac78914d",
   "metadata": {},
   "outputs": [
    {
     "name": "stdout",
     "output_type": "stream",
     "text": [
      "[1]\n"
     ]
    },
    {
     "data": {
      "text/plain": [
       "[]"
      ]
     },
     "execution_count": 13,
     "metadata": {},
     "output_type": "execute_result"
    }
   ],
   "source": [
    "arr=[1]\n",
    "res=[]\n",
    "for i in range(len(arr)):\n",
    "    for j in range(len(arr)):\n",
    "        print(arr[i:j+1])\n",
    "res"
   ]
  },
  {
   "cell_type": "code",
   "execution_count": 14,
   "id": "9bd786c5",
   "metadata": {},
   "outputs": [
    {
     "ename": "NameError",
     "evalue": "name 'nums' is not defined",
     "output_type": "error",
     "traceback": [
      "\u001b[1;31m---------------------------------------------------------------------------\u001b[0m",
      "\u001b[1;31mNameError\u001b[0m                                 Traceback (most recent call last)",
      "\u001b[1;32m<ipython-input-14-b794607bf9fe>\u001b[0m in \u001b[0;36m<module>\u001b[1;34m\u001b[0m\n\u001b[0;32m      1\u001b[0m \u001b[0ms\u001b[0m\u001b[1;33m=\u001b[0m\u001b[1;33m[\u001b[0m\u001b[1;33m]\u001b[0m\u001b[1;33m\u001b[0m\u001b[1;33m\u001b[0m\u001b[0m\n\u001b[0;32m      2\u001b[0m \u001b[0mmx\u001b[0m\u001b[1;33m=\u001b[0m\u001b[1;36m0\u001b[0m\u001b[1;33m\u001b[0m\u001b[1;33m\u001b[0m\u001b[0m\n\u001b[1;32m----> 3\u001b[1;33m \u001b[1;32mfor\u001b[0m \u001b[0mi\u001b[0m \u001b[1;32min\u001b[0m \u001b[0mrange\u001b[0m\u001b[1;33m(\u001b[0m\u001b[0mlen\u001b[0m\u001b[1;33m(\u001b[0m\u001b[0mnums\u001b[0m\u001b[1;33m)\u001b[0m\u001b[1;33m)\u001b[0m\u001b[1;33m:\u001b[0m\u001b[1;33m\u001b[0m\u001b[1;33m\u001b[0m\u001b[0m\n\u001b[0m\u001b[0;32m      4\u001b[0m     \u001b[1;32mfor\u001b[0m \u001b[0mj\u001b[0m \u001b[1;32min\u001b[0m \u001b[0mrange\u001b[0m\u001b[1;33m(\u001b[0m\u001b[0mi\u001b[0m\u001b[1;33m+\u001b[0m\u001b[1;36m1\u001b[0m\u001b[1;33m,\u001b[0m\u001b[0mlen\u001b[0m\u001b[1;33m(\u001b[0m\u001b[0mnums\u001b[0m\u001b[1;33m)\u001b[0m\u001b[1;33m)\u001b[0m\u001b[1;33m:\u001b[0m\u001b[1;33m\u001b[0m\u001b[1;33m\u001b[0m\u001b[0m\n\u001b[0;32m      5\u001b[0m         \u001b[1;32mif\u001b[0m\u001b[1;33m(\u001b[0m\u001b[0msum\u001b[0m\u001b[1;33m(\u001b[0m\u001b[0mnums\u001b[0m\u001b[1;33m[\u001b[0m\u001b[0mi\u001b[0m\u001b[1;33m:\u001b[0m\u001b[0mj\u001b[0m\u001b[1;33m+\u001b[0m\u001b[1;36m1\u001b[0m\u001b[1;33m]\u001b[0m\u001b[1;33m)\u001b[0m\u001b[1;33m%\u001b[0m\u001b[1;36m3\u001b[0m\u001b[1;33m==\u001b[0m\u001b[1;36m0\u001b[0m\u001b[1;33m)\u001b[0m\u001b[1;33m:\u001b[0m\u001b[1;33m\u001b[0m\u001b[1;33m\u001b[0m\u001b[0m\n",
      "\u001b[1;31mNameError\u001b[0m: name 'nums' is not defined"
     ]
    }
   ],
   "source": [
    "s=[]\n",
    "mx=0\n",
    "for i in range(len(nums)):\n",
    "    for j in range(i+1,len(nums)):\n",
    "        if(sum(nums[i:j+1])%3==0):\n",
    "            if(mx<sum(nums[i:j+1])):\n",
    "                mx=sum(nums[i:j+1])\n",
    "return mx"
   ]
  },
  {
   "cell_type": "code",
   "execution_count": 12,
   "id": "5260d32a",
   "metadata": {},
   "outputs": [
    {
     "data": {
      "text/plain": [
       "[[1], [1, 2], [1, 2, 3], [2], [2, 3], [3]]"
      ]
     },
     "execution_count": 12,
     "metadata": {},
     "output_type": "execute_result"
    }
   ],
   "source": [
    "arr=[1,2,3]\n",
    "res=[]\n",
    "for i in range(3):\n",
    "    sub=[]\n",
    "    for j in range(i,3):\n",
    "        sub=sub+[arr[j]]\n",
    "        res.append(sub)\n",
    "res"
   ]
  },
  {
   "cell_type": "code",
   "execution_count": 99,
   "id": "559a4e83",
   "metadata": {},
   "outputs": [
    {
     "name": "stdout",
     "output_type": "stream",
     "text": [
      "4\n"
     ]
    }
   ],
   "source": [
    "#longest palindromic sequence\n",
    "def isPal(s):\n",
    "    if(s==s[::-1]):\n",
    "        return 1\n",
    "    return 0\n",
    "string='asabsaaaa'\n",
    "res=[]\n",
    "mx=float('-inf')\n",
    "for i in range(len(string)):\n",
    "    sub=''\n",
    "    for j in range(i,len(string)):\n",
    "        sub+=string[j]\n",
    "        if(isPal(sub)):\n",
    "            if(mx<len(sub)):\n",
    "                mx=len(sub)\n",
    "print(mx)"
   ]
  },
  {
   "cell_type": "code",
   "execution_count": 46,
   "id": "cbc1487e",
   "metadata": {},
   "outputs": [
    {
     "data": {
      "text/plain": [
       "1"
      ]
     },
     "execution_count": 46,
     "metadata": {},
     "output_type": "execute_result"
    }
   ],
   "source": [
    "def ifPal(s):\n",
    "    l=len(s)\n",
    "    for i in range(l//2):\n",
    "        if(s[i]!=s[l-i-1]):\n",
    "            return 0\n",
    "    return 1\n",
    "ifPal('abcdvdcba')"
   ]
  },
  {
   "cell_type": "code",
   "execution_count": 97,
   "id": "87a696a2",
   "metadata": {},
   "outputs": [
    {
     "data": {
      "text/plain": [
       "True"
      ]
     },
     "execution_count": 97,
     "metadata": {},
     "output_type": "execute_result"
    }
   ],
   "source": [
    "def isValParen(s):\n",
    "    cnt=0\n",
    "    for i in s:\n",
    "        if(i==\"(\"): cnt+=1\n",
    "        if(i==\")\"): cnt-=1\n",
    "        if(cnt< 0): return 0\n",
    "    return cnt==0\n",
    "isValParen('()()()')"
   ]
  },
  {
   "cell_type": "code",
   "execution_count": 92,
   "id": "73aee9a0",
   "metadata": {},
   "outputs": [
    {
     "name": "stdout",
     "output_type": "stream",
     "text": [
      "234702242\n"
     ]
    }
   ],
   "source": [
    "#10^9+7 important\n",
    "a=[12222222222222222222222,2333322222222222222222222,1222222222322222]\n",
    "sum=1\n",
    "j=1\n",
    "for i in a:\n",
    "    sum*=i\n",
    "    sum=sum%(10**9+7)\n",
    "print(sum)"
   ]
  },
  {
   "cell_type": "code",
   "execution_count": null,
   "id": "8382ae35",
   "metadata": {},
   "outputs": [],
   "source": [
    "# 1.) (a+b)%m = (a%m+b%m)%m.\n",
    "\n",
    "# 2.) (a*b)%m = (a%m*b%m)%m."
   ]
  },
  {
   "cell_type": "code",
   "execution_count": 110,
   "id": "06d31c5c",
   "metadata": {},
   "outputs": [
    {
     "data": {
      "text/plain": [
       "2"
      ]
     },
     "execution_count": 110,
     "metadata": {},
     "output_type": "execute_result"
    }
   ],
   "source": [
    "\n",
    "max(set(lst), key=lst.count)"
   ]
  },
  {
   "cell_type": "code",
   "execution_count": 4,
   "id": "08807458",
   "metadata": {},
   "outputs": [
    {
     "name": "stdout",
     "output_type": "stream",
     "text": [
      "[(2, 3), (4, 1), (3, 1), (1, 1)]\n"
     ]
    }
   ],
   "source": [
    "lst=[2,2,2,4,3,1]\n",
    "from collections import Counter\n",
    "data = Counter(lst)\n",
    "a=data.most_common()   # Returns all unique items and their counts\n",
    "# data.most_common(1)\n",
    "print(a)"
   ]
  },
  {
   "cell_type": "code",
   "execution_count": 129,
   "id": "2ad8e693",
   "metadata": {},
   "outputs": [
    {
     "name": "stdout",
     "output_type": "stream",
     "text": [
      "1\n"
     ]
    }
   ],
   "source": [
    "mx=a[0][1]\n",
    "print(mx)\n",
    "\n",
    "# for i in a:"
   ]
  },
  {
   "cell_type": "code",
   "execution_count": 2,
   "id": "c2e8d9f0",
   "metadata": {},
   "outputs": [
    {
     "name": "stdout",
     "output_type": "stream",
     "text": [
      "[[1, 1, 1, 1]]\n"
     ]
    }
   ],
   "source": [
    "def dfs(arr,t,path,res):\n",
    "            if(t<0):\n",
    "                return \n",
    "            if(t==0):\n",
    "                # print(path)\n",
    "                if(len(path)==4):\n",
    "                    res.append(path)\n",
    "                return\n",
    "            for i in range(len(arr)):\n",
    "#                 print(i)\n",
    "                dfs(arr[i:],t-arr[i],path+[arr[i]],res)\n",
    "res=[]\n",
    "nums=[1,2,2]\n",
    "target=4\n",
    "dfs(nums,target,[],res)\n",
    "print(res)"
   ]
  },
  {
   "cell_type": "code",
   "execution_count": 3,
   "id": "9f4c253f",
   "metadata": {},
   "outputs": [
    {
     "data": {
      "text/plain": [
       "4"
      ]
     },
     "execution_count": 3,
     "metadata": {},
     "output_type": "execute_result"
    }
   ],
   "source": [
    "def lcs(a,b,m,n):\n",
    "    if(m==0 or n==0):\n",
    "        return 0\n",
    "    elif(a[m-1]==b[n-1]):\n",
    "        return 1+lcs(a,b,m-1,n-1)\n",
    "    else:\n",
    "        return max(lcs(a,b,m-1,n),lcs(a,b,m,n-1))\n",
    "a=\"AGGTAB\"\n",
    "b = \"GXTXAYB\"\n",
    "lcs(a,b,len(a),len(b))"
   ]
  },
  {
   "cell_type": "code",
   "execution_count": 6,
   "id": "c9c5d82b",
   "metadata": {},
   "outputs": [
    {
     "data": {
      "text/plain": [
       "'a'"
      ]
     },
     "execution_count": 6,
     "metadata": {},
     "output_type": "execute_result"
    }
   ],
   "source": [
    "dic={}\n",
    "def maxOccuring(s):\n",
    "    for i in s:\n",
    "        if i in dic:\n",
    "            dic[i]+=1\n",
    "        else:\n",
    "            dic[i]=1\n",
    "    a=set(s)\n",
    "    mx=0\n",
    "    for i in a:\n",
    "        if(mx<dic[i]):\n",
    "            mx=dic[i]\n",
    "            ms=i\n",
    "    return ms\n",
    "    print(dic)\n",
    "maxOccuring('absaaa')"
   ]
  },
  {
   "cell_type": "code",
   "execution_count": 15,
   "id": "3e5f03f8",
   "metadata": {},
   "outputs": [],
   "source": [
    "l=[4,2,2,4,1]"
   ]
  },
  {
   "cell_type": "code",
   "execution_count": 16,
   "id": "b1b60228",
   "metadata": {},
   "outputs": [
    {
     "name": "stdout",
     "output_type": "stream",
     "text": [
      "[4, 2, 2, 4, 1]\n",
      "[1, 2, 2, 4, 4]\n"
     ]
    }
   ],
   "source": [
    "sorted(l) #[1, 2, 2, 4, 4]\n",
    "print(l)#l will remain as it is\n",
    "l.sort()\n",
    "#l will change \n",
    "print(l)"
   ]
  },
  {
   "cell_type": "code",
   "execution_count": 17,
   "id": "82a7fdc8",
   "metadata": {},
   "outputs": [],
   "source": [
    "def difference_by(a, b, fn):\n",
    "  _b = set(map(fn, b))\n",
    "  return [item for item in a if fn(item) not in _b]"
   ]
  },
  {
   "cell_type": "code",
   "execution_count": 25,
   "id": "667a7956",
   "metadata": {},
   "outputs": [
    {
     "data": {
      "text/plain": [
       "[11.2]"
      ]
     },
     "execution_count": 25,
     "metadata": {},
     "output_type": "execute_result"
    }
   ],
   "source": [
    "from math import floor\n",
    "difference_by([2, 11.2], [2.5, 3.5], floor)"
   ]
  },
  {
   "cell_type": "code",
   "execution_count": 33,
   "id": "7156f801",
   "metadata": {},
   "outputs": [
    {
     "data": {
      "text/plain": [
       "[12]"
      ]
     },
     "execution_count": 33,
     "metadata": {},
     "output_type": "execute_result"
    }
   ],
   "source": [
    "def dif(a,b):\n",
    "    return [i for i in a if i not in set(b)]\n",
    "def make_set(itr):\n",
    "    return set(itr)\n",
    "dif([1,2,3,12],[1,5,2,3,2,4])"
   ]
  },
  {
   "cell_type": "code",
   "execution_count": 34,
   "id": "a931f591",
   "metadata": {},
   "outputs": [
    {
     "data": {
      "text/plain": [
       "[3]"
      ]
     },
     "execution_count": 34,
     "metadata": {},
     "output_type": "execute_result"
    }
   ],
   "source": [
    "def dif(a,b):\n",
    "    _b=set(b)\n",
    "    return [i for i in a if i not in _b]\n",
    "dif([1,2,3],[1,2])"
   ]
  },
  {
   "cell_type": "code",
   "execution_count": 40,
   "id": "8fe2e3f8",
   "metadata": {},
   "outputs": [],
   "source": [
    "def hex_to_rgb(hex):\n",
    "    return tuple(int(hex[i:i+2],16) for i in (0,2,4))"
   ]
  },
  {
   "cell_type": "code",
   "execution_count": 41,
   "id": "5cca209a",
   "metadata": {},
   "outputs": [
    {
     "data": {
      "text/plain": [
       "(255, 165, 1)"
      ]
     },
     "execution_count": 41,
     "metadata": {},
     "output_type": "execute_result"
    }
   ],
   "source": [
    "hex_to_rgb('FFA501')"
   ]
  },
  {
   "cell_type": "code",
   "execution_count": 48,
   "id": "a1dd5121",
   "metadata": {},
   "outputs": [
    {
     "name": "stdout",
     "output_type": "stream",
     "text": [
      "FF\n",
      "A5\n",
      "01\n"
     ]
    }
   ],
   "source": [
    "\n",
    "hex='FFA501'\n",
    "for i in (0,2,4):\n",
    "    print(hex[i:i+2])"
   ]
  },
  {
   "cell_type": "code",
   "execution_count": 10,
   "id": "71e4aa3b",
   "metadata": {},
   "outputs": [
    {
     "name": "stdout",
     "output_type": "stream",
     "text": [
      "['000', '001', '010', '011', '100', '101', '110', '111']\n"
     ]
    }
   ],
   "source": [
    "res=[]\n",
    "def dfs(i,arr):\n",
    "    if(i==len(arr)):\n",
    "#         print(arr)\n",
    "        res.append(\"\".join([str(i) for i in arr]))\n",
    "        return \n",
    "    arr[i]=0\n",
    "    dfs(i+1,arr)\n",
    "    arr[i]=1\n",
    "    dfs(i+1,arr)\n",
    "arr=[None for i in range(3)]\n",
    "dfs(0,arr)\n",
    "print(res)"
   ]
  },
  {
   "cell_type": "code",
   "execution_count": 15,
   "id": "2e2b7ae8",
   "metadata": {},
   "outputs": [
    {
     "name": "stdout",
     "output_type": "stream",
     "text": [
      "['000', '001', '010', '011', '100', '101', '110', '111']\n"
     ]
    }
   ],
   "source": [
    "#generate binary strings\n",
    "def gen(arr,i):\n",
    "    if(i==len(arr)):\n",
    "        res.append(\"\".join([str(i) for i in a]))\n",
    "        return\n",
    "    arr[i]=0\n",
    "    gen(arr,i+1)\n",
    "    arr[i]=1\n",
    "    gen(arr,i+1)\n",
    "res=[]\n",
    "n=3\n",
    "a=[None for _ in range(n)]\n",
    "gen(a,0)\n",
    "print(res)"
   ]
  },
  {
   "cell_type": "code",
   "execution_count": 29,
   "id": "294fa049",
   "metadata": {},
   "outputs": [
    {
     "data": {
      "text/plain": [
       "[[0, 0, 0],\n",
       " [0, 0, 1],\n",
       " [0, 1, 0],\n",
       " [0, 1, 1],\n",
       " [1, 0, 0],\n",
       " [1, 0, 1],\n",
       " [1, 1, 0],\n",
       " [1, 1, 1]]"
      ]
     },
     "execution_count": 29,
     "metadata": {},
     "output_type": "execute_result"
    }
   ],
   "source": [
    "res=[]\n",
    "def dfs(i,arr):\n",
    "    if(i==len(arr)):\n",
    "        res.append(arr.copy())\n",
    "        return\n",
    "    arr[i]=int(0)\n",
    "    dfs(i+1,arr)\n",
    "    arr[i]=int(1)\n",
    "    dfs(i+1,arr)\n",
    "dfs(0,[None,None,None])\n",
    "res"
   ]
  },
  {
   "cell_type": "code",
   "execution_count": 26,
   "id": "5af64cee",
   "metadata": {},
   "outputs": [
    {
     "name": "stdout",
     "output_type": "stream",
     "text": [
      "['000', '001', '010', '011', '100', '101', '110', '111']\n"
     ]
    }
   ],
   "source": [
    "print(res)"
   ]
  },
  {
   "cell_type": "code",
   "execution_count": null,
   "id": "82386a39",
   "metadata": {},
   "outputs": [],
   "source": [
    "def gen(n):\n",
    "    a=[None]*n\n",
    "    res=[]\n",
    "    dfs(res,a,0)\n",
    "    return res\n",
    "def dfs(a,res,i):\n",
    "    if(i==len(arr)):\n",
    "        print\n",
    "        res.append(\"\".join([str(s)]))"
   ]
  },
  {
   "cell_type": "code",
   "execution_count": 1,
   "id": "b58a506c",
   "metadata": {},
   "outputs": [
    {
     "name": "stdout",
     "output_type": "stream",
     "text": [
      "[['x', 'x', 0], ['x', 0, 0], ['x', 'x', 'x']]\n"
     ]
    }
   ],
   "source": [
    "def dfs(grid,i,j):\n",
    "    if(i<0 or j<0 or i>=len(grid) or j>=len(grid[0]) or grid[i][j]!=1):\n",
    "        return \n",
    "    grid[i][j]='x'\n",
    "    dfs(grid,i+1,j)\n",
    "    dfs(grid,i-1,j)\n",
    "    dfs(grid,i,j+1)\n",
    "    dfs(grid,i,j-1)\n",
    "    \n",
    "grid=[[1,1,0],[1,0,0],[1,1,1]]\n",
    "dfs(grid,0,0)\n",
    "print(grid)\n",
    "# for i in range(len(grid)):\n",
    "#     for j in range(len(grid[0])):\n",
    "#         if(grid[i][j]==1):\n",
    "#             dfs(grid,i,j)\n",
    "# print(grid)"
   ]
  },
  {
   "cell_type": "code",
   "execution_count": 15,
   "id": "5dea7239",
   "metadata": {},
   "outputs": [
    {
     "name": "stdout",
     "output_type": "stream",
     "text": [
      "[7, 2, 12, 3, 4, 1, 13]\n"
     ]
    }
   ],
   "source": [
    "def sep(a):\n",
    "    l=0\n",
    "    r=len(a)-1\n",
    "    for i in range(len(a)):\n",
    "        if(a[l]%2):\n",
    "            a[l],a[r]=a[r],a[l]\n",
    "            r-=1\n",
    "        else:\n",
    "            a[l],a[r]=a[r],a[l]\n",
    "            l+=1\n",
    "    print(a)\n",
    "sep([12,13,4,1,3,2,7])"
   ]
  },
  {
   "cell_type": "code",
   "execution_count": 3,
   "id": "8780104b",
   "metadata": {},
   "outputs": [
    {
     "data": {
      "text/plain": [
       "[[], [1], [1, 2], [1, 2, 3], [1, 3], [2], [2, 3], [3]]"
      ]
     },
     "execution_count": 3,
     "metadata": {},
     "output_type": "execute_result"
    }
   ],
   "source": [
    "def subset(a):\n",
    "    res=[]\n",
    "    dfs(a,[],res)\n",
    "    return res\n",
    "def dfs(a,path,res):\n",
    "    res.append(path)\n",
    "    for i in range(len(a)):\n",
    "        dfs(a[i+1:],path+[a[i]],res)\n",
    "subset([1,2,3])"
   ]
  },
  {
   "cell_type": "code",
   "execution_count": 7,
   "id": "b817f4f1",
   "metadata": {},
   "outputs": [
    {
     "data": {
      "text/plain": [
       "[[1, 1, 3], [1, 3, 1], [3, 1, 1]]"
      ]
     },
     "execution_count": 7,
     "metadata": {},
     "output_type": "execute_result"
    }
   ],
   "source": [
    "def per(nums):\n",
    "    res=[]\n",
    "    dfs(nums,[],res)\n",
    "    return res\n",
    "def dfs(a,path,res):\n",
    "    if(not a):\n",
    "        if path not in res:\n",
    "            res.append(path)\n",
    "    for i in range(len(a)):\n",
    "        dfs(a[:i]+a[i+1:],path+[a[i]],res)\n",
    "per([1,1,3])"
   ]
  },
  {
   "cell_type": "code",
   "execution_count": 23,
   "id": "90fd1552",
   "metadata": {},
   "outputs": [
    {
     "name": "stdout",
     "output_type": "stream",
     "text": [
      "[['eat', 'tea', 'ate'], ['tan', 'nat'], ['bat']]\n"
     ]
    }
   ],
   "source": [
    "dic={}\n",
    "a=[\"eat\",\"tea\",\"tan\",\"ate\",\"nat\",\"bat\"]\n",
    "for i in a:\n",
    "    k=tuple(sorted(i))\n",
    "    dic[k]=dic.get(k,[])+[i]\n",
    "print(list(dic.values()))"
   ]
  },
  {
   "cell_type": "code",
   "execution_count": 18,
   "id": "eae7c86c",
   "metadata": {},
   "outputs": [
    {
     "data": {
      "text/plain": [
       "['bat']"
      ]
     },
     "execution_count": 18,
     "metadata": {},
     "output_type": "execute_result"
    }
   ],
   "source": [
    "dic.get(k,[])"
   ]
  },
  {
   "cell_type": "code",
   "execution_count": 24,
   "id": "2d1a0d1d",
   "metadata": {},
   "outputs": [
    {
     "name": "stdout",
     "output_type": "stream",
     "text": [
      "4\n"
     ]
    }
   ],
   "source": [
    "def lcs(X,Y,m,n):\n",
    "    if(m==0 or n==0):\n",
    "        return 0\n",
    "    elif(X[m-1]==Y[n-1]):\n",
    "        return 1+lcs(X,Y,m-1,n-1)\n",
    "    else:\n",
    "        return max(lcs(X,Y,m,n-1),lcs(X,Y,m-1,n))\n",
    "X=\"AGGTAB\"\n",
    "Y=\"GXTXAYB\"\n",
    "print(lcs(X,Y,len(X),len(Y)))"
   ]
  },
  {
   "cell_type": "code",
   "execution_count": 28,
   "id": "85d72578",
   "metadata": {},
   "outputs": [
    {
     "name": "stdout",
     "output_type": "stream",
     "text": [
      "[0, 1, 1, 2, 2, 3, 3, 3] [0, 1, 1, 2, 2, 3, 3, 4]\n"
     ]
    },
    {
     "data": {
      "text/plain": [
       "4"
      ]
     },
     "execution_count": 28,
     "metadata": {},
     "output_type": "execute_result"
    }
   ],
   "source": [
    "def lcs(s1,s2):\n",
    "    m,n=len(s1),len(s2)\n",
    "    prev,cur=[0]*(n+1),[0]*(n+1)\n",
    "    \n",
    "    for i in range(1,m+1):\n",
    "        for j in range(1,n+1):\n",
    "            if(s1[i-1]==s2[j-1]):\n",
    "                cur[j]=1+prev[j-1]\n",
    "            else:\n",
    "                if(cur[j-1]>prev[j]):\n",
    "                    cur[j]=cur[j-1]\n",
    "                else:\n",
    "                    cur[j]=prev[j]\n",
    "        cur,prev=prev,cur\n",
    "    print(cur,prev)\n",
    "    return prev[n]\n",
    "X=\"AGGTAB\"\n",
    "Y==\"GXTXAYB\"\n",
    "lcs(X,Y)"
   ]
  },
  {
   "cell_type": "code",
   "execution_count": 33,
   "id": "ea6c2fdd",
   "metadata": {},
   "outputs": [
    {
     "name": "stdout",
     "output_type": "stream",
     "text": [
      "[[0, 0, 0, 0, 0, 0, 0, 0], [0, 0, 0, 0, 0, 1, 1, 1], [0, 1, 1, 1, 1, 1, 1, 1], [0, 1, 1, 1, 1, 1, 1, 1], [0, 1, 1, 2, 2, 2, 2, 2], [0, 1, 1, 2, 2, 3, 3, 3], [0, 1, 1, 2, 2, 3, 3, 4]]\n"
     ]
    },
    {
     "data": {
      "text/plain": [
       "4"
      ]
     },
     "execution_count": 33,
     "metadata": {},
     "output_type": "execute_result"
    }
   ],
   "source": [
    "def lcs(X,Y):\n",
    "    m=len(X)\n",
    "    n=len(Y)\n",
    "    dp=[[None]*(n+1) for i in range(m+1)]\n",
    "    for i in range(m+1):\n",
    "          for j in range(n+1):\n",
    "                if(i==0 or j==0):\n",
    "                    dp[i][j]=0\n",
    "                elif(X[i-1]==Y[j-1]):\n",
    "                    dp[i][j]=dp[i-1][j-1]+1\n",
    "                else:\n",
    "                    dp[i][j]=max(dp[i-1][j],dp[i][j-1])\n",
    "    print(dp)\n",
    "    return dp[m][n]\n",
    "X=\"AGGTAB\"\n",
    "Y==\"GXTXAYB\"\n",
    "lcs(X,Y)"
   ]
  },
  {
   "cell_type": "code",
   "execution_count": 54,
   "id": "972065c1",
   "metadata": {},
   "outputs": [
    {
     "name": "stdout",
     "output_type": "stream",
     "text": [
      "[False, False, False, False, False, False, False, False, True, False, True]\n"
     ]
    },
    {
     "data": {
      "text/plain": [
       "'aaaasaaaa'"
      ]
     },
     "execution_count": 54,
     "metadata": {},
     "output_type": "execute_result"
    }
   ],
   "source": [
    "def lPal(s):\n",
    "    res=\"\"\n",
    "    dp=[None for _ in range(len(s))]\n",
    "    for j in range(len(s)):\n",
    "        for i in range(j+1):\n",
    "            if(i==j):\n",
    "                dp[i]=True\n",
    "            elif j==i+1:\n",
    "                dp[i]=(s[i]==s[j])\n",
    "            else:\n",
    "                dp[i]=(dp[i+1] and s[i]==s[j])\n",
    "            if dp[i] and j-i+1>len(res):\n",
    "                res=s[i:j+1]\n",
    "    print(dp)\n",
    "    return res\n",
    "lPal('aaaasaaaaca')\n"
   ]
  },
  {
   "cell_type": "code",
   "execution_count": 56,
   "id": "2c6c14c7",
   "metadata": {},
   "outputs": [
    {
     "data": {
      "text/plain": [
       "'aaaasaaaa'"
      ]
     },
     "execution_count": 56,
     "metadata": {},
     "output_type": "execute_result"
    }
   ],
   "source": [
    "def longestPalindrome(s: str) -> str:\n",
    "        if s== \"\":\n",
    "            return s\n",
    "        res = \"\"\n",
    "        dp = [None for i in range(len(s))]\n",
    "        for j in range(len(s)):\n",
    "            for i in range(j+1):\n",
    "                if i == j:\n",
    "                    dp[i] = True\n",
    "                elif j == i+1:\n",
    "                    dp[i] = (s[i] == s[j])\n",
    "                else:\n",
    "                    dp[i] = (dp[i+1] and s[i] == s[j])\n",
    "                if dp[i] and j - i + 1 > len(res):\n",
    "                    res = s[i:j+1]\n",
    "        return res\n",
    "longestPalindrome(\"aaaasaaaaca\")"
   ]
  },
  {
   "cell_type": "code",
   "execution_count": 72,
   "id": "5afe391b",
   "metadata": {},
   "outputs": [
    {
     "name": "stdout",
     "output_type": "stream",
     "text": [
      "0 0 b\n",
      "[1, 0, 0, 0, 0, 0, 0, 0, 0, 0, 0]\n",
      "0 1 bb\n",
      "[1, 0, 0, 0, 0, 0, 0, 0, 0, 0, 0]\n",
      "2 4 aaa\n",
      "[0, 0, 1, 1, 0, 0, 0, 0, 0, 0, 0]\n",
      "2 5 aaaa\n",
      "[0, 0, 1, 1, 1, 0, 0, 0, 0, 0, 0]\n",
      "4 8 aasaa\n",
      "[0, 0, 0, 0, 1, 1, 0, 1, 0, 0, 0]\n"
     ]
    },
    {
     "data": {
      "text/plain": [
       "'aasaa'"
      ]
     },
     "execution_count": 72,
     "metadata": {},
     "output_type": "execute_result"
    }
   ],
   "source": [
    "def lps(s):\n",
    "    if s==\"\":\n",
    "        return s\n",
    "    res=''\n",
    "    dp=[0 for i in range(len(s))]\n",
    "    for j in range(len(s)):\n",
    "        for i in range(j+1):\n",
    "            if(i==j):\n",
    "                dp[i]=1\n",
    "            elif(j==i+1):\n",
    "                dp[i]=int(s[i]==s[j])\n",
    "            else:\n",
    "                dp[i]=int(dp[i+1] and s[i]==s[j])\n",
    "            if dp[i] and j-i+1>len(res):\n",
    "                res=s[i:j+1]\n",
    "                print(i,j,res)\n",
    "                print(dp)\n",
    "    return res\n",
    "lps(\"bbaaaasaabs\")"
   ]
  },
  {
   "cell_type": "code",
   "execution_count": 81,
   "id": "98eb432d",
   "metadata": {},
   "outputs": [
    {
     "name": "stdout",
     "output_type": "stream",
     "text": [
      "['e', 'aa', 'taat', 'aataa']\n"
     ]
    }
   ],
   "source": [
    "def lps(s):\n",
    "    if s==\"\":\n",
    "        return s\n",
    "    res=\"\"\n",
    "    dp=[0 for i in range(len(s))]\n",
    "    for j in range(len(s)):\n",
    "        for i in range(j+1):\n",
    "            if(i==j):\n",
    "                dp[i]=1\n",
    "            elif(j==i+1):\n",
    "                dp[i]=int(s[i]==s[j])\n",
    "            else:\n",
    "                dp[i]=int(dp[i+1] and s[i]==s[j])\n",
    "            if dp[i] and j-i+1>len(res):\n",
    "                res=s[i:j+1]\n",
    "                ans.append(res)\n",
    "    return res\n",
    "ans=[]\n",
    "lps(\"etaataaaa\")\n",
    "print(ans)"
   ]
  },
  {
   "cell_type": "code",
   "execution_count": 7,
   "id": "5d4f0e86",
   "metadata": {},
   "outputs": [
    {
     "name": "stdout",
     "output_type": "stream",
     "text": [
      "time witout cache 3.0209784507751465\n",
      "time with cache 0.0\n"
     ]
    }
   ],
   "source": [
    "#lru cache\n",
    "import time\n",
    "from functools import lru_cache\n",
    "\n",
    "def fib_wout(n):\n",
    "    if n<2:\n",
    "        return n\n",
    "    else:\n",
    "        return fib_wout(n-1)+fib_wout(n-2)\n",
    "\n",
    "begin=time.time()\n",
    "fib_wout(33)\n",
    "end=time.time()\n",
    "print(\"time witout cache\",end-begin)\n",
    "\n",
    "@lru_cache(maxsize=128)\n",
    "def fib(n):\n",
    "    if n<2:\n",
    "        return n\n",
    "    else:\n",
    "        return fib(n-1)+fib(n-2)\n",
    "begin=time.time()\n",
    "fib(33)\n",
    "end=time.time()\n",
    "print(\"time with cache\",end-begin)"
   ]
  },
  {
   "cell_type": "code",
   "execution_count": 22,
   "id": "2565898c",
   "metadata": {},
   "outputs": [
    {
     "name": "stdout",
     "output_type": "stream",
     "text": [
      "time with cache 15.328674077987671\n"
     ]
    }
   ],
   "source": [
    "def per(a):\n",
    "    res=[]\n",
    "    dfs(a,[],res)\n",
    "    return res\n",
    "# @lru_cache(None)\n",
    "def dfs(a,path,res):\n",
    "    if not a:\n",
    "        res.append(path)\n",
    "        return\n",
    "    for i in range(len(a)):\n",
    "        dfs(a[:i]+a[i+1:],path+[a[i]],res)\n",
    "\n",
    "begin=time.time()\n",
    "(per([1,2,3,4,5,6,7,8,9,10]))\n",
    "end=time.time()\n",
    "print(\"time with\",end-begin)"
   ]
  },
  {
   "cell_type": "code",
   "execution_count": 39,
   "id": "2beba772",
   "metadata": {},
   "outputs": [
    {
     "name": "stdout",
     "output_type": "stream",
     "text": [
      "45\n",
      "time with 0.0\n"
     ]
    }
   ],
   "source": [
    "# @lru_cache(None)\n",
    "def c_vowels(s):\n",
    "    s=s.casefold()\n",
    "    return sum(s.count(v) for v in 'aeiou')\n",
    "\n",
    "begin=time.time()\n",
    "print(c_vowels(\"hello hoasa aaa asa sdjajsndanjsnaj saasnas good to  aha a a a aa a  ago w  where is the things what are you doing are you\"))\n",
    "end=time.time()\n",
    "print(\"time with\",end-begin)"
   ]
  },
  {
   "cell_type": "code",
   "execution_count": 27,
   "id": "e15fa33a",
   "metadata": {},
   "outputs": [
    {
     "name": "stdout",
     "output_type": "stream",
     "text": [
      "heallo\n"
     ]
    }
   ],
   "source": [
    "s=\"heAllo\"\n",
    "print(s.lower())"
   ]
  },
  {
   "cell_type": "code",
   "execution_count": 40,
   "id": "9412fb71",
   "metadata": {},
   "outputs": [],
   "source": [
    "def ValidSudoku(board):\n",
    "    r=[set() for _ in range(9)]\n",
    "    c=[set() for _ in range(9)]\n",
    "    m=[set() for _ in range(9)]\n",
    "    for i in range(9):\n",
    "        for j in range(9):\n",
    "            cur=board[i][j]\n",
    "            if cur!='.':\n",
    "                k=(i//3)*3+ j//3\n",
    "                if cur not in r[i]:\n",
    "                    r[i].add(cur)\n",
    "                else:\n",
    "                    return 0\n",
    "                \n",
    "                if cur not in c[j]:\n",
    "                    c[j].add(cur)\n",
    "                else:\n",
    "                    return 0\n",
    "                \n",
    "                if cur not in [k]:\n",
    "                    m[k].add(cur)\n",
    "                else:\n",
    "                    return 0\n",
    "    return 1\n"
   ]
  },
  {
   "cell_type": "code",
   "execution_count": 51,
   "id": "ef7e8037",
   "metadata": {},
   "outputs": [
    {
     "data": {
      "text/plain": [
       "13"
      ]
     },
     "execution_count": 51,
     "metadata": {},
     "output_type": "execute_result"
    }
   ],
   "source": [
    "@lru_cache(None)\n",
    "def nStairs(n):\n",
    "    if(n==0):\n",
    "        return 0\n",
    "    elif(n<=1):\n",
    "        return n\n",
    "    elif(n==2):\n",
    "        return 1\n",
    "    else:\n",
    "        return nStairs(n-2)+nStairs(n-1)\n",
    "nStairs(7)"
   ]
  },
  {
   "cell_type": "code",
   "execution_count": 27,
   "id": "f13ca23e",
   "metadata": {},
   "outputs": [
    {
     "data": {
      "text/plain": [
       "8"
      ]
     },
     "execution_count": 27,
     "metadata": {},
     "output_type": "execute_result"
    }
   ],
   "source": [
    "def maxAlternatingSUm(a):\n",
    "    odd=eve=0\n",
    "    for i in a:\n",
    "        odd,eve=[max(odd,eve-i),max(eve,odd+i)]\n",
    "    return eve\n",
    "maxAlternatingSUm([1,4,3,2,1,4,1,2])"
   ]
  },
  {
   "cell_type": "code",
   "execution_count": 37,
   "id": "a40fd66a",
   "metadata": {},
   "outputs": [
    {
     "data": {
      "text/plain": [
       "2781184"
      ]
     },
     "execution_count": 37,
     "metadata": {},
     "output_type": "execute_result"
    }
   ],
   "source": [
    "from functools import lru_cache\n",
    "@lru_cache(maxsize=120)\n",
    "def combination(n,m):\n",
    "    if(n==0 or m==0 or n==m):\n",
    "        return 1\n",
    "    else:\n",
    "        return combination(m-1,n)+combination(m-1,n-1)\n",
    "combination(43,15)"
   ]
  },
  {
   "cell_type": "code",
   "execution_count": 56,
   "id": "5dc808c7",
   "metadata": {},
   "outputs": [
    {
     "data": {
      "text/plain": [
       "13"
      ]
     },
     "execution_count": 56,
     "metadata": {},
     "output_type": "execute_result"
    }
   ],
   "source": [
    "def nStairs(n):\n",
    "    dp=[0]*n\n",
    "    dp[2]=2\n",
    "    dp[3]=3\n",
    "    for i in range(4,n):\n",
    "        dp[i]=dp[i-1]+dp[i-2]\n",
    "    return dp[n-1]\n",
    "nStairs(7)"
   ]
  },
  {
   "cell_type": "code",
   "execution_count": 71,
   "id": "07e38222",
   "metadata": {},
   "outputs": [
    {
     "name": "stdout",
     "output_type": "stream",
     "text": [
      "[[1, 1, 1], [1, 0, 0], [1, 0, 0]]\n"
     ]
    }
   ],
   "source": [
    "def paths(mat):\n",
    "    if(mat[0][0]==1):\n",
    "        return 0\n",
    "    m=len(mat)\n",
    "    n=len(mat[0])\n",
    "    dp=[[0]*n for i in range(m)]\n",
    "    dp[0][0]=1\n",
    "    for i in range(1,m):\n",
    "        if(mat[0][i]==0):\n",
    "            dp[i][0]=dp[i-1][0]\n",
    "        else:\n",
    "            dp[i][0]=0\n",
    "    for j in range(1,n):\n",
    "        if(mat[0][j]==0):\n",
    "            dp[0][j]+=dp[0][j-1]\n",
    "        else:\n",
    "            dp[0][j]=0\n",
    "    print(dp)\n",
    "paths([[0,0,0],[1,0,0],[0,0,0]])"
   ]
  },
  {
   "cell_type": "code",
   "execution_count": 5,
   "id": "53169036",
   "metadata": {},
   "outputs": [
    {
     "name": "stdout",
     "output_type": "stream",
     "text": [
      "[[1, 4, 9, 17], [5, 6, 7, 14], [9, 9, 9, 12]]\n"
     ]
    },
    {
     "data": {
      "text/plain": [
       "12"
      ]
     },
     "execution_count": 5,
     "metadata": {},
     "output_type": "execute_result"
    }
   ],
   "source": [
    "def minCost(mat):\n",
    "    m=len(mat)\n",
    "    n=len(mat[0])\n",
    "    for i in range(1,m):\n",
    "        mat[i][0]+=mat[i-1][0]\n",
    "    for j in range(1,n):\n",
    "        mat[0][j]+=mat[0][j-1]\n",
    "    for i in range(1,m):\n",
    "        for j in range(1,n):\n",
    "            mat[i][j]+=min(mat[i-1][j],mat[i][j-1])\n",
    "    print(mat)\n",
    "    return mat[m-1][n-1]\n",
    "minCost([[1,3,5,8],[4,2,1,7],[4,3,2,3]])"
   ]
  },
  {
   "cell_type": "code",
   "execution_count": 7,
   "id": "20ca11f2",
   "metadata": {},
   "outputs": [
    {
     "data": {
      "text/plain": [
       "12"
      ]
     },
     "execution_count": 7,
     "metadata": {},
     "output_type": "execute_result"
    }
   ],
   "source": [
    "def mC(mat):\n",
    "    m=len(mat)\n",
    "    n=len(mat[0])\n",
    "    for i in range(1,m):\n",
    "        mat[i][0]+=mat[i-1][0]\n",
    "    for j in range(1,n):\n",
    "        mat[0][j]+=mat[0][j-1]\n",
    "    for i in range(1,m):\n",
    "        for j in range(1,n):\n",
    "            mat[i][j]+=min(mat[i-1][j],mat[i][j-1])\n",
    "    return mat[m-1][n-1]\n",
    "mC([[1,3,5,8],[4,2,1,7],[4,3,2,3]])"
   ]
  },
  {
   "cell_type": "code",
   "execution_count": 15,
   "id": "f692f6df",
   "metadata": {},
   "outputs": [
    {
     "data": {
      "text/plain": [
       "[12, 20, 8, 4]"
      ]
     },
     "execution_count": 15,
     "metadata": {},
     "output_type": "execute_result"
    }
   ],
   "source": [
    "l=[3,5,2,1]\n",
    "# def mul(a):\n",
    "#     return a*2\n",
    "l=list(map(lambda x:4*x,l))\n",
    "l"
   ]
  },
  {
   "cell_type": "code",
   "execution_count": 16,
   "id": "b741fdca",
   "metadata": {},
   "outputs": [
    {
     "name": "stdout",
     "output_type": "stream",
     "text": [
      "3 1 4 1\n"
     ]
    }
   ],
   "source": [
    "a=input()"
   ]
  },
  {
   "cell_type": "code",
   "execution_count": 19,
   "id": "fd363fb2",
   "metadata": {},
   "outputs": [
    {
     "data": {
      "text/plain": [
       "['3', '1', '4', '1']"
      ]
     },
     "execution_count": 19,
     "metadata": {},
     "output_type": "execute_result"
    }
   ],
   "source": [
    "a.split(\" \")\n"
   ]
  },
  {
   "cell_type": "code",
   "execution_count": 27,
   "id": "01d4eb10",
   "metadata": {},
   "outputs": [
    {
     "name": "stdout",
     "output_type": "stream",
     "text": [
      "13\n"
     ]
    }
   ],
   "source": [
    "increment = list([lambda x: x + i for i in range(10)])\n",
    "print (increment[3](4) )"
   ]
  },
  {
   "cell_type": "code",
   "execution_count": 33,
   "id": "b9454849",
   "metadata": {},
   "outputs": [
    {
     "data": {
      "text/plain": [
       "13"
      ]
     },
     "execution_count": 33,
     "metadata": {},
     "output_type": "execute_result"
    }
   ],
   "source": [
    "def rb(nums):\n",
    "    a=b=0\n",
    "    for i in range(len(nums)):\n",
    "        if(i%2==0):\n",
    "            a=max(a+nums[i],b)\n",
    "        else:\n",
    "            b=max(b+nums[i],a)\n",
    "    return max(a,b)\n",
    "rb([3,2,4,1,5,6])"
   ]
  },
  {
   "cell_type": "code",
   "execution_count": 47,
   "id": "993bfb70",
   "metadata": {},
   "outputs": [
    {
     "name": "stdout",
     "output_type": "stream",
     "text": [
      "4\n",
      "5\n",
      "6\n"
     ]
    }
   ],
   "source": [
    "class Node:\n",
    "    def __init__(self,data):\n",
    "        self.data=data\n",
    "        self.next=None\n",
    "        self.prev=None\n",
    "def insert(root,data):\n",
    "    if(root==None):\n",
    "        return Node(data)\n",
    "    else:\n",
    "        p=root\n",
    "        while(p.next!=None):\n",
    "            p=p.next\n",
    "        p.next=Node(data)\n",
    "def insertP(root,data):\n",
    "    if not root:\n",
    "        return \n",
    "    else:\n",
    "        p=q=root\n",
    "        while(p.data<data):\n",
    "            q=p\n",
    "            p=p.next\n",
    "        q.next=Node(data)\n",
    "        q.next.next=p.prev\n",
    "def display(root):\n",
    "    if(root):\n",
    "        print(root.data)\n",
    "        display(root.next)\n",
    "root=Node(4)\n",
    "insert(root,5)\n",
    "insert(root,7)\n",
    "insertP(root,6)\n",
    "display(root)"
   ]
  },
  {
   "cell_type": "code",
   "execution_count": 59,
   "id": "460e8bed",
   "metadata": {},
   "outputs": [
    {
     "data": {
      "text/plain": [
       "10"
      ]
     },
     "execution_count": 59,
     "metadata": {},
     "output_type": "execute_result"
    }
   ],
   "source": [
    "def tp(m,n):\n",
    "    \n",
    "    if m==1 or n==1:\n",
    "        return 1\n",
    "    else:\n",
    "        return tp(m-1,n)+tp(m,n-1)\n",
    "tp(3,4)"
   ]
  },
  {
   "cell_type": "code",
   "execution_count": 10,
   "id": "a9004b2f",
   "metadata": {},
   "outputs": [
    {
     "data": {
      "text/plain": [
       "78"
      ]
     },
     "execution_count": 10,
     "metadata": {},
     "output_type": "execute_result"
    }
   ],
   "source": [
    "def np(m,n):\n",
    "    if(m==1 or n==1):\n",
    "        return 1\n",
    "    else:\n",
    "        return np(m,n-1)+np(m-1,n)\n",
    "np(12,3)"
   ]
  },
  {
   "cell_type": "code",
   "execution_count": 30,
   "id": "d75234e3",
   "metadata": {},
   "outputs": [
    {
     "name": "stdout",
     "output_type": "stream",
     "text": [
      "[1, 9, 36, 84, 126, 126, 84, 36, 9, 1]\n"
     ]
    }
   ],
   "source": [
    "def p(n):\n",
    "    dp=[[1 if(i==0 or j==0) else 0 for i in range(n-1)] for j in range(n)]\n",
    "    for i in range(1,n):\n",
    "        for j in range(1,i):\n",
    "            dp[i][j]=dp[i-1][j-1]+dp[i-1][j]\n",
    "    print(dp[n-1])\n",
    "p(11)"
   ]
  },
  {
   "cell_type": "code",
   "execution_count": 26,
   "id": "f5e85657",
   "metadata": {},
   "outputs": [
    {
     "name": "stdout",
     "output_type": "stream",
     "text": [
      "[1, 9, 36, 84, 126, 126, 84, 36, 9, 1]\n"
     ]
    }
   ],
   "source": [
    "def p(n):\n",
    "    dp=[[1]*(j+1) for j in range(n)]\n",
    "    for i in range(1,n):\n",
    "        for j in range(1,i):\n",
    "            dp[i][j]=dp[i-1][j-1]+dp[i-1][j]\n",
    "    print(dp[n-1])\n",
    "p(10)"
   ]
  },
  {
   "cell_type": "code",
   "execution_count": 43,
   "id": "cc38fb72",
   "metadata": {},
   "outputs": [
    {
     "name": "stdout",
     "output_type": "stream",
     "text": [
      "field\n"
     ]
    }
   ],
   "source": [
    "def commonPrefix(s1,s2):\n",
    "    s=''\n",
    "    for i in range(1,len(s1)):\n",
    "        if(s1[-i]==s2[-i]):\n",
    "            s=s1[-i]+s\n",
    "    print(s)\n",
    "commonPrefix('maxfield','cornfield')"
   ]
  },
  {
   "cell_type": "code",
   "execution_count": 47,
   "id": "2bec5700",
   "metadata": {},
   "outputs": [
    {
     "name": "stdout",
     "output_type": "stream",
     "text": [
      "7\n"
     ]
    }
   ],
   "source": [
    "class Node:\n",
    "    def __init__(self,data):\n",
    "        self.data=data\n",
    "        self.next=None\n",
    "def insert(root,data):\n",
    "    if(root is None):\n",
    "        return Node(data)\n",
    "    else:\n",
    "        p=root\n",
    "        while(p.next!=None):\n",
    "            p=p.next\n",
    "        p.next=Node(data)\n",
    "def displa(root):\n",
    "    if root:\n",
    "        print(root.data)\n",
    "        display(root.next)\n",
    "def mid(root):\n",
    "    s=f=root\n",
    "    while(f.next and f.next.next):\n",
    "        s=s.next\n",
    "        f=f.next.next\n",
    "    if(f.next):\n",
    "        s=s.next\n",
    "    print(s.data)\n",
    "\n",
    "root=Node(4)\n",
    "insert(root,5)\n",
    "insert(root,7)\n",
    "insert(root,6)\n",
    "insert(root,8)\n",
    "insert(root,9)\n",
    "mid(root)"
   ]
  },
  {
   "cell_type": "code",
   "execution_count": 76,
   "id": "d933b97a",
   "metadata": {},
   "outputs": [
    {
     "name": "stdout",
     "output_type": "stream",
     "text": [
      "[[0, 1, 2, 3], [1, 0, 1, 2], [2, 1, 0, 1], [3, 2, 1, 0], [4, 3, 2, 1]]\n"
     ]
    }
   ],
   "source": [
    "def eD(s1,s2):\n",
    "    m=len(s1)+1\n",
    "    n=len(s2)+1\n",
    "    dp=[[0 for i in range(n)] for j in range(m)]\n",
    "    for i in range(1,m):\n",
    "        dp[i][0]=i\n",
    "    for j in range(1,n):\n",
    "        dp[0][j]=j\n",
    "    for i in range(1,m):\n",
    "        for j in range(1,n):\n",
    "            if(s1[i-1]==s2[j-1]):\n",
    "                dp[i][j]=dp[i-1][j-1]\n",
    "            else:\n",
    "                dp[i][j]=min(dp[i-1][j],dp[i][j-1],dp[i-1][j-1])+1\n",
    "            \n",
    "    print(dp)\n",
    "eD('abce','abc')"
   ]
  },
  {
   "cell_type": "code",
   "execution_count": 78,
   "id": "687bd6e3",
   "metadata": {},
   "outputs": [
    {
     "data": {
      "text/plain": [
       "4"
      ]
     },
     "execution_count": 78,
     "metadata": {},
     "output_type": "execute_result"
    }
   ],
   "source": [
    "def lcs(s1,s2,m,n):\n",
    "    if(m==0 or n==0):\n",
    "        return 0\n",
    "    if(s1[m-1]==s2[n-1]):\n",
    "        return 1+lcs(s1,s2,m-1,n-1)\n",
    "    else:\n",
    "        return max(lcs(s1,s2,m-1,n),lcs(s1,s2,m,n-1))\n",
    "a=\"AGGTAB\"\n",
    "b = \"GXTXAYB\"\n",
    "lcs(a,b,len(a),len(b))"
   ]
  },
  {
   "cell_type": "code",
   "execution_count": 92,
   "id": "6e28b0d5",
   "metadata": {},
   "outputs": [
    {
     "data": {
      "text/plain": [
       "1"
      ]
     },
     "execution_count": 92,
     "metadata": {},
     "output_type": "execute_result"
    }
   ],
   "source": [
    "def lcs(s1,s2,m,n):\n",
    "    dp=[[0]*(n+1) for i in range(m+1)]\n",
    "    for i in range(m+1):\n",
    "        for j in range(n+1):\n",
    "            if(i==0 or j==0):\n",
    "                dp[i][j]=0\n",
    "            if(s1[i-1]==s2[j-1]):\n",
    "                dp[i][j]=dp[i-1][j-1]+1\n",
    "            else:\n",
    "                dp[i][j]=max(dp[i-1][j],dp[i][j-1])\n",
    "    return dp[m-1][n-1]\n",
    "a=\"AGG\"\n",
    "b = \"GXT\"\n",
    "lcs(a,b,len(a),len(b))"
   ]
  },
  {
   "cell_type": "code",
   "execution_count": null,
   "id": "40146a60",
   "metadata": {},
   "outputs": [],
   "source": [
    "1.Longest common subsequence rec and dp\n",
    "2.Longest Plaindrome\n",
    "3."
   ]
  },
  {
   "cell_type": "code",
   "execution_count": 100,
   "id": "1a370af1",
   "metadata": {},
   "outputs": [],
   "source": [
    "dic={}"
   ]
  },
  {
   "cell_type": "code",
   "execution_count": 133,
   "id": "69d5be51",
   "metadata": {},
   "outputs": [
    {
     "data": {
      "text/plain": [
       "[[3, 1], [4, 2]]"
      ]
     },
     "execution_count": 133,
     "metadata": {},
     "output_type": "execute_result"
    }
   ],
   "source": [
    "def transpose(mat):\n",
    "    for i in range(len(mat)):\n",
    "        for j in range(i,len(mat)):\n",
    "            mat[i][j],mat[j][i]=mat[j][i],mat[i][j]\n",
    "# mat=[[1,2,3],[4,5,6],[7,8,9]]\n",
    "mat=[[1,2],[3,4]]\n",
    "transpose(mat)\n",
    "mat\n",
    "n=len(mat)\n",
    "for i in range(n):\n",
    "    for j in range(n//2):\n",
    "        mat[i][j],mat[i][-j-1]=mat[i][-j-1],mat[i][j]\n",
    "\n",
    "mat"
   ]
  },
  {
   "cell_type": "code",
   "execution_count": 129,
   "id": "c2f9e97c",
   "metadata": {},
   "outputs": [
    {
     "data": {
      "text/plain": [
       "[[3, 1], [4, 2]]"
      ]
     },
     "execution_count": 129,
     "metadata": {},
     "output_type": "execute_result"
    }
   ],
   "source": [
    "# mat=[[1,3],[2,4]]\n",
    "n=len(mat)\n",
    "for i in range(n):\n",
    "    for j in range(n//2):\n",
    "        mat[i][j],mat[i][-j-1]=mat[i][-j-1],mat[i][j]\n",
    "mat"
   ]
  },
  {
   "cell_type": "code",
   "execution_count": 108,
   "id": "4f54c1d3",
   "metadata": {},
   "outputs": [
    {
     "data": {
      "text/plain": [
       "[[1, 4, 7], [5, 8, 2], [6, 9, 3]]"
      ]
     },
     "execution_count": 108,
     "metadata": {},
     "output_type": "execute_result"
    }
   ],
   "source": [
    "mat"
   ]
  },
  {
   "cell_type": "code",
   "execution_count": 141,
   "id": "9368ec0a",
   "metadata": {},
   "outputs": [
    {
     "name": "stdout",
     "output_type": "stream",
     "text": [
      "[0, 1, 0]\n"
     ]
    }
   ],
   "source": [
    "words = [\"abc\",\"deq\",\"mee\",\"aqq\",\"dkd\",\"ccc\"]\n",
    "pattern = \"mee\"\n",
    "pat=[0]*len(words[0])\n",
    "pattern+='^'\n",
    "for i in range(len(pattern)-1):\n",
    "    if(pattern[i]==pattern[i+1]):\n",
    "        pat[i]+=1\n",
    "print(pat)"
   ]
  },
  {
   "cell_type": "code",
   "execution_count": 177,
   "id": "46faeb6b",
   "metadata": {},
   "outputs": [
    {
     "data": {
      "text/plain": [
       "24"
      ]
     },
     "execution_count": 177,
     "metadata": {},
     "output_type": "execute_result"
    }
   ],
   "source": [
    "def sliding(a,k):\n",
    "    w_sum=sum(a[:k])\n",
    "    j,m=k,w_sum\n",
    "    for i in range(len(a)-k):\n",
    "        m=a[j]+m-a[i]\n",
    "        if(w_sum<m):\n",
    "            w_sum=m\n",
    "        j+=1\n",
    "    return w_sum\n",
    "sliding([3,3,14,6,4,1,6,7,8,2],3)"
   ]
  },
  {
   "cell_type": "code",
   "execution_count": 17,
   "id": "42ac4f07",
   "metadata": {},
   "outputs": [
    {
     "name": "stdout",
     "output_type": "stream",
     "text": [
      "2\n",
      "3\n",
      "5\n",
      "8\n",
      "9\n"
     ]
    }
   ],
   "source": [
    "#All about bst\n",
    "class Node:\n",
    "    def __init__(self,data):\n",
    "        self.data=data\n",
    "        self.left=None\n",
    "        self.right=None\n",
    "def insert(root,data):\n",
    "    if(root==None):\n",
    "        return Node(data)\n",
    "    else:\n",
    "        if(root.data==data):\n",
    "            return\n",
    "        elif(root.data>data):\n",
    "            root.left=insert(root.left,data)\n",
    "        else:\n",
    "            root.right=insert(root.right,data)\n",
    "    return root\n",
    "def inorder(root):\n",
    "    if(root.left):\n",
    "        inorder(root.left)\n",
    "    if(root):\n",
    "        print(root.data)\n",
    "    if(root.right):\n",
    "        inorder(root.right)\n",
    "def stin(root):\n",
    "    st=[]\n",
    "    cur=root\n",
    "    while(1):\n",
    "        if(cur):\n",
    "            st.append(cur)\n",
    "            cur=cur.left\n",
    "        elif(st):\n",
    "            cur=st.pop()\n",
    "            print(cur.data)\n",
    "#             cur=cur.right\n",
    "#             print(cur.data)\n",
    "        else:\n",
    "            break\n",
    "def preorder(root):\n",
    "    if(root):\n",
    "        print(root.data)\n",
    "        preorder(root.left)\n",
    "        preorder(root.right)\n",
    "        \n",
    "root=Node(5)\n",
    "insert(root,2)\n",
    "insert(root,9)\n",
    "insert(root,8)\n",
    "insert(root,3)\n",
    "stin(root)\n",
    "# preorder(root)"
   ]
  },
  {
   "cell_type": "code",
   "execution_count": 203,
   "id": "78dad0dc",
   "metadata": {},
   "outputs": [
    {
     "name": "stdout",
     "output_type": "stream",
     "text": [
      "[1, 1, 1, 1, 0, 0, 0]\n",
      "[1, 1, 1, 1, 0, 0, 0]\n"
     ]
    }
   ],
   "source": [
    "def s(a):\n",
    "    eve,odd=0,len(a)-1\n",
    "    while(eve<odd):\n",
    "        if(not a[odd]):\n",
    "            odd-=1\n",
    "        else:\n",
    "            a[odd],a[eve]=a[eve],a[odd]\n",
    "            eve+=1\n",
    "    print(a)\n",
    "a=[1,0,1,1,0,1,0]\n",
    "s(a)\n",
    "s(a[:])"
   ]
  },
  {
   "cell_type": "code",
   "execution_count": 17,
   "id": "3ef27eaa",
   "metadata": {},
   "outputs": [
    {
     "name": "stdout",
     "output_type": "stream",
     "text": [
      "1 1 1 1 1 \n",
      "1 1 1 1 1 \n",
      "1 1 0 1 1 \n",
      "1 1 1 1 1 \n",
      "1 1 1 1 1 \n",
      "Nulllfied matrix\n",
      "1 1 x 1 1 \n",
      "1 1 x 1 1 \n",
      "x x x x x \n",
      "1 1 x 1 1 \n",
      "1 1 x 1 1 \n"
     ]
    }
   ],
   "source": [
    "def zero(mat):\n",
    "    m=len(mat)\n",
    "    n=len(mat[0])\n",
    "    c=[0]*m\n",
    "    r=[0]*n\n",
    "    for i in range(m):\n",
    "        for j in range(n):\n",
    "            if(mat[i][j]==0):\n",
    "                c[i]=1\n",
    "                r[j]=1\n",
    "    for i in range(m):\n",
    "        if(c[i]==1):\n",
    "#             print(i)\n",
    "            for j in range(n):\n",
    "                mat[i][j]='x'\n",
    "    for j in range(n):\n",
    "        if(r[j]==1):\n",
    "            for i in range(m):\n",
    "                mat[i][j]='x'\n",
    "def disp(mat):\n",
    "    for i in range(len(mat)):\n",
    "        for j in range(len(mat[0])):\n",
    "            print(mat[i][j],end=\" \")\n",
    "        print()\n",
    "mat=[[1,1,1,1,1],[1,1,1,1,1],[1,1,0,1,1],[1,1,1,1,1],[1,1,1,1,1]]\n",
    "disp(mat)\n",
    "zero(mat)\n",
    "print(\"Nulllfied matrix\")\n",
    "disp(mat)"
   ]
  },
  {
   "cell_type": "code",
   "execution_count": 95,
   "id": "18816823",
   "metadata": {},
   "outputs": [
    {
     "name": "stdout",
     "output_type": "stream",
     "text": [
      "3->5->6->7->8->13->15->51->\n",
      "Not complete binary search tree\n",
      "Not Perfect binary tree\n",
      "Not fully binary search tree\n",
      "Is height balanced: 1\n",
      "Sum of nodes: 108\n"
     ]
    }
   ],
   "source": [
    "class Node:\n",
    "    def __init__(self,data):\n",
    "        self.data=data\n",
    "        self.left=None\n",
    "        self.right=None\n",
    "def insert(root,data):\n",
    "    if(root==None):\n",
    "        return Node(data)\n",
    "    else:\n",
    "        if(root.data==data):\n",
    "            return root\n",
    "        elif(root.data<data):\n",
    "            root.right=insert(root.right,data)\n",
    "        else:\n",
    "            root.left=insert(root.left,data)\n",
    "    return root\n",
    "def inorder(root):\n",
    "    if(root):\n",
    "        inorder(root.left)\n",
    "        print(root.data,end=\"->\")\n",
    "        inorder(root.right)\n",
    "def stinorder(root):\n",
    "    st=[]\n",
    "    cur=root\n",
    "    while(1):\n",
    "        if(cur):\n",
    "            st.append(cur)\n",
    "            cur=cur.left\n",
    "        elif(st):\n",
    "            cur=st.pop()\n",
    "            print(cur.data,end=\"->\")\n",
    "            cur=cur.right\n",
    "#             st.append(cur.right)\n",
    "        else:\n",
    "            break\n",
    "def height(root):\n",
    "    if(not root):\n",
    "        return 0\n",
    "    return max(height(root.left), height(root.right))+1\n",
    "def numberOfNodes(root):\n",
    "    if(root==None):\n",
    "        return 0\n",
    "    else:\n",
    "        return numberOfNodes(root.left)+numberOfNodes(root.right)+1\n",
    "    \n",
    "# A perfect binary tree is a full binary tree in which all leaves are at the same depth, and in which\n",
    "# every parent has two children.   \n",
    "def isPerfectBST(root,h):\n",
    "#     print(numberOfNodes(root))\n",
    "    if(numberOfNodes(root)==(2**h-1)):\n",
    "        return 1\n",
    "    else:\n",
    "        return 0\n",
    "    \n",
    "# A full binary tree is a binary tree in which every node other than the leaves has two children.\n",
    "def isFullyBinaryTree(root):\n",
    "    if(root.left==None and root.right==None):\n",
    "        return 1\n",
    "    if(root.left==None or root.right==None):\n",
    "        return 0\n",
    "    else:\n",
    "        return isFullyBinaryTree(root.left) and isFullyBinaryTree(root.right)\n",
    "# A complete binary tree is a binary tree in which every level, except\n",
    "# possibly the last, is completely filled, and all nodes are as far left as possible.\n",
    "def isCompleteBST(root,index,nodes_count):\n",
    "    if root is None:\n",
    "        return 1\n",
    "#     print(\"index\",index)\n",
    "    if(index>=nodes_count):\n",
    "        return 0\n",
    "    return isCompleteBST(root.left,2*index+1,nodes_count) and isCompleteBST(root.right,2*index+2,nodes_count)\n",
    "\n",
    "def checkBSTType(root):\n",
    "    nodesCount=numberOfNodes(root)\n",
    "    h=height(root)\n",
    "    if(isCompleteBST(root,0,nodesCount)):\n",
    "        print(\"Complete binary search tree\")\n",
    "    else:\n",
    "        print(\"Not complete binary search tree\")\n",
    "    if(isPerfectBST(root,h)):\n",
    "        print(\"Perfect binary tree\")\n",
    "    else:\n",
    "        print(\"Not Perfect binary tree\")\n",
    "    if(isFullyBinaryTree(root)):\n",
    "        print(\"Fully binary search tree\")\n",
    "    else:\n",
    "        print(\"Not fully binary search tree\")\n",
    "\n",
    "def isHeightBalanced(root):\n",
    "    if(root==None):\n",
    "        return 1\n",
    "    l=height(root.left)\n",
    "    r=height(root.right)\n",
    "#     print(l,r)\n",
    "    if((abs(l-r)<=1) and isHeightBalanced(root.left)==1 and isHeightBalanced(root.right)==1):\n",
    "        return 1\n",
    "    return 0\n",
    "def sumOfNodes(root):\n",
    "    if(root is None):\n",
    "        return 0\n",
    "    return  sumOfNodes(root.left)+sumOfNodes(root.right)+root.data\n",
    "\n",
    "#check is symmetric\n",
    "def isSymmetric(root):\n",
    "    def check(l,r):\n",
    "        if l==None and r==None:\n",
    "            return 1\n",
    "        elif(l and r):\n",
    "            return (l.data==r.data) and check(l.left,r.right) and check(l.right,r.right)\n",
    "        return 0\n",
    "if __name__==\"__main__\":\n",
    "    root=Node(7)\n",
    "    insert(root,5)\n",
    "    insert(root,15)    \n",
    "    insert(root,51)    \n",
    "    insert(root,3)\n",
    "    insert(root,6)\n",
    "    insert(root,8)\n",
    "#     insert(root,14)\n",
    "    insert(root,13)\n",
    "    \n",
    "    stinorder(root)\n",
    "    print()\n",
    "    checkBSTType(root)\n",
    "    \n",
    "    print(\"Is height balanced:\",isHeightBalanced(root))\n",
    "    print(\"Sum of nodes:\",sumOfNodes(root))"
   ]
  },
  {
   "cell_type": "code",
   "execution_count": 24,
   "id": "b7a28fdd",
   "metadata": {},
   "outputs": [
    {
     "name": "stdout",
     "output_type": "stream",
     "text": [
      "[4]\n",
      "[1]\n",
      "[4, 1]\n",
      "[5]\n",
      "[1]\n",
      "[5, 1]\n",
      "[1, 1, 5, 1]\n"
     ]
    }
   ],
   "source": [
    "def ms(nums):\n",
    "    if(len(nums)>1):\n",
    "        m=len(nums)//2\n",
    "        l=nums[:m]\n",
    "        r=nums[m:]\n",
    "        ms(l)\n",
    "        ms(r)\n",
    "        i=j=k=0\n",
    "        while(i<len(l) and j<len(r)):\n",
    "            if(l[i]<r[i]):\n",
    "                nums[k]=l[i]\n",
    "                i+=1\n",
    "            else:\n",
    "                nums[k]=r[j]\n",
    "                j+=1\n",
    "            k+1\n",
    "        while(i<len(l)):\n",
    "            nums[k]=l[i]\n",
    "            i+=1\n",
    "            k+=1\n",
    "        while(j<len(r)):\n",
    "            nums[k]=r[j]\n",
    "            j+=1\n",
    "            k+=1\n",
    "    print(nums)\n",
    "ms([4,1,5,1])"
   ]
  },
  {
   "cell_type": "code",
   "execution_count": null,
   "id": "626187d7",
   "metadata": {},
   "outputs": [],
   "source": [
    "def restoreIp(s):\n",
    "    res=[]\n",
    "    dfs(s,res,0,\"\")\n",
    "    return res\n",
    "def dfs(s,res,ip,path):\n",
    "    if()"
   ]
  },
  {
   "cell_type": "code",
   "execution_count": 105,
   "id": "ba02f3a1",
   "metadata": {},
   "outputs": [
    {
     "name": "stdout",
     "output_type": "stream",
     "text": [
      "['how', 'are', 'u']\n",
      "h how\n",
      "e are\n",
      "l u\n"
     ]
    }
   ],
   "source": [
    "p=list('hel')\n",
    "s=list((\"how are u\").split(\" \"))\n",
    "print(s)\n",
    "for w1,w2 in zip(p, s):\n",
    "    print(w1,w2)"
   ]
  },
  {
   "cell_type": "code",
   "execution_count": 134,
   "id": "2923bc61",
   "metadata": {},
   "outputs": [
    {
     "data": {
      "text/plain": [
       "False"
      ]
     },
     "execution_count": 134,
     "metadata": {},
     "output_type": "execute_result"
    }
   ],
   "source": [
    "#valid parenthesis\n",
    "def isValid(s):\n",
    "    cnt=0\n",
    "    for i in s:\n",
    "        if(i=='('):\n",
    "            cnt+=1\n",
    "        if(i==')'):\n",
    "            cnt-=1\n",
    "        elif(cnt<0):\n",
    "            return -1\n",
    "    return cnt==0\n",
    "isValid('(())(')"
   ]
  },
  {
   "cell_type": "code",
   "execution_count": null,
   "id": "187d3f23",
   "metadata": {},
   "outputs": [],
   "source": []
  },
  {
   "cell_type": "code",
   "execution_count": 18,
   "id": "d39ef891",
   "metadata": {},
   "outputs": [
    {
     "name": "stdout",
     "output_type": "stream",
     "text": [
      "2->3->5->6->7->8->23->\n",
      "Height of the tree: 4\n",
      "6->2->8->5->7->23->3->\n",
      "Number of nodes: 7\n",
      "\n",
      "Number of internal nodes: 3\n",
      "\n",
      "Number of external nodes: 3\n",
      "Is fully BST 0\n"
     ]
    }
   ],
   "source": [
    "#binary search treee\n",
    "#1.inserting 2. inorder using stack 3.height 4.Number of nodes 5.type os BST 6.Level order traversal. 7.Symmetric \n",
    "class Node:\n",
    "    def __init__(self,data):\n",
    "        self.data=data\n",
    "        self.left=None\n",
    "        self.right=None\n",
    "def insert(root,data):\n",
    "    temp=Node(data)\n",
    "    if(root==None):\n",
    "        return temp\n",
    "    else:\n",
    "        if(root.data==data):\n",
    "            return \n",
    "        elif(root.data<data):\n",
    "            root.right=insert(root.right,data)\n",
    "        else:\n",
    "            root.left=insert(root.left,data)\n",
    "    return root\n",
    "def stackInorder(root):\n",
    "    st=[]\n",
    "    cur=root\n",
    "    while(1):\n",
    "        if(cur):\n",
    "            st.append(cur)\n",
    "            cur=cur.left\n",
    "        elif(st):\n",
    "            cur=st.pop()\n",
    "            print(cur.data,end=\"->\")\n",
    "            cur=cur.right\n",
    "        else:\n",
    "            break\n",
    "def height(root):\n",
    "    if(not root):\n",
    "        return 0\n",
    "    return max(height(root.left),height(root.right))+1\n",
    "def levelOrder(root):\n",
    "    h=height(root)\n",
    "    for i in range(1,h+1):\n",
    "        printLevelOrder(root,i)\n",
    "def printLevelOrder(root,level):\n",
    "    if(root==None):\n",
    "        return \n",
    "    if(level==1):\n",
    "        print(root.data,end=\"->\")\n",
    "    if(level>1):\n",
    "        printLevelOrder(root.left,level-1)\n",
    "        printLevelOrder(root.right,level-1)\n",
    "def numberOfNodes(root):\n",
    "    if(root==None):\n",
    "        return 0\n",
    "    return numberOfNodes(root.left)+numberOfNodes(root.right)+1\n",
    "def numberOfinternalNodes(root):\n",
    "    if(root==None):\n",
    "        return 0\n",
    "    if(root.left==None or root.right==None):\n",
    "        return 1\n",
    "    return numberOfinternalNodes(root.left)+numberOfinternalNodes(root.right)\n",
    "def isFullyBST(root):\n",
    "    if(root.left==None and root.right==None):\n",
    "        return 1\n",
    "    if(root.left==None or  root.right==None):\n",
    "        return 0\n",
    "    return isFullyBST(root.left) and isFullyBST(root.right)\n",
    "def isPerfect(root):\n",
    "    return 2**height(root)-1==numberOfNodes(root)\n",
    "    \n",
    "def numberOfexternalNodes(root):\n",
    "    if(root==None):\n",
    "        return 0\n",
    "    if(root.left==None and root.right==None):\n",
    "        return 1\n",
    "    return numberOfexternalNodes(root.left)+numberOfexternalNodes(root.right)\n",
    "# def height(root):\n",
    "#     if(not root):\n",
    "#         return 0\n",
    "#     return max(height(root.left), height(root.right))+1\n",
    "if __name__==\"__main__\":\n",
    "    root=Node(6)\n",
    "    insert(root,8)\n",
    "    insert(root,23)\n",
    "    insert(root,2)\n",
    "    insert(root,5)\n",
    "    insert(root,7)\n",
    "    insert(root,3)\n",
    "    stackInorder(root)\n",
    "    print(\"\\nHeight of the tree:\",height(root))\n",
    "    levelOrder(root)\n",
    "    print(\"\\nNumber of nodes:\",numberOfNodes(root))\n",
    "    print(\"\\nNumber of internal nodes:\",numberOfinternalNodes(root))\n",
    "    print(\"\\nNumber of external nodes:\",numberOfexternalNodes(root))\n",
    "    print(\"Is fully BST\",isFullyBST(root))"
   ]
  },
  {
   "cell_type": "code",
   "execution_count": 19,
   "id": "f15a3285",
   "metadata": {},
   "outputs": [
    {
     "data": {
      "text/plain": [
       "8"
      ]
     },
     "execution_count": 19,
     "metadata": {},
     "output_type": "execute_result"
    }
   ],
   "source": [
    "def maxSubProduct(nums):\n",
    "    mx,mn,res=1,1,float(\"-inf\")\n",
    "    for i in nums:\n",
    "        a,b=mn*i,mx*i\n",
    "        mn=min(a,b,i)\n",
    "        mx=max(a,b,i)\n",
    "        res=max(res,mx)\n",
    "    return res\n",
    "maxSubProduct([4,0,1,2,4,-1])"
   ]
  },
  {
   "cell_type": "code",
   "execution_count": 21,
   "id": "921d99c3",
   "metadata": {},
   "outputs": [
    {
     "data": {
      "text/plain": [
       "90"
      ]
     },
     "execution_count": 21,
     "metadata": {},
     "output_type": "execute_result"
    }
   ],
   "source": [
    "ord('Z')"
   ]
  },
  {
   "cell_type": "code",
   "execution_count": 23,
   "id": "e312ecbc",
   "metadata": {},
   "outputs": [
    {
     "data": {
      "text/plain": [
       "' '"
      ]
     },
     "execution_count": 23,
     "metadata": {},
     "output_type": "execute_result"
    }
   ],
   "source": [
    "chr(97-65)"
   ]
  },
  {
   "cell_type": "code",
   "execution_count": 24,
   "id": "227c78e3",
   "metadata": {},
   "outputs": [
    {
     "data": {
      "text/plain": [
       "32"
      ]
     },
     "execution_count": 24,
     "metadata": {},
     "output_type": "execute_result"
    }
   ],
   "source": [
    "97-65"
   ]
  },
  {
   "cell_type": "code",
   "execution_count": 49,
   "id": "7bb8778e",
   "metadata": {},
   "outputs": [
    {
     "data": {
      "text/plain": [
       "[3, 1, 2, 0]"
      ]
     },
     "execution_count": 49,
     "metadata": {},
     "output_type": "execute_result"
    }
   ],
   "source": [
    "def grayCode(n):\n",
    "    res=[]\n",
    "    gray=['0' for i in range(n)]\n",
    "    dfs(res,gray,1)\n",
    "    return res\n",
    "def dfs(res,gray,i):\n",
    "    if(i==-1):\n",
    "        res.append(int(''.join(gray),2))\n",
    "        return\n",
    "    gray[i]='1'\n",
    "    dfs(res,gray,i-1)\n",
    "    gray[i]='0'\n",
    "    dfs(res,gray,i-1)\n",
    "grayCode(2)"
   ]
  },
  {
   "cell_type": "code",
   "execution_count": 51,
   "id": "1d14f9fd",
   "metadata": {},
   "outputs": [
    {
     "data": {
      "text/plain": [
       "[[1, 2, 3], [1, 3, 2], [2, 1, 3], [2, 3, 1], [3, 1, 2], [3, 2, 1]]"
      ]
     },
     "execution_count": 51,
     "metadata": {},
     "output_type": "execute_result"
    }
   ],
   "source": [
    "def genPerm(nums):\n",
    "    res=[]\n",
    "    dfs(nums,res,[])\n",
    "    return res\n",
    "def dfs(nums,res,path):\n",
    "    if not nums:\n",
    "        res.append(path)\n",
    "        return \n",
    "    for i in range(len(nums)):\n",
    "        dfs(nums[:i]+nums[i+1:],res,path+[nums[i]])\n",
    "genPerm([1,2,3])"
   ]
  },
  {
   "cell_type": "code",
   "execution_count": 52,
   "id": "33ef883c",
   "metadata": {},
   "outputs": [
    {
     "data": {
      "text/plain": [
       "[[1, 1, 1], [1, 2], [3]]"
      ]
     },
     "execution_count": 52,
     "metadata": {},
     "output_type": "execute_result"
    }
   ],
   "source": [
    "def comb(nums,t):\n",
    "    res=[]\n",
    "    dfs(nums,t,res,[])\n",
    "    return res\n",
    "def dfs(nums,t,res,path):\n",
    "    if(t<0):\n",
    "        return \n",
    "    if(t==0):\n",
    "        res.append(path)\n",
    "        return \n",
    "    for i in range(len(nums)):\n",
    "        dfs(nums[i:],t-nums[i],res,path+[nums[i]])\n",
    "comb([1,2,3],3)"
   ]
  },
  {
   "cell_type": "code",
   "execution_count": 66,
   "id": "6a02d370",
   "metadata": {},
   "outputs": [
    {
     "data": {
      "text/plain": [
       "[[], [1], [1, 2], [1, 2, 3], [1, 3], [2], [2, 3], [3]]"
      ]
     },
     "execution_count": 66,
     "metadata": {},
     "output_type": "execute_result"
    }
   ],
   "source": [
    "def powerSet(nums):\n",
    "    res=[]\n",
    "    dfs(nums,res,[])\n",
    "    return res\n",
    "def dfs(nums,res,path):\n",
    "    res.append(path)\n",
    "    for i in range(len(nums)):\n",
    "        dfs(nums[i+1:],res,path+[nums[i]])\n",
    "powerSet([1,2,3])\n",
    "    "
   ]
  },
  {
   "cell_type": "code",
   "execution_count": 61,
   "id": "2c2d8eeb",
   "metadata": {},
   "outputs": [
    {
     "name": "stdout",
     "output_type": "stream",
     "text": [
      "[1, 5, 10, 10, 5, 1]\n"
     ]
    }
   ],
   "source": [
    "def pascal(n):\n",
    "    dp=[[1]*(i+1) for i in range(n+1)]\n",
    "    for i in range(n+1):\n",
    "        for j in range(1,i):\n",
    "            dp[i][j]=dp[i-1][j-1]+dp[i-1][j]\n",
    "    print(dp[n])\n",
    "pascal(5)"
   ]
  },
  {
   "cell_type": "code",
   "execution_count": 72,
   "id": "5e562b84",
   "metadata": {},
   "outputs": [
    {
     "name": "stdout",
     "output_type": "stream",
     "text": [
      "\n",
      "a\n",
      "as\n",
      "asb\n",
      "ab\n",
      "s\n",
      "sb\n",
      "b\n"
     ]
    }
   ],
   "source": [
    "def pwStr(a,path):\n",
    "    print(path)\n",
    "    for i in range(len(a)):\n",
    "        pwStr(a[i+1:],path+str(a[i]))\n",
    "pwStr('asb','')"
   ]
  },
  {
   "cell_type": "code",
   "execution_count": 3,
   "id": "73798bcc",
   "metadata": {},
   "outputs": [
    {
     "data": {
      "text/plain": [
       "['((()))', '(()())', '(())()', '()(())', '()()()']"
      ]
     },
     "execution_count": 3,
     "metadata": {},
     "output_type": "execute_result"
    }
   ],
   "source": [
    "def genParen(n):\n",
    "    res=[]\n",
    "    dfs(n,n,res,'')\n",
    "    return res\n",
    "def dfs(l,r,res,path):\n",
    "    if(l>r or l<0 or r<0):\n",
    "        return \n",
    "    if(l==0 and r==0):\n",
    "        res.append(path)\n",
    "    dfs(l-1,r,res,path+'(')\n",
    "    dfs(l,r-1,res,path+')')\n",
    "genParen(3)"
   ]
  },
  {
   "cell_type": "code",
   "execution_count": 10,
   "id": "49cc06d1",
   "metadata": {},
   "outputs": [
    {
     "data": {
      "text/plain": [
       "1"
      ]
     },
     "execution_count": 10,
     "metadata": {},
     "output_type": "execute_result"
    }
   ],
   "source": [
    "def isArraySorted(nums,n):\n",
    "    if(n==1):\n",
    "        return 1\n",
    "    return 0 if(nums[n-1]<nums[n-2]) else isArraySorted(nums,n-1)\n",
    "isArraySorted([1,2,2,3,4,5],5)"
   ]
  },
  {
   "cell_type": "code",
   "execution_count": 11,
   "id": "43688e98",
   "metadata": {},
   "outputs": [
    {
     "name": "stdout",
     "output_type": "stream",
     "text": [
      "[0, 0, 0]\n",
      "[1, 0, 0]\n",
      "[0, 1, 0]\n",
      "[1, 1, 0]\n",
      "[0, 0, 1]\n",
      "[1, 0, 1]\n",
      "[0, 1, 1]\n",
      "[1, 1, 1]\n"
     ]
    }
   ],
   "source": [
    "def binary(n):\n",
    "    if(n<1):\n",
    "        print(a)\n",
    "    else:\n",
    "        a[n-1]=0\n",
    "        binary(n-1)\n",
    "        a[n-1]=1\n",
    "        binary(n-1)\n",
    "a=[0,0,0]\n",
    "binary(3)"
   ]
  },
  {
   "cell_type": "code",
   "execution_count": 18,
   "id": "f213d6e8",
   "metadata": {},
   "outputs": [
    {
     "name": "stdout",
     "output_type": "stream",
     "text": [
      "[[0, 1, 2, 3], [1, 0, 1, 2], [2, 1, 1, 2], [3, 2, 1, 1], [4, 3, 2, 1], [5, 4, 3, 2]]\n"
     ]
    },
    {
     "data": {
      "text/plain": [
       "2"
      ]
     },
     "execution_count": 18,
     "metadata": {},
     "output_type": "execute_result"
    }
   ],
   "source": [
    "def editDist(s1,s2):\n",
    "    m=len(s1)+1\n",
    "    n=len(s2)+1\n",
    "    dp=[[0 for i in range(n)] for j in range(m)]\n",
    "    for i in range(m):\n",
    "        dp[i][0]=i\n",
    "    for j in range(n):\n",
    "        dp[0][j]=j\n",
    "    for i in range(1,m):\n",
    "        for j in range(1,n):\n",
    "            if(s1[i-1]==s2[j-1]):\n",
    "                dp[i][j]=dp[i-1][j-1]\n",
    "            else:\n",
    "                dp[i][j]=min(dp[i-1][j],dp[i][j-1],dp[i-1][j-1])+1\n",
    "    print(dp)\n",
    "    return dp[m-1][n-1]\n",
    "editDist('hello','hll')"
   ]
  },
  {
   "cell_type": "code",
   "execution_count": 24,
   "id": "f9c8f3e8",
   "metadata": {},
   "outputs": [
    {
     "data": {
      "text/plain": [
       "10"
      ]
     },
     "execution_count": 24,
     "metadata": {},
     "output_type": "execute_result"
    }
   ],
   "source": [
    "def paths(m,n,c={}):\n",
    "    if(m==0 and n==0):\n",
    "        return 0\n",
    "    if(m==0 or n==0):\n",
    "        return 1\n",
    "    if (m,n) not in c:\n",
    "        c[(m,n)]=paths(m-1,n)+paths(m,n-1)\n",
    "    return c[(m,n)]\n",
    "paths(2,3)"
   ]
  },
  {
   "cell_type": "code",
   "execution_count": 29,
   "id": "185a37ac",
   "metadata": {},
   "outputs": [
    {
     "data": {
      "text/plain": [
       "[[1, 1, 1], [1, 2], [3]]"
      ]
     },
     "execution_count": 29,
     "metadata": {},
     "output_type": "execute_result"
    }
   ],
   "source": [
    "def cT(nums,t):\n",
    "    res=[]\n",
    "    dfs(nums,t,res,[])\n",
    "    return res\n",
    "def dfs(nums,t,res,path):\n",
    "    if(t<0):\n",
    "        return \n",
    "    if(t==0):\n",
    "        res.append(path)\n",
    "        return \n",
    "    for i in range(len(nums)):\n",
    "        dfs(nums[i:],t-nums[i],res,path+[nums[i]])\n",
    "cT([1,2,3,4],3)"
   ]
  },
  {
   "cell_type": "code",
   "execution_count": 54,
   "id": "62d04edb",
   "metadata": {},
   "outputs": [
    {
     "data": {
      "text/plain": [
       "[[1, 1, 2], [1, 2, 1], [2, 1, 1]]"
      ]
     },
     "execution_count": 54,
     "metadata": {},
     "output_type": "execute_result"
    }
   ],
   "source": [
    "def per(nums):\n",
    "    res=[]\n",
    "    nums.sort()\n",
    "    dfs(nums,res,[])\n",
    "    return res\n",
    "def dfs(nums,res,path):\n",
    "    if not nums:\n",
    "        res.append(path)\n",
    "    for i in range(len(nums)):\n",
    "        if(i!=0 and (nums[i-1]==nums[i])):\n",
    "            continue\n",
    "        dfs(nums[i+1:]+nums[:i],res,path+[nums[i]])\n",
    "per([1,2,1])"
   ]
  },
  {
   "cell_type": "code",
   "execution_count": 59,
   "id": "13585e0f",
   "metadata": {},
   "outputs": [
    {
     "data": {
      "text/plain": [
       "[[1, 1, 1], [2, 1, 1], [2, 2, 1], [2, 2, 2]]"
      ]
     },
     "execution_count": 59,
     "metadata": {},
     "output_type": "execute_result"
    }
   ],
   "source": [
    "def l(n,c):\n",
    "    res=[]\n",
    "    dfs(res,[],n,c)\n",
    "    return res\n",
    "def dfs(res,path,n,c):\n",
    "    if not c:\n",
    "        res.append(path)\n",
    "        return\n",
    "    for i in range(1,n+1):\n",
    "        dfs(res,path+[i],i,c-1)\n",
    "l(2,3)"
   ]
  },
  {
   "cell_type": "code",
   "execution_count": 68,
   "id": "09eb1425",
   "metadata": {},
   "outputs": [],
   "source": [
    "a=['1', '2', '3', '4', '5']\n",
    "b=list(map(lambda x:int(x) ,a))"
   ]
  },
  {
   "cell_type": "code",
   "execution_count": 69,
   "id": "005a6b50",
   "metadata": {},
   "outputs": [
    {
     "data": {
      "text/plain": [
       "[1, 2, 3, 4, 5]"
      ]
     },
     "execution_count": 69,
     "metadata": {},
     "output_type": "execute_result"
    }
   ],
   "source": [
    "b"
   ]
  },
  {
   "cell_type": "code",
   "execution_count": 85,
   "id": "629c5cbf",
   "metadata": {},
   "outputs": [
    {
     "data": {
      "text/plain": [
       "['h', 'e', 'l', 'l', 'a', 'h', 'a', 'a', 'a']"
      ]
     },
     "execution_count": 85,
     "metadata": {},
     "output_type": "execute_result"
    }
   ],
   "source": [
    "s='Hell: aha aa'\n",
    "s=[i for i in s.lower() if i.isalnum()]\n",
    "s\n",
    "# s=map(isAlpha())"
   ]
  },
  {
   "cell_type": "code",
   "execution_count": 81,
   "id": "0633b881",
   "metadata": {},
   "outputs": [
    {
     "data": {
      "text/plain": [
       "False"
      ]
     },
     "execution_count": 81,
     "metadata": {},
     "output_type": "execute_result"
    }
   ],
   "source": [
    "s.isalpha()\n"
   ]
  },
  {
   "cell_type": "code",
   "execution_count": 11,
   "id": "d438ddbe",
   "metadata": {},
   "outputs": [
    {
     "name": "stdout",
     "output_type": "stream",
     "text": [
      "True\n"
     ]
    }
   ],
   "source": [
    "# Find loop in linked list\n",
    "class Node:\n",
    "    def __init__(self,data):\n",
    "        self.data=data\n",
    "        self.next=None\n",
    "def insert(root,data):\n",
    "    if(root==None):\n",
    "        return Node(data)\n",
    "    else: \n",
    "        p=root\n",
    "        while(p.next!=None):\n",
    "            p=p.next\n",
    "        p.next=Node(data)\n",
    "def detectLoop(root):\n",
    "    slow=root\n",
    "    fast=root\n",
    "    while(slow and fast and fast.next):\n",
    "        slow=slow.next\n",
    "        fast=fast.next.next\n",
    "        if(slow==fast):\n",
    "            return 1\n",
    "    return 0\n",
    "#reverse linked list\n",
    "def reverse(root):\n",
    "    prev=None\n",
    "    p=root\n",
    "    nxt=None\n",
    "    while(p):\n",
    "        nxt=p.next\n",
    "        p.next=prev\n",
    "        prev=p\n",
    "        p=nxt\n",
    "    root=prev\n",
    "    return root\n",
    "#Reverse a Linked List in groups of given size\n",
    "def revGrp(root,k):\n",
    "    if root==None:\n",
    "        return \n",
    "    prev=None\n",
    "    p=root\n",
    "    cnt=0\n",
    "    while(p and cnt<k):\n",
    "        nxt=p.next\n",
    "        p.next=prev\n",
    "        prev=p\n",
    "        p=nxt\n",
    "        cnt+=1\n",
    "    if nxt:\n",
    "        root.next=revGrp(nxt,k)\n",
    "    return prev\n",
    "def display(root):\n",
    "    if(root):\n",
    "        print(root.data,end=\"->\")\n",
    "        display(root.next)\n",
    "#mid element of linked list \n",
    "def findMid(root):\n",
    "    slow=root\n",
    "    fast=root\n",
    "    while(fast and fast.next):\n",
    "        slow=slow.next\n",
    "        fast=fast.next.next\n",
    "    if(fast):\n",
    "        slow=slow.next\n",
    "    print(slow.data)\n",
    "def isPalindrome(root):\n",
    "    p=root\n",
    "    st=[]\n",
    "    while(p):\n",
    "        st.append(p.data)\n",
    "        p=p.next\n",
    "    return st[::-1]==st\n",
    "#     q=root\n",
    "#     while(st):\n",
    "#         if(q.data!=st.pop()):\n",
    "#             return 0\n",
    "#         q=q.next\n",
    "#     return 1\n",
    "if __name__=='__main__':\n",
    "    root=Node(3)\n",
    "    insert(root,5)\n",
    "    insert(root,8)\n",
    "    insert(root,5)\n",
    "    insert(root,3)\n",
    "#     insert(root,12)\n",
    "#     insert(root,13)\n",
    "\n",
    "#     display(root)\n",
    "#     root=rev(root,4)\n",
    "#     print()\n",
    "#     display(root)\n",
    "#     print()\n",
    "#     findMid(root)\n",
    "    \n",
    "#     # Create a loop for testing\n",
    "#     root.next.next.next.next = root\n",
    "#     if(detectLoop(root)):\n",
    "#         print(\"Found Loop\")\n",
    "#     else:\n",
    "#         print(\"No Loop\")\n",
    "    print(isPalindrome(root))"
   ]
  },
  {
   "cell_type": "code",
   "execution_count": 23,
   "id": "6affb443",
   "metadata": {},
   "outputs": [
    {
     "data": {
      "text/plain": [
       "3"
      ]
     },
     "execution_count": 23,
     "metadata": {},
     "output_type": "execute_result"
    }
   ],
   "source": [
    "def paths(mat,m,n):\n",
    "    if(mat[0][0]==1):\n",
    "        return 0\n",
    "    mat[0][0]=1\n",
    "    for i in range(1,m):\n",
    "        mat[i][0]=int(mat[i][0]==0 and mat[i-1][0]==1)\n",
    "    for i in range(1,n):\n",
    "        mat[0][i]=int(mat[0][i]==0 and mat[0][i-1]==1)\n",
    "#     print(mat)\n",
    "    for i in range(1,m):\n",
    "        for j in range(1,n):\n",
    "            if(mat[i][j]==0):\n",
    "                mat[i][j]=mat[i-1][j]+mat[i][j-1]\n",
    "            else:\n",
    "                mat[i][j]=0\n",
    "    return mat[m-1][n-1]\n",
    "mat=[[0,0,0],[1,0,0],[0,0,0]]\n",
    "paths(mat,len(mat),len(mat[0]))"
   ]
  },
  {
   "cell_type": "code",
   "execution_count": 14,
   "id": "1bc8aad7",
   "metadata": {},
   "outputs": [
    {
     "data": {
      "text/plain": [
       "20"
      ]
     },
     "execution_count": 14,
     "metadata": {},
     "output_type": "execute_result"
    }
   ],
   "source": [
    "def path(m,n,c={}):\n",
    "    if(m==1 or n==1):\n",
    "        return 1\n",
    "    if (m,n) not in c:\n",
    "        c[(m,n)]=path(m-1,n)+path(m,n-1)\n",
    "    return c[(m,n)] \n",
    "path(4,4)"
   ]
  },
  {
   "cell_type": "code",
   "execution_count": 104,
   "id": "8d269f2c",
   "metadata": {},
   "outputs": [
    {
     "name": "stdout",
     "output_type": "stream",
     "text": [
      "['geek', 'geeks', 'geeksforgeeks', 'geezer']\n",
      "gee\n"
     ]
    }
   ],
   "source": [
    "arr = [\"geeksforgeeks\", \"geeks\",\"geek\", \"geezer\"]\n",
    "arr.sort()\n",
    "print(arr)\n",
    "s1,s2=arr[0],arr[-1]\n",
    "# print(s1,s2)\n",
    "i=j=0\n",
    "while(i<len(s1) and j<len(s2)):\n",
    "    if(s1[i]!=s2[j]):\n",
    "        print(s1[:i])\n",
    "        break\n",
    "#     print(i,j)\n",
    "    i+=1\n",
    "    j+=1"
   ]
  },
  {
   "cell_type": "code",
   "execution_count": 121,
   "id": "bb7bc8bb",
   "metadata": {},
   "outputs": [
    {
     "data": {
      "text/plain": [
       "[['tea', 'ate'], ['bat', 'tab']]"
      ]
     },
     "execution_count": 121,
     "metadata": {},
     "output_type": "execute_result"
    }
   ],
   "source": [
    "def anagrams(words):\n",
    "    dic={}\n",
    "    for i in words:\n",
    "        k=tuple(sorted(i))\n",
    "        dic[k]=dic.get(k,[])+[i]\n",
    "    return list(dic.values())\n",
    "anagrams(['tea','bat','ate','tab'])"
   ]
  },
  {
   "cell_type": "code",
   "execution_count": 115,
   "id": "6c174685",
   "metadata": {},
   "outputs": [
    {
     "name": "stdout",
     "output_type": "stream",
     "text": [
      "* \n",
      "* * \n",
      "* * * \n",
      "* * * * \n"
     ]
    }
   ],
   "source": [
    "def pyramid(n):\n",
    "    for i in range(n):\n",
    "        for j in range(i+1):\n",
    "            print(\"*\",end=\" \")\n",
    "        print()\n",
    "pyramid(4)"
   ]
  },
  {
   "cell_type": "code",
   "execution_count": 124,
   "id": "ac6523a6",
   "metadata": {},
   "outputs": [
    {
     "name": "stdout",
     "output_type": "stream",
     "text": [
      "Zero is not present in the array\n"
     ]
    }
   ],
   "source": [
    "arr=[10,20,30,40,50,60,70,80,90]\n",
    "for item in arr:\n",
    "    if item==0:\n",
    "        print(\"Zero is present\")\n",
    "        break\n",
    "else:\n",
    "    print(\"Zero is not present in the array\")"
   ]
  },
  {
   "cell_type": "markdown",
   "id": "8cd0fe7b",
   "metadata": {},
   "source": [
    "<h1>List comprehension"
   ]
  },
  {
   "cell_type": "code",
   "execution_count": 133,
   "id": "fa0a2a52",
   "metadata": {},
   "outputs": [
    {
     "data": {
      "text/plain": [
       "[1, 4, 9, 16, 25, 36, 49, 64, 81, 100]"
      ]
     },
     "execution_count": 133,
     "metadata": {},
     "output_type": "execute_result"
    }
   ],
   "source": [
    "list_of_squares=[x**2 for x in range(1,11)]\n",
    "list_of_squares"
   ]
  },
  {
   "cell_type": "code",
   "execution_count": 129,
   "id": "6574f1ee",
   "metadata": {},
   "outputs": [
    {
     "data": {
      "text/plain": [
       "[1, 9, 25, 49, 81]"
      ]
     },
     "execution_count": 129,
     "metadata": {},
     "output_type": "execute_result"
    }
   ],
   "source": [
    "list_of_odd_sq=[x**2 for x in range(1,11) if x%2]\n",
    "list_of_odd_sq"
   ]
  },
  {
   "cell_type": "code",
   "execution_count": 132,
   "id": "8bdd9d53",
   "metadata": {},
   "outputs": [
    {
     "data": {
      "text/plain": [
       "[27, 38, 51, 66, 83, 102]"
      ]
     },
     "execution_count": 132,
     "metadata": {},
     "output_type": "execute_result"
    }
   ],
   "source": [
    "def quadratic(x):\n",
    "    return x**2+2*x+3\n",
    "l=[quadratic(x) for x in range(4,10)]\n",
    "l"
   ]
  },
  {
   "cell_type": "markdown",
   "id": "fd5bd693",
   "metadata": {},
   "source": [
    "<h1>MAP"
   ]
  },
  {
   "cell_type": "code",
   "execution_count": 135,
   "id": "a9cb5ef8",
   "metadata": {},
   "outputs": [
    {
     "data": {
      "text/plain": [
       "18"
      ]
     },
     "execution_count": 135,
     "metadata": {},
     "output_type": "execute_result"
    }
   ],
   "source": [
    "quad=lambda x:x**2+2*x+3\n",
    "quad(3)"
   ]
  },
  {
   "cell_type": "code",
   "execution_count": 138,
   "id": "9a6e90ce",
   "metadata": {},
   "outputs": [
    {
     "data": {
      "text/plain": [
       "[1, 4, 9, 16, 25, 36, 49, 64, 81]"
      ]
     },
     "execution_count": 138,
     "metadata": {},
     "output_type": "execute_result"
    }
   ],
   "source": [
    "#Square of arrays\n",
    "arr=range(1,10)\n",
    "arr_sq=map(lambda x:x**2,arr)\n",
    "list(arr_sq)"
   ]
  },
  {
   "cell_type": "code",
   "execution_count": 140,
   "id": "97caf373",
   "metadata": {},
   "outputs": [
    {
     "data": {
      "text/plain": [
       "['HERM', 'KISAN', 'TANGLE']"
      ]
     },
     "execution_count": 140,
     "metadata": {},
     "output_type": "execute_result"
    }
   ],
   "source": [
    "#Upper case \n",
    "def upperCase(x):\n",
    "    return x.upper()\n",
    "lower=['herm','kisan','tangle']\n",
    "up=map(upperCase,lower)\n",
    "list(up)"
   ]
  },
  {
   "cell_type": "markdown",
   "id": "737b36bc",
   "metadata": {},
   "source": [
    "<h1>Filter"
   ]
  },
  {
   "cell_type": "code",
   "execution_count": 144,
   "id": "d4bda507",
   "metadata": {},
   "outputs": [
    {
     "name": "stdout",
     "output_type": "stream",
     "text": [
      "[13, 14, 15, 16, 17, 18, 19]\n"
     ]
    }
   ],
   "source": [
    "arr=range(1,20)\n",
    "l=filter(lambda x:x>12,arr)\n",
    "print(list(l))"
   ]
  },
  {
   "cell_type": "code",
   "execution_count": 154,
   "id": "03fa64cd",
   "metadata": {},
   "outputs": [
    {
     "data": {
      "text/plain": [
       "[1, 2, 3, 5, 7, 11, 13, 17, 19, 23, 29, 31, 37, 41, 43, 47]"
      ]
     },
     "execution_count": 154,
     "metadata": {},
     "output_type": "execute_result"
    }
   ],
   "source": [
    "arr=range(1,50)\n",
    "def prime(x):\n",
    "    if(x<4):\n",
    "        return 1\n",
    "    if(x%2==0 or x%3==0):\n",
    "        return 0\n",
    "    for i in range(4,x//2):\n",
    "        if(x%i==0):\n",
    "            return 0\n",
    "    return 1\n",
    "l=filter(prime,arr)\n",
    "list(l)"
   ]
  },
  {
   "cell_type": "code",
   "execution_count": 4,
   "id": "cedf7cef",
   "metadata": {},
   "outputs": [
    {
     "name": "stdout",
     "output_type": "stream",
     "text": [
      "2\n",
      "7\n",
      "12\n",
      "15\n",
      "16\n",
      "19\n",
      "21\n",
      "41\n",
      "82\n",
      "95\n"
     ]
    }
   ],
   "source": [
    "class Node:\n",
    "    def __init__(self,data):\n",
    "        self.data=data\n",
    "        self.left=None\n",
    "        self.right=None\n",
    "def insert(root,data):\n",
    "    if(root==None):\n",
    "        return Node(data)\n",
    "    else:\n",
    "        if(root.data==data):\n",
    "            return \n",
    "        elif(root.data>data):\n",
    "            root.left=insert(root.left,data)\n",
    "        else:\n",
    "            root.right=insert(root.right,data)\n",
    "    return root\n",
    "def  inorder(root):\n",
    "    if root:\n",
    "        inorder(root.left)\n",
    "        print(root.data)\n",
    "        inorder(root.right)\n",
    "def burn(root,target):\n",
    "    \n",
    "root=Node(12)\n",
    "insert(root,19)\n",
    "insert(root,82)\n",
    "insert(root,41)\n",
    "insert(root,15)\n",
    "insert(root,95)\n",
    "insert(root,2)\n",
    "insert(root,21)\n",
    "insert(root,7)\n",
    "insert(root,16)\n",
    "inorder(root)"
   ]
  },
  {
   "cell_type": "code",
   "execution_count": 20,
   "id": "44006216",
   "metadata": {},
   "outputs": [
    {
     "data": {
      "text/plain": [
       "(4, [1, 2, 3, 4, 0, 0, 0, 0, 0, 0])"
      ]
     },
     "execution_count": 20,
     "metadata": {},
     "output_type": "execute_result"
    }
   ],
   "source": [
    "#Delete duplicates from sorted array\n",
    "def deleteDup(nums):\n",
    "    j=c=0\n",
    "    for i in range(1,len(nums)):\n",
    "        if(nums[j]==nums[i]): nums[i]=0\n",
    "        else: j=i\n",
    "    for i in range(len(nums)):\n",
    "        if(nums[i]!=0):\n",
    "            nums[i],nums[c]=nums[c],nums[i]\n",
    "            c+=1\n",
    "    return c,nums\n",
    "deleteDup([1,1,2,2,2,2,3,3,3,4])"
   ]
  },
  {
   "cell_type": "code",
   "execution_count": null,
   "id": "a2aaec25",
   "metadata": {},
   "outputs": [],
   "source": []
  }
 ],
 "metadata": {
  "kernelspec": {
   "display_name": "Python 3",
   "language": "python",
   "name": "python3"
  },
  "language_info": {
   "codemirror_mode": {
    "name": "ipython",
    "version": 3
   },
   "file_extension": ".py",
   "mimetype": "text/x-python",
   "name": "python",
   "nbconvert_exporter": "python",
   "pygments_lexer": "ipython3",
   "version": "3.9.5"
  }
 },
 "nbformat": 4,
 "nbformat_minor": 5
}
