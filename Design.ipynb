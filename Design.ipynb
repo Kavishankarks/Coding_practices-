{
 "cells": [
  {
   "cell_type": "markdown",
   "id": "c03f8fd4",
   "metadata": {},
   "source": [
    "1.Design LRU_Cache\n",
    "2.Design Queue using two stacks\n"
   ]
  },
  {
   "cell_type": "code",
   "execution_count": null,
   "id": "29a4474e",
   "metadata": {},
   "outputs": [],
   "source": [
    "#LRU cache usign doubly linked list\n",
    "class Node:\n",
    "    def __init__(self,key,val):\n",
    "        self.key=key\n",
    "        self.val=val\n",
    "        self.prev=None\n",
    "        self.next=None\n",
    "\n",
    "class LRUCache:\n",
    "    def __init__(self,capacity):\n",
    "        self.capacity=capacity\n",
    "        self.dic=dict()\n",
    "        self.head=Node(0,0)\n",
    "        self.tail=Node(0,0)\n",
    "        self.head.next=self.tail\n",
    "        self.tail.prev=self.head\n",
    "    \n",
    "    def get(self,key):\n",
    "        if key in self.dic:\n",
    "            n=self.dic[key]\n",
    "            self.remove(n)\n",
    "            self.add(n)\n",
    "            return n.val\n",
    "        return -1\n",
    "    def put(self,key,val):\n",
    "        if key in self.dic:\n",
    "            self.remove(self.dic[key])\n",
    "        n=Node(key,val)\n",
    "        self.add(n)\n",
    "        self.dic[key]=n\n",
    "        if len(self.dic)>self.capacity:\n",
    "            n=self.head.next\n",
    "            self.remove(n)\n",
    "            del self.dic[n.key]\n",
    "            \n",
    "    def remove(self,node):\n",
    "        p=node.prev\n",
    "        n=node.next\n",
    "        p.next=n\n",
    "        n.prev=p\n",
    "        \n",
    "    def add(self,node):\n",
    "        p=self.tail.prev\n",
    "        p.next=node\n",
    "        self.tail.prev=node\n",
    "        node.prev=p\n",
    "        node.next=self.tail\n",
    "        "
   ]
  },
  {
   "cell_type": "code",
   "execution_count": 21,
   "id": "2556c7b6",
   "metadata": {},
   "outputs": [
    {
     "name": "stdout",
     "output_type": "stream",
     "text": [
      "OrderedDict([(2, 4)])\n",
      "OrderedDict([(2, 4), (5, 7)])\n",
      "OrderedDict([(5, 7), (3, 5)])\n"
     ]
    },
    {
     "data": {
      "text/plain": [
       "7"
      ]
     },
     "execution_count": 21,
     "metadata": {},
     "output_type": "execute_result"
    }
   ],
   "source": [
    "#lru cache using orderedDict\n",
    "from collections import OrderedDict\n",
    "class LRUCache:\n",
    "    def __init__(self,capacity):\n",
    "        self.capacity=capacity\n",
    "        self.lru_cache=OrderedDict()\n",
    "    \n",
    "    def get(self,key):\n",
    "        if key in self.lru_cache:\n",
    "            val=self.lru_cache[key]\n",
    "            del self.lru_cache[key]\n",
    "            self.lru_cache[key]=val\n",
    "            return val\n",
    "        return -1\n",
    "    def put(self,key,value):\n",
    "        if key in self.lru_cache:\n",
    "            del self.lru_cache[key]\n",
    "            self.lru_cache[key]=value\n",
    "        else:\n",
    "            self.lru_cache[key]=value\n",
    "            if len(self.lru_cache)>self.capacity:\n",
    "                self.lru_cache.popitem(0)\n",
    "        print(self.lru_cache)\n",
    "lru=LRUCache(2)\n",
    "lru.get(3)\n",
    "lru.put(2,4)\n",
    "lru.put(5,7)\n",
    "lru.get(5)\n",
    "lru.put(3,5)\n",
    "lru.get(5)"
   ]
  },
  {
   "cell_type": "code",
   "execution_count": 11,
   "id": "25f7c8c0",
   "metadata": {},
   "outputs": [
    {
     "data": {
      "text/plain": [
       "7"
      ]
     },
     "execution_count": 11,
     "metadata": {},
     "output_type": "execute_result"
    }
   ],
   "source": [
    "#Queue using two stacks\n",
    "class Queue:\n",
    "    def __init__(self):\n",
    "        self.enq, self.deq=[],[]\n",
    "    \n",
    "    def enque(self,data):\n",
    "        self.enq.append(data)\n",
    "    \n",
    "    def deque(self):\n",
    "        if not self.deq:\n",
    "            while self.enq:\n",
    "                self.deq.append(self.enq.pop())\n",
    "        if not self.deq:\n",
    "            return 'empty queue'\n",
    "        return self.deq.pop()\n",
    "q=Queue()\n",
    "# q.enque(4)\n",
    "# q.enque(5)\n",
    "# q.enque(3)\n",
    "q.deque()"
   ]
  },
  {
   "cell_type": "code",
   "execution_count": 11,
   "id": "e8bfa599",
   "metadata": {},
   "outputs": [
    {
     "data": {
      "text/plain": [
       "-2"
      ]
     },
     "execution_count": 11,
     "metadata": {},
     "output_type": "execute_result"
    }
   ],
   "source": [
    "class Calculator:\n",
    "    def evaluate(self,expression):\n",
    "        return round(eval(expression),12)\n",
    "obj=Calculator()\n",
    "obj.evaluate(\"12-14\")"
   ]
  },
  {
   "cell_type": "code",
   "execution_count": 15,
   "id": "66f834c2",
   "metadata": {},
   "outputs": [
    {
     "data": {
      "text/plain": [
       "1"
      ]
     },
     "execution_count": 15,
     "metadata": {},
     "output_type": "execute_result"
    }
   ],
   "source": [
    "# Problem 1\n",
    "# Given a list of numbers, return whether any two sums to k. For example, given [10, 15, 3, 7] and k of 17, return true since 10 + 7 is 17.\n",
    "# Bonus: Can you do this in one pass?\n",
    "def twoSum(arr,k):\n",
    "    dic={}\n",
    "    for i in arr:\n",
    "        if(i in dic):\n",
    "            return 1\n",
    "        else:\n",
    "            dic[k-i]=i\n",
    "twoSum([10,15,0,3,7],15)"
   ]
  },
  {
   "cell_type": "code",
   "execution_count": 52,
   "id": "7acbd0d2",
   "metadata": {},
   "outputs": [
    {
     "name": "stdout",
     "output_type": "stream",
     "text": [
      "[120, 60, 40, 30, 24]\n"
     ]
    }
   ],
   "source": [
    "# Problem 2\n",
    "# This problem was asked by Uber.\n",
    "# Given an array of integers, return a new array such that each element at index i of the new array is the product \n",
    "# of all the numbers in the original array except the one at i.\n",
    "# For example, if our input was [1, 2, 3, 4, 5], the expected output would be [120, 60, 40, 30, 24]. \n",
    "# If our input was [3, 2, 1], the expected output would be [2, 3, 6].\n",
    "# Follow-up: what if you can't use division?\n",
    "a=[1,2,3,4,5]\n",
    "b=[i for i in a]\n",
    "for i in range(1,len(a)):\n",
    "    a[i]*=a[i-1]\n",
    "m=a[-1]\n",
    "for i in range(len(b)):\n",
    "    a[i]=int(m/b[i])\n",
    "print(a)\n",
    "\n",
    "#implement followup\n"
   ]
  },
  {
   "cell_type": "code",
   "execution_count": null,
   "id": "2fd6bffa",
   "metadata": {},
   "outputs": [],
   "source": [
    "#Design queue using stack\n",
    "class MyQueue:\n",
    "    def __init__(self):\n",
    "        \"\"\"\n",
    "        Initialize your data structure here.\n",
    "        \"\"\"\n",
    "        self.s1=[]\n",
    "        self.s2=[]\n",
    "\n",
    "    def push(self, x: int) -> None:\n",
    "        \"\"\"\n",
    "        Push element x to the back of queue.\n",
    "        \"\"\"\n",
    "        self.s1.append(x)\n",
    "        \n",
    "    def pop(self) -> int:\n",
    "        \"\"\"\n",
    "        Removes the element from in front of queue and returns that element.\n",
    "        \"\"\"\n",
    "        if not self.s1:\n",
    "            return 0\n",
    "        while self.s1:\n",
    "            self.s2.append(self.s1.pop())\n",
    "        ele=self.s2.pop()\n",
    "        while self.s2:\n",
    "            self.s1.append(self.s2.pop())\n",
    "        self.s2=[]\n",
    "        return ele\n",
    "        \n",
    "    def peek(self) -> int:\n",
    "        \"\"\"\n",
    "        Get the front element.\n",
    "        \"\"\"\n",
    "        return self.s1[0]\n",
    "\n",
    "    def empty(self) -> bool:\n",
    "        \"\"\"\n",
    "        Returns whether the queue is empty.\n",
    "        \"\"\"\n",
    "        if self.s1:\n",
    "            return 0\n",
    "        else:\n",
    "            return 1\n",
    "        \n",
    "\n",
    "\n",
    "# Your MyQueue object will be instantiated and called as such:\n",
    "# obj = MyQueue()\n",
    "# obj.push(x)\n",
    "# param_2 = obj.pop()\n",
    "# param_3 = obj.peek()\n",
    "# param_4 = obj.empty()"
   ]
  },
  {
   "cell_type": "code",
   "execution_count": null,
   "id": "2b71565e",
   "metadata": {},
   "outputs": [],
   "source": [
    "class PeekingIterator(object):\n",
    "    def __init__(self, iterator):\n",
    "        self.iter = iterator\n",
    "        self.temp = self.iter.next() if self.iter.hasNext() else None\n",
    "\n",
    "    def peek(self):\n",
    "        return self.temp\n",
    "\n",
    "    def next(self):\n",
    "        ret = self.temp\n",
    "        self.temp = self.iter.next() if self.iter.hasNext() else None\n",
    "        return ret\n",
    "\n",
    "    def hasNext(self):\n",
    "        return self.temp is not None\n"
   ]
  }
 ],
 "metadata": {
  "kernelspec": {
   "display_name": "Python 3",
   "language": "python",
   "name": "python3"
  },
  "language_info": {
   "codemirror_mode": {
    "name": "ipython",
    "version": 3
   },
   "file_extension": ".py",
   "mimetype": "text/x-python",
   "name": "python",
   "nbconvert_exporter": "python",
   "pygments_lexer": "ipython3",
   "version": "3.9.5"
  }
 },
 "nbformat": 4,
 "nbformat_minor": 5
}
